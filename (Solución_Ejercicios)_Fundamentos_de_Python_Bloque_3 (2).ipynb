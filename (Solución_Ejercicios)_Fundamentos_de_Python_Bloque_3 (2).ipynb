{
  "nbformat": 4,
  "nbformat_minor": 0,
  "metadata": {
    "colab": {
      "name": "(Solución Ejercicios) Fundamentos de Python - Bloque 3.ipynb",
      "provenance": [],
      "collapsed_sections": []
    },
    "kernelspec": {
      "name": "python3",
      "display_name": "Python 3"
    }
  },
  "cells": [
    {
      "cell_type": "markdown",
      "metadata": {
        "id": "TkPEYWgXc4pj"
      },
      "source": [
        "# **Fundamentos de Python**\n",
        "### **Bloque 3 -** *Librerías Numpy, Scipy y Matplotlib .*\n",
        "\n",
        "---\n",
        "*Consejos de uso de Google Colab:*\n",
        "\n",
        "*   Puedes consultar la documentación sobre una función escribiendo **?** justo después de una función: *Ejemplo: np.maximum?*\n",
        "*   Puedes ejecutar el contenido de una celda con el atajo de teclado **CTRL+ENTER**\n",
        "*   Utiliza **TAB** cada vez que quieras autocompletar una llamada a una función.\n",
        "*   Puedes ejecutar instrucciones de bash directamente desde el notebook usando **!** : *Ejemplo: !pip install tensorflow*\n"
      ]
    },
    {
      "cell_type": "markdown",
      "metadata": {
        "id": "8dhwcvKwz0UC"
      },
      "source": [
        "## Librerías de Python para el procesamiento de datos.\n",
        "---\n",
        "Uno de los elementos que hace tan atractivo a Python como lenguaje a utilizar para procesamiento de datos es su amplio ecosistema de librerías, que nos asistirán aportando métodos, clases y demás utilidades para contar con las herramientas suficientes en cada etapa del ciclo de trabajo del Data Scientist.\n",
        "\n",
        "En particular, en este módulo trabajaremos con 5 de las librerías más importantes. Estas son ***Numpy***, ***Scipy***, ***Matplotlib***, ***Pandas*** y ***Sklearn***. En el bloque de hoy trabajaremos las 3 primeras."
      ]
    },
    {
      "cell_type": "markdown",
      "metadata": {
        "id": "2mZeg9zOS2tz"
      },
      "source": [
        "## Los datos.\n",
        "Para algunos de los ejemplos que veremos a continuación necesitaremos trabajar con algún archivo de datos. En nuestro caso, trabajaremos con el dataset de las flores que hemos visto en este bloque teórico.\n",
        "\n",
        "***PROBLEMÁTICA : Clasificar los tipos de flores según sus características.*** \n",
        "\n",
        "<img src=https://gadictos.com/wp-content/uploads/2019/03/iris-machinelearning.png width=\"400px\"> </img>\n",
        "\n",
        "    \n",
        "    Información de los datos  (150 flores x 4 atributos)\n",
        "     ------------\n",
        "    Col0 - sepal length in cm\n",
        "    Col1 - sepal width in cm\n",
        "    Col2 - petal length in cm\n",
        "    Col3 - petal width in cm\n",
        "    \n",
        "    0 : Iris-Setosa\n",
        "    1 : Iris-Versicolour\n",
        "    2 : Iris-Virginica"
      ]
    },
    {
      "cell_type": "markdown",
      "metadata": {
        "id": "eFZrVVnuUEPD"
      },
      "source": [
        "Teneis disponible en el campus virtual un archivo llamado `iris.csv` que podréis cargar a esta máquina virtual en Google Colab clickando en el icono de la carpeta en el menú lateral de la izquierda. Ahí podéis clickar en el botón \"↑ Subir\" y esto te permitirá cargar un archivo desde tu ordenador a la máquina virtual de Google Colab. Podrás ver los archivos que cargues en este menú lateral. **¡Ojo! cada vez que te conectas a Google Colab, se te asigna una máquina virtual diferente, y por tanto tendrás que volver a cargar estos archivos de nuevo.**\n",
        "\n",
        "---\n",
        "\n",
        "<img width=\"400px\" style=\"border-style: solid;\" src=\"https://i.imgur.com/DuNMNYL.png\"></img>\n",
        "\n",
        "---\n",
        "\n",
        "\n"
      ]
    },
    {
      "cell_type": "markdown",
      "metadata": {
        "id": "R6FlLsSBQnuk"
      },
      "source": [
        "##🔢 Librería Numpy.\n",
        "\n",
        "Las matrices y los vectores serán las estructuras con las que almacenaremos nuestros datos para su correcto tratamiento en la fase de analisis. Numpy es una de las librerías fundamentales para ello, la cuál no solo nos aportará las clases necesarias para crear, seleccionar y transformar matrices, sino que además viene acompañada de numerosos métodos para facilitar el cálculo matemático.\n",
        "\n",
        "Para crear una matriz en Numpy podemos acudir a diversas estrategias:"
      ]
    },
    {
      "cell_type": "code",
      "metadata": {
        "id": "x8Fj2-q146bO"
      },
      "source": [
        "import numpy as np"
      ],
      "execution_count": null,
      "outputs": []
    },
    {
      "cell_type": "code",
      "metadata": {
        "id": "Ushuqdz307pX",
        "colab": {
          "base_uri": "https://localhost:8080/"
        },
        "outputId": "7ddd8f59-be3b-46a1-a9f4-95c0d1956b4c"
      },
      "source": [
        "# Matriz a partir de lista de listas.\n",
        "mat1 = np.array([[2.3, 5.1],            \n",
        "                 [8.1, 1.4]])\n",
        "\n",
        "print(\"\\nMatriz a partir de listas.\\n\", mat1)\n",
        "\n",
        "# Matriz a partir de funciones de Numpy.\n",
        "mat2 = np.zeros((2, 2))                \n",
        "print(\"\\nMatriz a partir de funciones de Numpy.\\n\", mat2)\n",
        "\n",
        "# Matriz a partir de tabla de datos.\n",
        "iris = np.loadtxt('./iris.csv', skiprows=1, delimiter=',')  \n",
        "print(\"\\nMatriz a partir de archivo de datos.\\n\", iris.shape)"
      ],
      "execution_count": null,
      "outputs": [
        {
          "output_type": "stream",
          "text": [
            "\n",
            "Matriz a partir de listas.\n",
            " [[2.3 5.1]\n",
            " [8.1 1.4]]\n",
            "\n",
            "Matriz a partir de funciones de Numpy.\n",
            " [[0. 0.]\n",
            " [0. 0.]]\n",
            "\n",
            "Matriz a partir de archivo de datos.\n",
            " (150, 5)\n"
          ],
          "name": "stdout"
        }
      ]
    },
    {
      "cell_type": "code",
      "metadata": {
        "id": "McsrT46Y170_",
        "colab": {
          "base_uri": "https://localhost:8080/"
        },
        "outputId": "7a0bb1ae-ce49-4031-f739-94911ca39043"
      },
      "source": [
        "# Crear matriz nueva de 2x2.\n",
        "mat1 = np.array([[1, 2], [3, 4]])\n",
        "print(mat1, '\\n')\n",
        "# Crear matriz de unos.\n",
        "mat2 = np.ones((2,2))\n",
        "print(mat2, '\\n')\n",
        "# Comprobar dimensiones de la matriz.\n",
        "print(mat2.shape, '\\n')\n",
        "# Sumar/Restas las matrices.\n",
        "matS = mat1 + mat2\n",
        "print(matS, '\\n')\n",
        "# Multiplicar por un escalar.\n",
        "matE = mat1 * 2\n",
        "print(matE, '\\n')\n",
        "# Trasponer una matriz.\n",
        "print(mat1.T, '\\n')\n",
        "# Multiplicación matricial.\n",
        "print(np.matmul(mat1, mat2), '\\n')\n",
        "print(mat1 @ mat2, '\\n') # - operador de multiplicación matricial.\n",
        "# Inversa de una matriz.\n",
        "print(np.linalg.inv(mat1), '\\n')"
      ],
      "execution_count": null,
      "outputs": [
        {
          "output_type": "stream",
          "text": [
            "[[1 2]\n",
            " [3 4]] \n",
            "\n",
            "[[1. 1.]\n",
            " [1. 1.]] \n",
            "\n",
            "(2, 2) \n",
            "\n",
            "[[2. 3.]\n",
            " [4. 5.]] \n",
            "\n",
            "[[2 4]\n",
            " [6 8]] \n",
            "\n",
            "[[1 3]\n",
            " [2 4]] \n",
            "\n",
            "[[3. 3.]\n",
            " [7. 7.]] \n",
            "\n",
            "[[3. 3.]\n",
            " [7. 7.]] \n",
            "\n",
            "[[-2.   1. ]\n",
            " [ 1.5 -0.5]] \n",
            "\n"
          ],
          "name": "stdout"
        }
      ]
    },
    {
      "cell_type": "code",
      "metadata": {
        "id": "-p3Z9Bc8kATO",
        "colab": {
          "base_uri": "https://localhost:8080/"
        },
        "outputId": "8e018730-1c34-42f4-fda8-8efe90ccb88f"
      },
      "source": [
        "# Crear una matriz con valores del 1 al 9 de manera rápida.\n",
        "mat = np.arange(1, 10).reshape((3,3))\n",
        "print(mat, '\\n')\n",
        "# Seleccionar fila 2, columna 2.\n",
        "print(mat[1, 1], '\\n')\n",
        "# Seleccionar fila 2 completa.\n",
        "print(mat[1, :], '\\n')\n",
        "# Seleccionar columna 3 completa.\n",
        "print(mat[:, 1:3], '\\n')\n",
        "# Comprobar el tipo de datos de una columna y dimensión.\n",
        "print(mat.shape, '\\n')\n",
        "# Seleccionar la matriz columna.\n",
        "print(mat[:, 2:3].shape, '\\n')\n",
        "# Filtrar elementos bajo condición.\n",
        "mat[mat > 5]\n",
        "# Calcular la media de la matriz.\n",
        "np.mean(mat)\n",
        "# Calcular la media de las filas de la matriz.\n",
        "np.mean(mat, axis=1)\n",
        "# Calcular la media de las columnas de la matriz.\n",
        "np.mean(mat, axis=0)"
      ],
      "execution_count": null,
      "outputs": [
        {
          "output_type": "stream",
          "text": [
            "[[1 2 3]\n",
            " [4 5 6]\n",
            " [7 8 9]] \n",
            "\n",
            "5 \n",
            "\n",
            "[4 5 6] \n",
            "\n",
            "[[2 3]\n",
            " [5 6]\n",
            " [8 9]] \n",
            "\n",
            "(3, 3) \n",
            "\n",
            "(3, 1) \n",
            "\n"
          ],
          "name": "stdout"
        },
        {
          "output_type": "execute_result",
          "data": {
            "text/plain": [
              "array([4., 5., 6.])"
            ]
          },
          "metadata": {
            "tags": []
          },
          "execution_count": 4
        }
      ]
    },
    {
      "cell_type": "markdown",
      "metadata": {
        "id": "kr2bKpiHm2wp"
      },
      "source": [
        "\n",
        "---\n",
        "\n",
        "\n",
        "👁‍🗨 - Para la resolución de los diferentes ejercicios, es recomendable tener a mano las documentaciones de las distintas librerías para poder consultar funciones que te podrían hacer falta.\n",
        "\n",
        "- Documentación de Python: https://docs.python.org/3/\n",
        "- Documentación de Numpy: https://numpy.org/\n",
        "- Documentación de Scipy: https://www.scipy.org/\n",
        "- Documentación de Matplotlib: https://matplotlib.org/\n",
        "- Documentación de Sklearn: https://scikit-learn.org/stable/\n",
        "\n",
        "\n",
        "---\n",
        "\n"
      ]
    },
    {
      "cell_type": "markdown",
      "metadata": {
        "id": "-fnErCQsQA_5"
      },
      "source": [
        "**Ejercicio 1.** Realiza los siguientes cálculos matriciales en Numpy.\n",
        "\n",
        "a)  $\\begin{bmatrix}\n",
        "  1. & 1. & 1. \\\\\n",
        "  1. & 1. & 1. \\\\\n",
        "\\end{bmatrix} +\n",
        "\\begin{bmatrix}\n",
        "  1. & 2. & 3. \\\\\n",
        "  4. & 5. & 6. \\\\\n",
        "\\end{bmatrix} =\n",
        "\\begin{bmatrix}\n",
        "  2. & 3. & 4. \\\\\n",
        "  5. & 6. & 7. \\\\\n",
        "\\end{bmatrix}$\n",
        "\n",
        "b)  $\\begin{bmatrix}\n",
        " 1. \\\\\n",
        " 3. \\\\\n",
        " 5. \\\\\n",
        "\\end{bmatrix}\\begin{bmatrix}\n",
        " 2. & 4. & 6. \\\\\n",
        "\\end{bmatrix} = \\begin{bmatrix}\n",
        " 2. & 4. & 6. \\\\\n",
        " 6. & 12. & 18. \\\\\n",
        " 10. & 20. & 30. \\\\\n",
        "\\end{bmatrix}$\n",
        "\n",
        "c) Una matriz de 4x4 cuyos valores vayan de 1 a 16, pero dónde los números pares han sido sustituidos por -1.\n",
        "\n",
        "d)$\\begin{bmatrix}\n",
        "  2. + 0.j & 3. + 0.j & 4. + 0.j \\\\\n",
        "  5. + 0.j & 6. + 0.j & 7. + 0.j \\\\\n",
        "\\end{bmatrix}$\n"
      ]
    },
    {
      "cell_type": "code",
      "metadata": {
        "id": "3u3XxMETxH1C",
        "colab": {
          "base_uri": "https://localhost:8080/"
        },
        "outputId": "ee49e3f2-1f8a-42d0-9b8d-af33d9b32204"
      },
      "source": [
        "mat1 = np.ones((2,3))                   # Usamos np.ones para crear matrices de 1s\n",
        "mat2 = np.arange(1,7).reshape((2,3))    # Creamos un vector con un rango de valores y cambiamos la forma.\n",
        "print(mat1 + mat2, '\\n')\n",
        "\n",
        "mat1 = np.array([[1,3,5]]).T            # Creo una matriz fila, y la traspongo con .T para convertirla en columna.\n",
        "mat2 = np.array([[2,4,6]])              # Creo una matriz fila.\n",
        "print(mat1 @ mat2, '\\n')\n",
        "\n",
        "mat1 = np.arange(1,17).reshape((4,4))  # Creamos un vector con un rango de valores y cambiamos la forma.\n",
        "mat1[mat1 % 2 == 0] = -1               # Asignamos el valor -1 que cumplan la condición de tener el módulo 2 igual a 0. (ser par)\n",
        "print(mat1, '\\n')\n",
        "\n",
        "mat1 = np.array([[2, 3, 4], \n",
        "                 [5, 6, 7]], dtype=complex) # Usamos el argumento dtype para modificar el tipo de datos a complex.\n",
        "print(mat1, '\\n')"
      ],
      "execution_count": null,
      "outputs": [
        {
          "output_type": "stream",
          "text": [
            "[[2. 3. 4.]\n",
            " [5. 6. 7.]] \n",
            "\n",
            "[[ 2  4  6]\n",
            " [ 6 12 18]\n",
            " [10 20 30]] \n",
            "\n",
            "[[ 1 -1  3 -1]\n",
            " [ 5 -1  7 -1]\n",
            " [ 9 -1 11 -1]\n",
            " [13 -1 15 -1]] \n",
            "\n",
            "[[2.+0.j 3.+0.j 4.+0.j]\n",
            " [5.+0.j 6.+0.j 7.+0.j]] \n",
            "\n"
          ],
          "name": "stdout"
        }
      ]
    },
    {
      "cell_type": "markdown",
      "metadata": {
        "id": "qLmU-Y0_MVvy"
      },
      "source": [
        "**Ejercicio 2.** Utiliza Numpy para extraer las 5 primeras filas del dataset Iris y calcular la media de todos los elementos."
      ]
    },
    {
      "cell_type": "code",
      "metadata": {
        "id": "Ec_4-SYBMp23",
        "colab": {
          "base_uri": "https://localhost:8080/"
        },
        "outputId": "69051662-6791-4e7b-dd12-4079f881c08c"
      },
      "source": [
        "print(iris.shape)\n",
        "\n",
        "# Calculamos la media para todos los valores.\n",
        "print(np.mean(iris[:5, :]))"
      ],
      "execution_count": null,
      "outputs": [
        {
          "output_type": "stream",
          "text": [
            "(150, 5)\n",
            "1.9480000000000002\n"
          ],
          "name": "stdout"
        }
      ]
    },
    {
      "cell_type": "markdown",
      "metadata": {
        "id": "m_7zDt3QNejF"
      },
      "source": [
        "**Ejercicio 3.** Utiliza Numpy para calcular la media de cada una de las columnas del dataset Iris. Explora el uso del argumento ``` axis ``` en los métodos de Numpy, para aplicar el efecto de dicho método únicamente por filas o por columnas.\n",
        "\n"
      ]
    },
    {
      "cell_type": "code",
      "metadata": {
        "id": "C4S4ot_lNf6v",
        "colab": {
          "base_uri": "https://localhost:8080/"
        },
        "outputId": "9b128641-4d8c-427c-e455-dc6282eeebcb"
      },
      "source": [
        "# Calculamos la media para todas las columnas.\n",
        "print(np.mean(iris, axis=0))"
      ],
      "execution_count": null,
      "outputs": [
        {
          "output_type": "stream",
          "text": [
            "[5.84333333 3.05733333 3.758      1.19933333 1.        ]\n"
          ],
          "name": "stdout"
        }
      ]
    },
    {
      "cell_type": "markdown",
      "metadata": {
        "id": "BS7p8nhxg2b7"
      },
      "source": [
        "**Ejercicio 4.** Utiliza Numpy para guardar las 4 primeras columnas del dataset Iris en una variable que llamaremos $X$ y la última columna en la variable $Y$. Por convención $X$ se usa para denominar a nuestra tabla de datos de entrada, e $Y$ para nuestra tabla de datos de salida. Una vez tengas tus matrices $X$ e $Y$ guardadas en variables, comprueba cuáles son sus dimensiones con el atributo ```shape ```.\n",
        "\n",
        "**¿Detectas algo anómalo? ¿Por qué?**\n",
        "\n",
        " "
      ]
    },
    {
      "cell_type": "code",
      "metadata": {
        "id": "iAQ1nuzghuIc",
        "colab": {
          "base_uri": "https://localhost:8080/"
        },
        "outputId": "94eb355d-3cac-411f-f739-83f74dd724c0"
      },
      "source": [
        "X = iris[:, :4]\n",
        "Y = iris[:,  4]\n",
        "\n",
        "print(type(X), X.shape)\n",
        "print(type(Y), Y.shape)\n",
        "\n",
        "# Ocurre que cuando comprobamos las dimensiones de ambos objetos, la matriz Y no muestra ninguna\n",
        "# segunda dimensión. El motivo de esto es porque a la hora de seleccionar las columnas que queríamos\n",
        "# guardar en Y, sólamente nos hemos referido a una de ellas, y Numpy almacena esta única columna\n",
        "# como un vector unidimensional. En ocasiones, el operar matrices bidimensionales con vectores\n",
        "# unidimensionales no produce el resultado que esperamos, y por eso es recomendable que aún tratandose\n",
        "# de una matriz con una única columna, intentemos preservar la segunda dimensión. Para ello contamos\n",
        "# con múltiples maneras de rescatar la dimensión perdida.\n",
        "\n",
        "# Añade una nueva dimensión en el eje de las columnas.\n",
        "print(Y[:, np.newaxis].shape)\n",
        "\n",
        "# Cambiamos la forma de la matriz para que tenga una segunda dimensión.\n",
        "print(Y.reshape(len(Y), 1).shape)\n",
        "\n",
        "# Añade una dimensión en el eje que indiquemos.\n",
        "print(np.expand_dims(Y, axis=1).shape)\n",
        "\n",
        "# E incluso podemos evitar perder la segunda dimensión al crear la matriz Y si en vez de seleccionar\n",
        "# la columna con un único índice, lo hacemos como rango.\n",
        "print(iris[:, 4].shape)\n",
        "print(iris[:, 4:5].shape)"
      ],
      "execution_count": null,
      "outputs": [
        {
          "output_type": "stream",
          "text": [
            "<class 'numpy.ndarray'> (150, 4)\n",
            "<class 'numpy.ndarray'> (150,)\n",
            "(150, 1)\n",
            "(150, 1)\n",
            "(150, 1)\n",
            "(150,)\n",
            "(150, 1)\n"
          ],
          "name": "stdout"
        }
      ]
    },
    {
      "cell_type": "markdown",
      "metadata": {
        "id": "NJbeq9klOcAT"
      },
      "source": [
        "**Ejercicio 5.**  Con los datos del dataset ***Iris Setosa*** cargados en las matrices $X$ e $Y$, ahora genera a una versión de $X$ donde las variables de entrada (las columnas) estén **normalizadas**. *(Normalizar implica restar las medias de la columnas y dividir por sus desviaciones estandar).*\n",
        "\n"
      ]
    },
    {
      "cell_type": "code",
      "metadata": {
        "id": "lLRKj5R5OmDf"
      },
      "source": [
        "nX = (X - np.mean(X, axis=0)) / np.std(X, axis=0)"
      ],
      "execution_count": null,
      "outputs": []
    },
    {
      "cell_type": "markdown",
      "metadata": {
        "id": "hUFi3Hxr075B"
      },
      "source": [
        "---\n",
        "\n",
        "##🔨  Librería Scipy.\n",
        "\n",
        "Scipy es una librería que complementa las funcionalidades que Numpy nos aporta, ampliando el rango hacia otras áreas útiles para la ingeniería, matemáticas u otras ciencias. Podemos pensar en Numpy y Scipy como dos partes de una misma librería.\n",
        "\n",
        "\n",
        "---\n"
      ]
    },
    {
      "cell_type": "code",
      "metadata": {
        "id": "dwSSPwXj4w20"
      },
      "source": [
        "import scipy as sc"
      ],
      "execution_count": null,
      "outputs": []
    },
    {
      "cell_type": "markdown",
      "metadata": {
        "id": "sFwCGy9Z1l6c"
      },
      "source": [
        "\n",
        "## 📊 Librería Matplotlib.\n",
        "\n",
        "Matplotlib es una librería que nos aportará numerosos métodos para poder visualizar nuestros datasets. Puedes consultar en la documentación de la librería la galería con todos los tipos de visualizaciones que Matplotlib ofrece. Cada tipo de gráfica tendrá sus especificidades de uso, pero de modo general nos podemos guiar por las siguientes pautas.\n",
        "\n",
        "```\n",
        "1. Almacena tus datos en la estructura necesaria para generar tu gráfico.\n",
        "Por ejemplo, un plot() te requerirá tus datos en dos listas separadas, representando las coordenadas X e Y.\n",
        "\n",
        "2. Usa la función correspondiente para generar el gráfico que quieras.\n",
        "Ejemplo de funciones de uso frecuente son: plot(), scatter(), hist(), boxplot(), bar(), pie().\n",
        "\n",
        "3. Añade todos los elementos informativos necesarios a tu gráfica.\n",
        "Prueba a mejorar tu gráfica añadiendo títulos, etiquetas a los ejes, rejillas, leyenda, etc.\n",
        "\n",
        "4. Visualiza o añade más gráficos a tu figura.\n",
        "Puedes añadir más gráficas a tu figura (paso 2) y cuando esté lista, graficala con la función show()\n",
        "```\n",
        "---"
      ]
    },
    {
      "cell_type": "code",
      "metadata": {
        "id": "EcUYFm1L4_Eo"
      },
      "source": [
        "# Librerías con funcionalidades para la visualización de datos.\n",
        "import matplotlib.pyplot as plt"
      ],
      "execution_count": null,
      "outputs": []
    },
    {
      "cell_type": "markdown",
      "metadata": {
        "id": "YAlOrQTJhFoE"
      },
      "source": [
        "### Ejemplo 1: Plots simples"
      ]
    },
    {
      "cell_type": "code",
      "metadata": {
        "id": "ake5ZXbikq_u",
        "colab": {
          "base_uri": "https://localhost:8080/",
          "height": 1000
        },
        "outputId": "8b4ffb2f-2f41-418c-c6bb-e0b1c52e5fe2"
      },
      "source": [
        "import matplotlib.pyplot as plt\n",
        "\n",
        "# Plot sencillo.\n",
        "plt.plot([1, 2, 3, 4], [1, 4, 9, 16])\n",
        "plt.show()\n",
        "\n",
        "# Varios plots.\n",
        "plt.plot([1, 2, 3, 4], [1, 4, 9, 16])\n",
        "plt.plot([1, 2, 3, 4], [5, 1, 2, 17])\n",
        "plt.show()\n",
        "\n",
        "# Scatter plots.\n",
        "plt.scatter([1, 2, 3, 4], [1, 4, 9, 16])\n",
        "plt.show()\n",
        "\n",
        "# Creamos con Numpy un vector de puntos de 0 a 5\n",
        "# donde cada valor incrementa en 0.2 unidades.\n",
        "t = np.arange(0., 5., 0.2)\n",
        "# Lo dibujamos con tres estilos diferentes.\n",
        "plt.plot(t, t, 'r--', t, t**2, 'bs', t, t**3, 'g^')\n",
        "plt.show()"
      ],
      "execution_count": null,
      "outputs": [
        {
          "output_type": "display_data",
          "data": {
            "image/png": "[encoded data removed]",
            "text/plain": [
              "<Figure size 432x288 with 1 Axes>"
            ]
          },
          "metadata": {
            "tags": [],
            "needs_background": "light"
          }
        },
        {
          "output_type": "display_data",
          "data": {
            "image/png": "[encoded data removed]",
            "text/plain": [
              "<Figure size 432x288 with 1 Axes>"
            ]
          },
          "metadata": {
            "tags": [],
            "needs_background": "light"
          }
        },
        {
          "output_type": "display_data",
          "data": {
            "image/png": "[encoded data removed]",
            "text/plain": [
              "<Figure size 432x288 with 1 Axes>"
            ]
          },
          "metadata": {
            "tags": [],
            "needs_background": "light"
          }
        },
        {
          "output_type": "display_data",
          "data": {
            "image/png": "[encoded data removed]",
            "text/plain": [
              "<Figure size 432x288 with 1 Axes>"
            ]
          },
          "metadata": {
            "tags": [],
            "needs_background": "light"
          }
        }
      ]
    },
    {
      "cell_type": "markdown",
      "metadata": {
        "id": "G1OegqZplXyk"
      },
      "source": [
        "### Ejemplo 2: Plot elaborado."
      ]
    },
    {
      "cell_type": "code",
      "metadata": {
        "id": "r0c0GXGshVtq",
        "colab": {
          "base_uri": "https://localhost:8080/",
          "height": 295
        },
        "outputId": "08da9d99-a95f-46f3-9968-d33f51566700"
      },
      "source": [
        "import matplotlib\n",
        "import matplotlib.pyplot as plt\n",
        "import numpy as np\n",
        "\n",
        "# Datos a visualizar.\n",
        "t = np.arange(0.0, 2.0, 0.01) # Coordenada X.\n",
        "s = 1 + np.sin(2 * np.pi * t) # Coordenada Y.\n",
        "plt.plot(t, s)\n",
        "\n",
        "# Etiqueta del eje X.\n",
        "plt.xlabel('time (s)')\n",
        "# Etiqueta del eje Y.\n",
        "plt.ylabel('voltage (mV)')\n",
        "# Título.\n",
        "plt.title('About as simple as it gets, folks')\n",
        "# Rejilla del fondo.\n",
        "plt.grid(True)\n",
        "# Guarda la imagen.\n",
        "plt.savefig('test.png')\n",
        "# Muestra la visualización.\n",
        "plt.show()"
      ],
      "execution_count": null,
      "outputs": [
        {
          "output_type": "display_data",
          "data": {
            "image/png": "[encoded data removed]",
            "text/plain": [
              "<Figure size 432x288 with 1 Axes>"
            ]
          },
          "metadata": {
            "tags": [],
            "needs_background": "light"
          }
        }
      ]
    },
    {
      "cell_type": "markdown",
      "metadata": {
        "id": "dpFKTypBnacV"
      },
      "source": [
        "### Ejemplo 3: Histograma y Subplots."
      ]
    },
    {
      "cell_type": "code",
      "metadata": {
        "id": "to_BHEbdnp8f",
        "colab": {
          "base_uri": "https://localhost:8080/",
          "height": 474
        },
        "outputId": "4c9019de-6b71-4bac-888a-f6be68f0e698"
      },
      "source": [
        "N_points = 100000 # Número de data points.\n",
        "n_bins = 20       # Número de barras en el histograma.\n",
        "\n",
        "# Generamos dos distribuciones normales, centradas en x=0 e y=5 respectivamente.\n",
        "x = np.random.randn(N_points)\n",
        "y = .4 * x + np.random.randn(100000) + 5\n",
        "\n",
        "# Definimos que queremos dos subplots, distribuidos en 1 fila y 2 columnas.\n",
        "fig, axs = plt.subplots(1, 2, sharey=True, tight_layout=True)\n",
        "\n",
        "# Dibujos cada uno de los histogramas en cada uno de los subplots.\n",
        "axs[0].hist(x, bins=n_bins)\n",
        "axs[1].hist(y, bins=n_bins)"
      ],
      "execution_count": null,
      "outputs": [
        {
          "output_type": "execute_result",
          "data": {
            "text/plain": [
              "(array([8.0000e+00, 4.1000e+01, 1.5900e+02, 5.8500e+02, 1.6210e+03,\n",
              "        3.6210e+03, 7.0600e+03, 1.1240e+04, 1.5130e+04, 1.6975e+04,\n",
              "        1.5992e+04, 1.2365e+04, 7.9560e+03, 4.2920e+03, 1.9380e+03,\n",
              "        6.8600e+02, 2.4000e+02, 6.2000e+01, 2.4000e+01, 5.0000e+00]),\n",
              " array([0.52285383, 0.98804228, 1.45323073, 1.91841919, 2.38360764,\n",
              "        2.84879609, 3.31398454, 3.779173  , 4.24436145, 4.7095499 ,\n",
              "        5.17473835, 5.63992681, 6.10511526, 6.57030371, 7.03549216,\n",
              "        7.50068062, 7.96586907, 8.43105752, 8.89624597, 9.36143442,\n",
              "        9.82662288]),\n",
              " <a list of 20 Patch objects>)"
            ]
          },
          "metadata": {
            "tags": []
          },
          "execution_count": 14
        },
        {
          "output_type": "display_data",
          "data": {
            "image/png": "[encoded data removed]",
            "text/plain": [
              "<Figure size 432x288 with 2 Axes>"
            ]
          },
          "metadata": {
            "tags": [],
            "needs_background": "light"
          }
        }
      ]
    },
    {
      "cell_type": "markdown",
      "metadata": {
        "id": "fuiNnpCk530p"
      },
      "source": [
        "---\n"
      ]
    },
    {
      "cell_type": "markdown",
      "metadata": {
        "id": "DddJkGri6FYR"
      },
      "source": [
        "**Ejercicio 6.**  Utiliza Matplotlib para visualizar en un gráfico de dispersión ``` scatter() ``` dos de las columnas del dataset Iris.\n",
        "\n",
        "\n",
        "\n"
      ]
    },
    {
      "cell_type": "code",
      "metadata": {
        "id": "rdzA_n7V6-vF",
        "colab": {
          "base_uri": "https://localhost:8080/",
          "height": 295
        },
        "outputId": "bfeec6c6-27da-4eaf-edd4-dac85e3c8c33"
      },
      "source": [
        "plt.scatter(X[:,0], X[:,2])\n",
        "plt.title(\"Dataset Iris\")\n",
        "plt.xlabel(\"Sepal length\")\n",
        "plt.ylabel(\"Petal length\")\n",
        "plt.show()"
      ],
      "execution_count": null,
      "outputs": [
        {
          "output_type": "display_data",
          "data": {
            "image/png": "[encoded data removed]",
            "text/plain": [
              "<Figure size 432x288 with 1 Axes>"
            ]
          },
          "metadata": {
            "tags": [],
            "needs_background": "light"
          }
        }
      ]
    },
    {
      "cell_type": "markdown",
      "metadata": {
        "id": "uaUP8Iei7VjX"
      },
      "source": [
        "**Ejercicio 7.**  Utiliza Matplotlib para visualizar en un gráfico de dispersión ``` scatter() ``` dos de las columnas del dataset Iris, donde cada punto aparezca coloreado de diferente color según la clase de flor a la que pertenezca."
      ]
    },
    {
      "cell_type": "code",
      "metadata": {
        "colab": {
          "base_uri": "https://localhost:8080/",
          "height": 282
        },
        "id": "h23iUwyaj5if",
        "outputId": "6b01270f-d30d-444f-d9c5-9e6595b84764"
      },
      "source": [
        "import matplotlib.pyplot as plt\n",
        "import numpy as np\n",
        "\n",
        "\n",
        "plt.scatter(np.arange(10), np.arange(10), c=\"orange\")"
      ],
      "execution_count": null,
      "outputs": [
        {
          "output_type": "execute_result",
          "data": {
            "text/plain": [
              "<matplotlib.collections.PathCollection at 0x7f1dc5238d10>"
            ]
          },
          "metadata": {
            "tags": []
          },
          "execution_count": 16
        },
        {
          "output_type": "display_data",
          "data": {
            "image/png": "[encoded data removed]",
            "text/plain": [
              "<Figure size 432x288 with 1 Axes>"
            ]
          },
          "metadata": {
            "tags": [],
            "needs_background": "light"
          }
        }
      ]
    },
    {
      "cell_type": "code",
      "metadata": {
        "id": "MFDdTG4g8NtU",
        "colab": {
          "base_uri": "https://localhost:8080/",
          "height": 295
        },
        "outputId": "a1d7eff5-e40e-4924-a017-5e4eff7e16a2"
      },
      "source": [
        "plt.scatter(X[Y==0,0], X[Y==0,1], c=\"red\")\n",
        "plt.scatter(X[Y==1,0], X[Y==1,1])\n",
        "plt.scatter(X[Y==2,0], X[Y==2,1])\n",
        "plt.title(\"Dataset Iris\")\n",
        "plt.xlabel(\"Sepal length\")\n",
        "plt.ylabel(\"Petal length\")\n",
        "plt.show()"
      ],
      "execution_count": null,
      "outputs": [
        {
          "output_type": "display_data",
          "data": {
            "image/png": "[encoded data removed]",
            "text/plain": [
              "<Figure size 432x288 with 1 Axes>"
            ]
          },
          "metadata": {
            "tags": [],
            "needs_background": "light"
          }
        }
      ]
    },
    {
      "cell_type": "markdown",
      "metadata": {
        "id": "hayDVqSZChLl"
      },
      "source": [
        "# **Práctica 3.**  Machine No Learning.\n",
        "\n",
        "\n",
        "Si has completado el ejercicio anterior, posiblemente ahora mismo estés observando un gráfico de dispersión parecido a este, si no igual. Ahora, el interés de visualizar los datos es la búsqueda de algún patrón que nos pueda ser interesante, del que podamos aprender algo sobre nuestro dataset. ¿Detectas algo?\n",
        "\n",
        "<center><img width=\"400px\" src=\"https://i.imgur.com/zUJ3LFA.png\"></img></center>\n",
        "\n",
        "Pues por ejemplo, podemos observar cómo se puede trazar una frontera bastante clara entre la nube de puntos azules (que reprentaría un grupo de flores de un tipo) respecto al grupo naranja y verde. De hecho, lo que vendría a representar esta frontera, es el límite numérico del largo del pétalo y el sépalo sobre el cuál podríamos clasificar a una flor de un tipo u otro. \n",
        "\n",
        "**¿Podríamos intentar crear un modelo clasificador basándonos en reglas de este tipo?**\n",
        "\n",
        "\n",
        "\n",
        "---\n",
        "\n",
        "**Tu tarea:** \n",
        "\n",
        "1.   Utiliza Matplotlib para generar diferentes visualizaciones de gráficos de dispersión o histogramas, para las distintas combinaciones de pares de variables, a la búsqueda de reglas que te permitan diferenciar cláramente los tres grupos de flores. Funciones que te grafiquen matrices de dispersión podrían agilizarte el trabajo.\n",
        "\n",
        "2.  Utiliza las reglas que has identificado, para definir una función que se `PredictFlower()` que pueda tomar como argumento de entrada un listado de flores (es decir, un subconjunto de filas de nuestra tabla X), y que a partir de las reglas que has identificado, sea capaz de generar un vector de predicciones que indique para cada flor pasada como input, a qué clase pertenece. La función devolverá como resultado dicho vector.\n",
        "\n",
        "3. Evalua la calidad de tu modelo a partir de generar un vector de predicciones para cada flor contenida en X. Cuando tengas tu vector de predicciones calculado, compáralo con el vector Y que ya sabemos contiene las clases reales cada flor, y calcula así la tasa de acierto de tu modelo. **Si esta tasa fuera inferior a 95%, repite el proceso de buscar unas reglas de clasificación mejores.**"
      ]
    },
    {
      "cell_type": "code",
      "metadata": {
        "colab": {
          "resources": {
            "http://localhost:8080/nbextensions/google.colab/files.js": {
              "data": "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",
              "ok": true,
              "headers": [
                [
                  "content-type",
                  "application/javascript"
                ]
              ],
              "status": 200,
              "status_text": ""
            }
          },
          "base_uri": "https://localhost:8080/",
          "height": 72
        },
        "id": "jCHvDpc4hiu_",
        "outputId": "b75b9d7c-a1b5-4dae-cbdd-4560d34ae879"
      },
      "source": [
        "from google.colab import files\n",
        "uploaded = files.upload()"
      ],
      "execution_count": null,
      "outputs": [
        {
          "output_type": "display_data",
          "data": {
            "text/html": [
              "\n",
              "     <input type=\"file\" id=\"files-754fd2c3-5ff7-4304-af97-740d55e9f9a7\" name=\"files[]\" multiple disabled\n",
              "        style=\"border:none\" />\n",
              "     <output id=\"result-754fd2c3-5ff7-4304-af97-740d55e9f9a7\">\n",
              "      Upload widget is only available when the cell has been executed in the\n",
              "      current browser session. Please rerun this cell to enable.\n",
              "      </output>\n",
              "      <script src=\"/nbextensions/google.colab/files.js\"></script> "
            ],
            "text/plain": [
              "<IPython.core.display.HTML object>"
            ]
          },
          "metadata": {
            "tags": []
          }
        },
        {
          "output_type": "stream",
          "text": [
            "Saving iris.csv to iris.csv\n"
          ],
          "name": "stdout"
        }
      ]
    },
    {
      "cell_type": "code",
      "metadata": {
        "id": "Ej1WJOKvg_XJ"
      },
      "source": [
        "import sys\n",
        "import pandas as pd\n",
        "import numpy as np\n",
        "import matplotlib.pyplot as plt\n",
        "import sklearn\n"
      ],
      "execution_count": 146,
      "outputs": []
    },
    {
      "cell_type": "code",
      "metadata": {
        "colab": {
          "base_uri": "https://localhost:8080/"
        },
        "id": "-0e974d8hHJh",
        "outputId": "bbfe1e1f-f75b-4712-d268-e64602baeeda"
      },
      "source": [
        "col = ['sepal.length', 'sepal.width', 'petal.length', 'petal.width', 'variety']\n",
        "iris = pd.read_csv('iris.csv')\n",
        "print(iris)"
      ],
      "execution_count": 147,
      "outputs": [
        {
          "output_type": "stream",
          "text": [
            "     sepal.length  sepal.width  petal.length  petal.width  variety\n",
            "0             5.1          3.5           1.4          0.2        0\n",
            "1             4.9          3.0           1.4          0.2        0\n",
            "2             4.7          3.2           1.3          0.2        0\n",
            "3             4.6          3.1           1.5          0.2        0\n",
            "4             5.0          3.6           1.4          0.2        0\n",
            "..            ...          ...           ...          ...      ...\n",
            "145           6.7          3.0           5.2          2.3        2\n",
            "146           6.3          2.5           5.0          1.9        2\n",
            "147           6.5          3.0           5.2          2.0        2\n",
            "148           6.2          3.4           5.4          2.3        2\n",
            "149           5.9          3.0           5.1          1.8        2\n",
            "\n",
            "[150 rows x 5 columns]\n"
          ],
          "name": "stdout"
        }
      ]
    },
    {
      "cell_type": "code",
      "metadata": {
        "colab": {
          "base_uri": "https://localhost:8080/"
        },
        "id": "slC1zYRFiIzg",
        "outputId": "67d79ace-5bd7-426b-83db-003d5ba8c06b"
      },
      "source": [
        "print(iris.shape)\n",
        "print(iris.describe())"
      ],
      "execution_count": 148,
      "outputs": [
        {
          "output_type": "stream",
          "text": [
            "(150, 5)\n",
            "       sepal.length  sepal.width  petal.length  petal.width     variety\n",
            "count    150.000000   150.000000    150.000000   150.000000  150.000000\n",
            "mean       5.843333     3.057333      3.758000     1.199333    1.000000\n",
            "std        0.828066     0.435866      1.765298     0.762238    0.819232\n",
            "min        4.300000     2.000000      1.000000     0.100000    0.000000\n",
            "25%        5.100000     2.800000      1.600000     0.300000    0.000000\n",
            "50%        5.800000     3.000000      4.350000     1.300000    1.000000\n",
            "75%        6.400000     3.300000      5.100000     1.800000    2.000000\n",
            "max        7.900000     4.400000      6.900000     2.500000    2.000000\n"
          ],
          "name": "stdout"
        }
      ]
    },
    {
      "cell_type": "code",
      "metadata": {
        "colab": {
          "base_uri": "https://localhost:8080/"
        },
        "id": "gjPIv6A5iz02",
        "outputId": "5508e5e8-88f4-449d-8550-fa0efc9df61e"
      },
      "source": [
        "print(iris.groupby('variety').size())"
      ],
      "execution_count": 149,
      "outputs": [
        {
          "output_type": "stream",
          "text": [
            "variety\n",
            "0    50\n",
            "1    50\n",
            "2    50\n",
            "dtype: int64\n"
          ],
          "name": "stdout"
        }
      ]
    },
    {
      "cell_type": "code",
      "metadata": {
        "colab": {
          "base_uri": "https://localhost:8080/",
          "height": 296
        },
        "id": "BMG5QaD4jJRO",
        "outputId": "305f5949-10c3-48ec-8da5-19f52bb0329b"
      },
      "source": [
        "#Grafico Sepal - Longitud vs Ancho\n",
        "fig = iris[iris.variety == 0].plot(kind='scatter', x='sepal.length', y='sepal.width', color='blue', label='Setosa')\n",
        "iris[iris.variety == 1].plot(kind='scatter', x='sepal.length', y='sepal.width', color='green', label='Versicolor', ax=fig)\n",
        "iris[iris.variety == 2].plot(kind='scatter', x='sepal.length', y='sepal.width', color='red', label='Virginica', ax=fig)\n",
        "fig.set_xlabel('Sépalo - Longitud')\n",
        "fig.set_ylabel('Sépalo - Ancho')\n",
        "fig.set_title('Sépalo - Longitud vs Ancho')\n",
        "plt.show()"
      ],
      "execution_count": 150,
      "outputs": [
        {
          "output_type": "display_data",
          "data": {
            "image/png": "[encoded data removed]",
            "text/plain": [
              "<Figure size 432x288 with 1 Axes>"
            ]
          },
          "metadata": {
            "tags": [],
            "needs_background": "light"
          }
        }
      ]
    },
    {
      "cell_type": "code",
      "metadata": {
        "colab": {
          "base_uri": "https://localhost:8080/",
          "height": 296
        },
        "id": "pv-D7XMRlKLz",
        "outputId": "deabb3ac-6c9d-47f9-b5f9-4589ad11a68e"
      },
      "source": [
        "#Grafico Sepal - Longitud vs Ancho\n",
        "fig = iris[iris.variety == 0].plot(kind='scatter', x='petal.length', y='petal.width', color='blue', label='Setosa')\n",
        "iris[iris.variety == 1].plot(kind='scatter', x='petal.length', y='petal.width', color='green', label='Versicolor', ax=fig)\n",
        "iris[iris.variety == 2].plot(kind='scatter', x='petal.length', y='petal.width', color='red', label='Virginica', ax=fig)\n",
        "fig.set_xlabel('Sépalo - Longitud')\n",
        "fig.set_ylabel('Sépalo - Ancho')\n",
        "fig.set_title('Sépalo - Longitud vs Ancho')\n",
        "plt.show()"
      ],
      "execution_count": 151,
      "outputs": [
        {
          "output_type": "display_data",
          "data": {
            "image/png": "[encoded data removed]",
            "text/plain": [
              "<Figure size 432x288 with 1 Axes>"
            ]
          },
          "metadata": {
            "tags": [],
            "needs_background": "light"
          }
        }
      ]
    },
    {
      "cell_type": "code",
      "metadata": {
        "colab": {
          "base_uri": "https://localhost:8080/",
          "height": 298
        },
        "id": "I9YLdnN5mHBS",
        "outputId": "f41dc922-fa19-4486-e283-e3582a7d2f7a"
      },
      "source": [
        "from sklearn import datasets\n",
        "import matplotlib.pyplot as plt\n",
        "import numpy as np\n",
        "iris = datasets.load_iris()\n",
        "X_iris = iris.data\n",
        "Y_iris = iris.target\n",
        "n_classes = 3\n",
        "averages = [X_iris[Y_iris == i].mean(axis=0) for i in range(n_classes)]\n",
        "x = np.arange(len(iris.feature_names))\n",
        "\n",
        "fig = plt.figure()\n",
        "ax = fig.add_subplot()\n",
        "bar1 = ax.bar(x - 0.25, averages[0], 0.25, label=iris.target_names[0])\n",
        "bar2 = ax.bar(x, averages[1], 0.25, label=iris.target_names[1])\n",
        "bar3 = ax.bar(x + 0.25, averages[2], 0.25, label=iris.target_names[2])\n",
        "ax.set_xticks(x)\n",
        "ax.set_xticklabels(iris.feature_names)\n",
        "\n",
        "plt.legend()\n",
        "plt.title(\"Bar Chart Iris Averages\")\n",
        "plt.ylabel(\"Average\")\n",
        "plt.show"
      ],
      "execution_count": 152,
      "outputs": [
        {
          "output_type": "execute_result",
          "data": {
            "text/plain": [
              "<function matplotlib.pyplot.show>"
            ]
          },
          "metadata": {
            "tags": []
          },
          "execution_count": 152
        },
        {
          "output_type": "display_data",
          "data": {
            "image/png": "[encoded data removed]",
            "text/plain": [
              "<Figure size 432x288 with 1 Axes>"
            ]
          },
          "metadata": {
            "tags": [],
            "needs_background": "light"
          }
        }
      ]
    },
    {
      "cell_type": "code",
      "metadata": {
        "colab": {
          "base_uri": "https://localhost:8080/",
          "height": 325
        },
        "id": "YjDkSDu9nUZI",
        "outputId": "840fc883-8565-412f-cb76-6d0569698b08"
      },
      "source": [
        "bins = 20\n",
        "iris = datasets.load_iris()\n",
        "X_iris = iris.data\n",
        "fig, axs = plt.subplots(2, 2)\n",
        "axs[0, 0].hist(X_iris[:, 0])\n",
        "axs[0, 1].hist(X_iris[:, 1], color='orange')\n",
        "axs[1, 0].hist(X_iris[:, 2], color='green')\n",
        "axs[1, 1].hist(X_iris[:, 3], color='red')\n",
        "\n",
        "i = 0\n",
        "for ax in axs.flat:\n",
        "    ax.set(xlabel=iris.feature_names[i], ylabel='Frequency')\n",
        "    i += 1\n",
        "\n",
        "fig.suptitle(\"Iris Histograms\")"
      ],
      "execution_count": 153,
      "outputs": [
        {
          "output_type": "execute_result",
          "data": {
            "text/plain": [
              "Text(0.5, 0.98, 'Iris Histograms')"
            ]
          },
          "metadata": {
            "tags": []
          },
          "execution_count": 153
        },
        {
          "output_type": "display_data",
          "data": {
            "image/png": "[encoded data removed]",
            "text/plain": [
              "<Figure size 432x288 with 4 Axes>"
            ]
          },
          "metadata": {
            "tags": [],
            "needs_background": "light"
          }
        }
      ]
    },
    {
      "cell_type": "code",
      "metadata": {
        "colab": {
          "base_uri": "https://localhost:8080/"
        },
        "id": "ZWZycFEsrbj6",
        "outputId": "65d0a907-0c37-4828-a909-2784b3d48c60"
      },
      "source": [
        "from sklearn.neighbors import KNeighborsClassifier\n",
        "knn = KNeighborsClassifier()\n",
        "knn.fit(X_train,y_train)\n",
        "X_new1 = np.array([[5, 2.9, 1, 0.2]])\n",
        "print('Predicted: ', knn.predict(X_new1))"
      ],
      "execution_count": 154,
      "outputs": [
        {
          "output_type": "stream",
          "text": [
            "Predicted:  [0]\n"
          ],
          "name": "stdout"
        }
      ]
    },
    {
      "cell_type": "code",
      "metadata": {
        "colab": {
          "base_uri": "https://localhost:8080/"
        },
        "id": "N6d5jF6arlLo",
        "outputId": "a88b801c-2a9d-4fa8-bad0-268489af8d4f"
      },
      "source": [
        "print('Predicted:', knn.predict(X_test))"
      ],
      "execution_count": 155,
      "outputs": [
        {
          "output_type": "stream",
          "text": [
            "Predicted: [1 1 1 1 2 2 1 2 0 1 0 2 1 1 2 0 0 1 1 0 0 2 2 2 2 0 1 1 1 0]\n"
          ],
          "name": "stdout"
        }
      ]
    },
    {
      "cell_type": "code",
      "metadata": {
        "colab": {
          "base_uri": "https://localhost:8080/"
        },
        "id": "ZAc-6uAnrsxC",
        "outputId": "f80a16b0-1207-49e8-b70d-c2b4c75dae30"
      },
      "source": [
        "from sklearn.metrics import accuracy_score\n",
        "print(accuracy_score(y_test, knn.predict(X_test)))"
      ],
      "execution_count": 156,
      "outputs": [
        {
          "output_type": "stream",
          "text": [
            "0.9666666666666667\n"
          ],
          "name": "stdout"
        }
      ]
    },
    {
      "cell_type": "code",
      "metadata": {
        "colab": {
          "base_uri": "https://localhost:8080/"
        },
        "id": "4nxjT1fXoRjg",
        "outputId": "3a72cfe8-9530-40e5-8ab3-166ce02c86c9"
      },
      "source": [
        "from sklearn.model_selection import train_test_split\n",
        "from sklearn.linear_model import LogisticRegression\n",
        "from sklearn.svm import SVC\n",
        "from sklearn.neighbors import KNeighborsClassifier\n",
        "from sklearn.tree import DecisionTreeClassifier\n",
        "\n",
        "X = np.array(iris.drop(['variety'], 1))\n",
        "y = np.array(iris['variety'])\n",
        "\n",
        "X_train, X_test, y_train, y_test = train_test_split(X, y, test_size=0.2)\n",
        "print('Son {} datos para entrenamiento y {} datos para prueba'.format(X_train.shape[0], X_test.shape[0]))\n",
        "\n",
        "algoritmo = LogisticRegression()\n",
        "algoritmo.fit(X_train, y_train)\n",
        "Y_pred = algoritmo.predict(X_test)\n",
        "print('Precisión Regresión Logística: {}'.format(algoritmo.score(X_train, y_train)))\n",
        "\n",
        "algoritmo = SVC()\n",
        "algoritmo.fit(X_train, y_train)\n",
        "Y_pred = algoritmo.predict(X_test)\n",
        "print('Precisión Máquinas de Vectores de Soporte: {}'.format(algoritmo.score(X_train, y_train)))\n",
        "\n",
        "algoritmo = KNeighborsClassifier(n_neighbors=5)\n",
        "algoritmo.fit(X_train, y_train)\n",
        "Y_pred = algoritmo.predict(X_test)\n",
        "print('Precisión Vecinos más Cercanos: {}'.format(algoritmo.score(X_train, y_train)))"
      ],
      "execution_count": null,
      "outputs": [
        {
          "output_type": "stream",
          "text": [
            "Son 120 datos para entrenamiento y 30 datos para prueba\n",
            "Precisión Regresión Logística: 0.9833333333333333\n",
            "Precisión Máquinas de Vectores de Soporte: 0.975\n",
            "Precisión Vecinos más Cercanos: 0.975\n"
          ],
          "name": "stdout"
        }
      ]
    },
    {
      "cell_type": "code",
      "metadata": {
        "colab": {
          "base_uri": "https://localhost:8080/"
        },
        "id": "ikIlM9cWpXoI",
        "outputId": "fa355e1e-bd2d-49df-bf81-d77846729a01"
      },
      "source": [
        "algoritmo = DecisionTreeClassifier()\n",
        "algoritmo.fit(X_train, y_train)\n",
        "Y_pred = algoritmo.predict(X_test)\n",
        "print('Precisión Árboles de Decisión Clasificación: {}'.format(algoritmo.score(X_train, y_train)))"
      ],
      "execution_count": null,
      "outputs": [
        {
          "output_type": "stream",
          "text": [
            "Precisión Árboles de Decisión Clasificación: 1.0\n"
          ],
          "name": "stdout"
        }
      ]
    },
    {
      "cell_type": "code",
      "metadata": {
        "id": "_aV99E__pg5s"
      },
      "source": [
        "sepalo = iris[['sepal.length','sepal.width','variety']]"
      ],
      "execution_count": null,
      "outputs": []
    },
    {
      "cell_type": "code",
      "metadata": {
        "id": "IVgCGwmkpxOM"
      },
      "source": [
        "X_sepalo = np.array(sepalo.drop(['variety'], 1))\n",
        "y_sepalo = np.array(sepalo['variety'])"
      ],
      "execution_count": null,
      "outputs": []
    },
    {
      "cell_type": "code",
      "metadata": {
        "colab": {
          "base_uri": "https://localhost:8080/"
        },
        "id": "D73_IJ4Rp7oz",
        "outputId": "d2641825-b6c8-43c1-a551-574e952730cd"
      },
      "source": [
        "X_train_s, X_test_s, y_train_s, y_test_s = train_test_split(X_sepalo, y_sepalo, test_size=0.2)\n",
        "print('Son {} datos sépalo para entrenamiento y {} datos sépalo para prueba'.format(X_train.shape[0], X_test.shape[0]))"
      ],
      "execution_count": null,
      "outputs": [
        {
          "output_type": "stream",
          "text": [
            "Son 120 datos sépalo para entrenamiento y 30 datos sépalo para prueba\n"
          ],
          "name": "stdout"
        }
      ]
    },
    {
      "cell_type": "code",
      "metadata": {
        "colab": {
          "base_uri": "https://localhost:8080/"
        },
        "id": "YP9WY9tXqAyd",
        "outputId": "d2e1befe-3a19-4993-f77d-cff05cceb711"
      },
      "source": [
        "algoritmo = LogisticRegression()\n",
        "algoritmo.fit(X_train_s, y_train_s)\n",
        "Y_pred = algoritmo.predict(X_test_s)\n",
        "print('Precisión Regresión Logística - Sépalo: {}'.format(algoritmo.score(X_train_s, y_train_s)))"
      ],
      "execution_count": null,
      "outputs": [
        {
          "output_type": "stream",
          "text": [
            "Precisión Regresión Logística - Sépalo: 0.825\n"
          ],
          "name": "stdout"
        }
      ]
    },
    {
      "cell_type": "code",
      "metadata": {
        "colab": {
          "base_uri": "https://localhost:8080/"
        },
        "id": "N3od4LKXqG41",
        "outputId": "824732c0-b01a-4690-8eb9-30ad9e61d7a6"
      },
      "source": [
        "algoritmo = SVC()\n",
        "algoritmo.fit(X_train_s, y_train_s)\n",
        "Y_pred = algoritmo.predict(X_test_s)\n",
        "print('Precisión Máquinas de Vectores de Soporte - Sépalo: {}'.format(algoritmo.score(X_train_s, y_train_s)))"
      ],
      "execution_count": null,
      "outputs": [
        {
          "output_type": "stream",
          "text": [
            "Precisión Máquinas de Vectores de Soporte - Sépalo: 0.825\n"
          ],
          "name": "stdout"
        }
      ]
    },
    {
      "cell_type": "code",
      "metadata": {
        "colab": {
          "base_uri": "https://localhost:8080/"
        },
        "id": "xvdNM1yDqJk9",
        "outputId": "ad5e898b-23f1-49e1-b3d2-46106c0f77f6"
      },
      "source": [
        "#Modelo de Vecinos más Cercanos\n",
        "algoritmo = KNeighborsClassifier(n_neighbors=5)\n",
        "algoritmo.fit(X_train_s, y_train_s)\n",
        "Y_pred = algoritmo.predict(X_test_s)\n",
        "print('Precisión Vecinos más Cercanos - Sépalo: {}'.format(algoritmo.score(X_train_s, y_train_s)))"
      ],
      "execution_count": null,
      "outputs": [
        {
          "output_type": "stream",
          "text": [
            "Precisión Vecinos más Cercanos - Sépalo: 0.85\n"
          ],
          "name": "stdout"
        }
      ]
    },
    {
      "cell_type": "code",
      "metadata": {
        "colab": {
          "base_uri": "https://localhost:8080/"
        },
        "id": "2C08ZQa6qVpb",
        "outputId": "16d3256f-e207-4a5e-c76b-cfd379a449d9"
      },
      "source": [
        "#Modelo de Árboles de Decisión Clasificación\n",
        "algoritmo = DecisionTreeClassifier()\n",
        "algoritmo.fit(X_train_s, y_train_s)\n",
        "Y_pred = algoritmo.predict(X_test_s)\n",
        "print('Precisión Árboles de Decisión Clasificación - Sépalo: {}'.format(algoritmo.score(X_train_s, y_train_s)))"
      ],
      "execution_count": null,
      "outputs": [
        {
          "output_type": "stream",
          "text": [
            "Precisión Árboles de Decisión Clasificación - Sépalo: 0.9333333333333333\n"
          ],
          "name": "stdout"
        }
      ]
    },
    {
      "cell_type": "code",
      "metadata": {
        "id": "gc7Af0VpqbKT"
      },
      "source": [
        "petalo = iris[['petal.length','petal.width','variety']]"
      ],
      "execution_count": null,
      "outputs": []
    },
    {
      "cell_type": "code",
      "metadata": {
        "id": "ZqfvpDkjqi2E"
      },
      "source": [
        "X_petalo = np.array(petalo.drop(['variety'], 1))\n",
        "y_petalo = np.array(petalo['variety'])"
      ],
      "execution_count": null,
      "outputs": []
    },
    {
      "cell_type": "code",
      "metadata": {
        "colab": {
          "base_uri": "https://localhost:8080/"
        },
        "id": "wkzFPyOzqoDa",
        "outputId": "29c5facf-4902-45a2-8902-2a849bc8872b"
      },
      "source": [
        "#Separo los datos de \"train\" en entrenamiento y prueba para probar los algoritmos\n",
        "X_train_p, X_test_p, y_train_p, y_test_p = train_test_split(X_petalo, y_petalo, test_size=0.2)\n",
        "\n",
        "print('Son {} datos pétalo para entrenamiento y {} datos pétalo para prueba'.format(X_train.shape[0], X_test.shape[0]))"
      ],
      "execution_count": null,
      "outputs": [
        {
          "output_type": "stream",
          "text": [
            "Son 120 datos pétalo para entrenamiento y 30 datos pétalo para prueba\n"
          ],
          "name": "stdout"
        }
      ]
    },
    {
      "cell_type": "code",
      "metadata": {
        "colab": {
          "base_uri": "https://localhost:8080/"
        },
        "id": "pFMHsx6Rqs4i",
        "outputId": "726501bf-6048-49e3-e579-a8839249195c"
      },
      "source": [
        "#Modelo de Regresión Logística\n",
        "algoritmo = LogisticRegression()\n",
        "algoritmo.fit(X_train_p, y_train_p)\n",
        "Y_pred = algoritmo.predict(X_test_p)\n",
        "print('Precisión Regresión Logística - Pétalo: {}'.format(algoritmo.score(X_train_p, y_train_p)))"
      ],
      "execution_count": null,
      "outputs": [
        {
          "output_type": "stream",
          "text": [
            "Precisión Regresión Logística - Pétalo: 0.9666666666666667\n"
          ],
          "name": "stdout"
        }
      ]
    }
  ]
}