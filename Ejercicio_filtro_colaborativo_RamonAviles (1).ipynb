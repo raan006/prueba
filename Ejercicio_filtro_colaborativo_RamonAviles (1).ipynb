{
  "nbformat": 4,
  "nbformat_minor": 0,
  "metadata": {
    "kernelspec": {
      "display_name": "Python 3",
      "language": "python",
      "name": "python3"
    },
    "language_info": {
      "codemirror_mode": {
        "name": "ipython",
        "version": 3
      },
      "file_extension": ".py",
      "mimetype": "text/x-python",
      "name": "python",
      "nbconvert_exporter": "python",
      "pygments_lexer": "ipython3",
      "version": "3.7.4"
    },
    "colab": {
      "name": "Ejercicio_filtro_colaborativo_RamonAviles.ipynb",
      "provenance": []
    }
  },
  "cells": [
    {
      "cell_type": "markdown",
      "metadata": {
        "id": "Yg-roP6174NE"
      },
      "source": [
        "<center><img src='https://urldefense.com/v3/__https://sedigitalylanzate.es/wp-content/uploads/2019/03/logoeoiok-e1552040050697.png__;!!MXQJGYEVCjwd!AaJpMIhjhRWcegQ2aKyvx1P9gaSA5oC7F7sVurPi34hiHVo6k8-Ordl8Z_gm-SCRMSMR5lA$ ' width=\"500\"></center>"
      ]
    },
    {
      "cell_type": "markdown",
      "metadata": {
        "id": "CjtBLAma74NG"
      },
      "source": [
        "# Ejercicio de algoritmo de filtro colaborativo\n",
        "\n",
        "El objetivo de este ejercicio es generar un algoritmo de filtro colaborativo con los datos del dataset beer_review. La información se corresponde con la reviews de la web https://urldefense.com/v3/__https://www.beeradvocate.com/__;!!MXQJGYEVCjwd!AaJpMIhjhRWcegQ2aKyvx1P9gaSA5oC7F7sVurPi34hiHVo6k8-Ordl8Z_gm-SCRXm04eLI$ "
      ]
    },
    {
      "cell_type": "markdown",
      "metadata": {
        "id": "YUPGzeA574NH"
      },
      "source": [
        "<center><img src='https://urldefense.com/v3/__https://www.pngitem.com/pimgs/m/39-394080_beer-advocate-hd-png-download.png__;!!MXQJGYEVCjwd!AaJpMIhjhRWcegQ2aKyvx1P9gaSA5oC7F7sVurPi34hiHVo6k8-Ordl8Z_gm-SCRskeByAY$ ' width=600 ></center>"
      ]
    },
    {
      "cell_type": "markdown",
      "metadata": {
        "id": "LJy7Va9q74NH"
      },
      "source": [
        "## Información\n",
        "\n",
        "Este dataset consiste en revisiones de cerveza de Beeradvocate. Los datos abarcan un período de más de 10 años, que incluye todas ~ 1.5 millones de revisiones hasta noviembre de 2011. Cada revisión incluye calificaciones en términos de cinco \"aspectos\": apariencia, aroma, paladar, sabor e impresión general. Las revisiones incluyen información del producto y del usuario, seguida de cada una de estas cinco clasificaciones, y una revisión en formato texto. \n",
        "\n",
        "Para nuestro ejercicio vamos a usar una versión reducida de este dataset, que contiene las reviews de aquellos usuarios que han valorado al menos 50 cervezas."
      ]
    },
    {
      "cell_type": "markdown",
      "metadata": {
        "id": "TWmT9ifI74NH"
      },
      "source": [
        "## Pasos a seguir\n",
        "\n",
        "1. Descarga la información de beeradvocate en una carpeta que se llame `datos_ejercicios/beeradvocate` y que se encuentre al mismo nivel que el notebook en el que vas a ejecutar el código.\n",
        "\n",
        "2. Lee el fichero `beer_reviews_50.csv` y crea dos datasets:\n",
        "    - uno con las reviews de los usuarios.\n",
        "    - otro con la información de la cerveza (brewery, beer_name, beer_style)\n",
        "    \n",
        "3. Divide la información en los conjuntos de train y test.\n",
        "\n",
        "4. De los distintos tipos de algoritmos que conocemos elige uno para generar la recomendación. Si creas más de uno explica el motivo de tu elección.\n",
        "\n",
        "\n",
        "5. Crea una función que dado un usuario nos devuelva el top 10 de recomendaciones. \n",
        "\n",
        "6. Genera un html con los resultados de notebook file -> Export Notebook As... -> Export Notebook as HTML. Este html será el documento que tendrás que entregar para la evaluación del ejercicio."
      ]
    },
    {
      "cell_type": "code",
      "metadata": {
        "id": "X8rHTOMX74NI",
        "colab": {
          "base_uri": "https://urldefense.com/v3/__https://localhost:8080/__;!!MXQJGYEVCjwd!AaJpMIhjhRWcegQ2aKyvx1P9gaSA5oC7F7sVurPi34hiHVo6k8-Ordl8Z_gm-SCRvBOln6w$ "
        },
        "outputId": "38c35837-9557-41dc-a6aa-e0a36e223cd5"
      },
      "source": [
        "from google.colab import drive\n",
        "drive.mount('/content/drive')"
      ],
      "execution_count": 330,
      "outputs": [
        {
          "output_type": "stream",
          "text": [
            "Drive already mounted at /content/drive; to attempt to forcibly remount, call drive.mount(\"/content/drive\", force_remount=True).\n"
          ],
          "name": "stdout"
        }
      ]
    },
    {
      "cell_type": "code",
      "metadata": {
        "id": "m0or4yjiA3Cm"
      },
      "source": [
        "import pandas as pd\n",
        "import numpy as np\n",
        "import matplotlib.pyplot as plt\n",
        "import sys\n",
        "import seaborn as sns"
      ],
      "execution_count": 401,
      "outputs": []
    },
    {
      "cell_type": "code",
      "metadata": {
        "id": "fjuKCJYwA3AV"
      },
      "source": [
        "totalDB = pd.read_csv('/content/drive/MyDrive/datos_ejercicios/beeradvocate/beer_reviews_50.csv', low_memory=False)"
      ],
      "execution_count": 402,
      "outputs": []
    },
    {
      "cell_type": "code",
      "metadata": {
        "id": "FTknF-miA288",
        "colab": {
          "base_uri": "https://urldefense.com/v3/__https://localhost:8080/__;!!MXQJGYEVCjwd!AaJpMIhjhRWcegQ2aKyvx1P9gaSA5oC7F7sVurPi34hiHVo6k8-Ordl8Z_gm-SCRvBOln6w$ ",
          "height": 411
        },
        "outputId": "a30743bb-903e-4fd4-a6e2-b0ee8943c58a"
      },
      "source": [
        "totalDB.head()"
      ],
      "execution_count": 403,
      "outputs": [
        {
          "output_type": "execute_result",
          "data": {
            "text/html": [
              "<div>\n",
              "<style scoped>\n",
              "    .dataframe tbody tr th:only-of-type {\n",
              "        vertical-align: middle;\n",
              "    }\n",
              "\n",
              "    .dataframe tbody tr th {\n",
              "        vertical-align: top;\n",
              "    }\n",
              "\n",
              "    .dataframe thead th {\n",
              "        text-align: right;\n",
              "    }\n",
              "</style>\n",
              "<table border=\"1\" class=\"dataframe\">\n",
              "  <thead>\n",
              "    <tr style=\"text-align: right;\">\n",
              "      <th></th>\n",
              "      <th>brewery_id</th>\n",
              "      <th>brewery_name</th>\n",
              "      <th>review_time</th>\n",
              "      <th>review_overall</th>\n",
              "      <th>review_aroma</th>\n",
              "      <th>review_appearance</th>\n",
              "      <th>review_profilename</th>\n",
              "      <th>beer_style</th>\n",
              "      <th>review_palate</th>\n",
              "      <th>review_taste</th>\n",
              "      <th>beer_name</th>\n",
              "      <th>beer_abv</th>\n",
              "      <th>beer_beerid</th>\n",
              "      <th>user_id</th>\n",
              "    </tr>\n",
              "  </thead>\n",
              "  <tbody>\n",
              "    <tr>\n",
              "      <th>0</th>\n",
              "      <td>163</td>\n",
              "      <td>Amstel Brouwerij B. V.</td>\n",
              "      <td>1023302870</td>\n",
              "      <td>3.5</td>\n",
              "      <td>3.5</td>\n",
              "      <td>3.5</td>\n",
              "      <td>Mar-77</td>\n",
              "      <td>Light Lager</td>\n",
              "      <td>3.0</td>\n",
              "      <td>3.0</td>\n",
              "      <td>Amstel Light</td>\n",
              "      <td>3.50</td>\n",
              "      <td>436</td>\n",
              "      <td>1</td>\n",
              "    </tr>\n",
              "    <tr>\n",
              "      <th>1</th>\n",
              "      <td>395</td>\n",
              "      <td>Bluegrass Brewing Co. - East St. Matthew's</td>\n",
              "      <td>1055007422</td>\n",
              "      <td>4.5</td>\n",
              "      <td>4.0</td>\n",
              "      <td>4.5</td>\n",
              "      <td>Mar-77</td>\n",
              "      <td>American Pale Ale (APA)</td>\n",
              "      <td>3.5</td>\n",
              "      <td>4.0</td>\n",
              "      <td>American Pale Ale</td>\n",
              "      <td>5.79</td>\n",
              "      <td>1122</td>\n",
              "      <td>1</td>\n",
              "    </tr>\n",
              "    <tr>\n",
              "      <th>2</th>\n",
              "      <td>395</td>\n",
              "      <td>Bluegrass Brewing Co. - East St. Matthew's</td>\n",
              "      <td>1055009536</td>\n",
              "      <td>5.0</td>\n",
              "      <td>3.5</td>\n",
              "      <td>4.5</td>\n",
              "      <td>Mar-77</td>\n",
              "      <td>English Porter</td>\n",
              "      <td>3.5</td>\n",
              "      <td>4.5</td>\n",
              "      <td>Dark Star Porter</td>\n",
              "      <td>5.60</td>\n",
              "      <td>1123</td>\n",
              "      <td>1</td>\n",
              "    </tr>\n",
              "    <tr>\n",
              "      <th>3</th>\n",
              "      <td>365</td>\n",
              "      <td>Pike Pub &amp; Brewery</td>\n",
              "      <td>1052070806</td>\n",
              "      <td>5.0</td>\n",
              "      <td>4.5</td>\n",
              "      <td>4.5</td>\n",
              "      <td>Mar-77</td>\n",
              "      <td>American Stout</td>\n",
              "      <td>4.0</td>\n",
              "      <td>4.5</td>\n",
              "      <td>Pike Street XXXXX Stout</td>\n",
              "      <td>7.00</td>\n",
              "      <td>966</td>\n",
              "      <td>1</td>\n",
              "    </tr>\n",
              "    <tr>\n",
              "      <th>4</th>\n",
              "      <td>1199</td>\n",
              "      <td>Founders Brewing Company</td>\n",
              "      <td>1065491961</td>\n",
              "      <td>4.5</td>\n",
              "      <td>4.5</td>\n",
              "      <td>4.0</td>\n",
              "      <td>Mar-77</td>\n",
              "      <td>Scotch Ale / Wee Heavy</td>\n",
              "      <td>3.0</td>\n",
              "      <td>4.0</td>\n",
              "      <td>Founders Dirty Bastard</td>\n",
              "      <td>8.50</td>\n",
              "      <td>7463</td>\n",
              "      <td>1</td>\n",
              "    </tr>\n",
              "  </tbody>\n",
              "</table>\n",
              "</div>"
            ],
            "text/plain": [
              "   brewery_id                                brewery_name  ...  beer_beerid  user_id\n",
              "0         163                      Amstel Brouwerij B. V.  ...          436        1\n",
              "1         395  Bluegrass Brewing Co. - East St. Matthew's  ...         1122        1\n",
              "2         395  Bluegrass Brewing Co. - East St. Matthew's  ...         1123        1\n",
              "3         365                          Pike Pub & Brewery  ...          966        1\n",
              "4        1199                    Founders Brewing Company  ...         7463        1\n",
              "\n",
              "[5 rows x 14 columns]"
            ]
          },
          "metadata": {
            "tags": []
          },
          "execution_count": 403
        }
      ]
    },
    {
      "cell_type": "code",
      "metadata": {
        "id": "qK2trCaKJa3n"
      },
      "source": [
        "reviews = totalDB[['user_id','review_profilename','review_overall','review_aroma','review_appearance','review_palate','review_taste','beer_abv']]"
      ],
      "execution_count": 404,
      "outputs": []
    },
    {
      "cell_type": "code",
      "metadata": {
        "id": "dJyvtM6lA25u"
      },
      "source": [
        "cervezas = totalDB[['beer_beerid','brewery_name','beer_style','beer_name']]"
      ],
      "execution_count": 405,
      "outputs": []
    },
    {
      "cell_type": "code",
      "metadata": {
        "id": "pe8UWBL_A20L",
        "colab": {
          "base_uri": "https://urldefense.com/v3/__https://localhost:8080/__;!!MXQJGYEVCjwd!AaJpMIhjhRWcegQ2aKyvx1P9gaSA5oC7F7sVurPi34hiHVo6k8-Ordl8Z_gm-SCRvBOln6w$ ",
          "height": 204
        },
        "outputId": "e4a71ad7-e188-4b5d-9a77-7d15039d74ec"
      },
      "source": [
        "reviews.head()"
      ],
      "execution_count": 406,
      "outputs": [
        {
          "output_type": "execute_result",
          "data": {
            "text/html": [
              "<div>\n",
              "<style scoped>\n",
              "    .dataframe tbody tr th:only-of-type {\n",
              "        vertical-align: middle;\n",
              "    }\n",
              "\n",
              "    .dataframe tbody tr th {\n",
              "        vertical-align: top;\n",
              "    }\n",
              "\n",
              "    .dataframe thead th {\n",
              "        text-align: right;\n",
              "    }\n",
              "</style>\n",
              "<table border=\"1\" class=\"dataframe\">\n",
              "  <thead>\n",
              "    <tr style=\"text-align: right;\">\n",
              "      <th></th>\n",
              "      <th>user_id</th>\n",
              "      <th>review_profilename</th>\n",
              "      <th>review_overall</th>\n",
              "      <th>review_aroma</th>\n",
              "      <th>review_appearance</th>\n",
              "      <th>review_palate</th>\n",
              "      <th>review_taste</th>\n",
              "      <th>beer_abv</th>\n",
              "    </tr>\n",
              "  </thead>\n",
              "  <tbody>\n",
              "    <tr>\n",
              "      <th>0</th>\n",
              "      <td>1</td>\n",
              "      <td>Mar-77</td>\n",
              "      <td>3.5</td>\n",
              "      <td>3.5</td>\n",
              "      <td>3.5</td>\n",
              "      <td>3.0</td>\n",
              "      <td>3.0</td>\n",
              "      <td>3.50</td>\n",
              "    </tr>\n",
              "    <tr>\n",
              "      <th>1</th>\n",
              "      <td>1</td>\n",
              "      <td>Mar-77</td>\n",
              "      <td>4.5</td>\n",
              "      <td>4.0</td>\n",
              "      <td>4.5</td>\n",
              "      <td>3.5</td>\n",
              "      <td>4.0</td>\n",
              "      <td>5.79</td>\n",
              "    </tr>\n",
              "    <tr>\n",
              "      <th>2</th>\n",
              "      <td>1</td>\n",
              "      <td>Mar-77</td>\n",
              "      <td>5.0</td>\n",
              "      <td>3.5</td>\n",
              "      <td>4.5</td>\n",
              "      <td>3.5</td>\n",
              "      <td>4.5</td>\n",
              "      <td>5.60</td>\n",
              "    </tr>\n",
              "    <tr>\n",
              "      <th>3</th>\n",
              "      <td>1</td>\n",
              "      <td>Mar-77</td>\n",
              "      <td>5.0</td>\n",
              "      <td>4.5</td>\n",
              "      <td>4.5</td>\n",
              "      <td>4.0</td>\n",
              "      <td>4.5</td>\n",
              "      <td>7.00</td>\n",
              "    </tr>\n",
              "    <tr>\n",
              "      <th>4</th>\n",
              "      <td>1</td>\n",
              "      <td>Mar-77</td>\n",
              "      <td>4.5</td>\n",
              "      <td>4.5</td>\n",
              "      <td>4.0</td>\n",
              "      <td>3.0</td>\n",
              "      <td>4.0</td>\n",
              "      <td>8.50</td>\n",
              "    </tr>\n",
              "  </tbody>\n",
              "</table>\n",
              "</div>"
            ],
            "text/plain": [
              "   user_id review_profilename  ...  review_taste  beer_abv\n",
              "0        1             Mar-77  ...           3.0      3.50\n",
              "1        1             Mar-77  ...           4.0      5.79\n",
              "2        1             Mar-77  ...           4.5      5.60\n",
              "3        1             Mar-77  ...           4.5      7.00\n",
              "4        1             Mar-77  ...           4.0      8.50\n",
              "\n",
              "[5 rows x 8 columns]"
            ]
          },
          "metadata": {
            "tags": []
          },
          "execution_count": 406
        }
      ]
    },
    {
      "cell_type": "code",
      "metadata": {
        "colab": {
          "base_uri": "https://urldefense.com/v3/__https://localhost:8080/__;!!MXQJGYEVCjwd!AaJpMIhjhRWcegQ2aKyvx1P9gaSA5oC7F7sVurPi34hiHVo6k8-Ordl8Z_gm-SCRvBOln6w$ "
        },
        "id": "lU4UjabYUUhG",
        "outputId": "f85a65ed-23e0-4571-a12b-699eb5ff57be"
      },
      "source": [
        "cervezas.head"
      ],
      "execution_count": 477,
      "outputs": [
        {
          "output_type": "execute_result",
          "data": {
            "text/plain": [
              "<bound method NDFrame.head of         beer_beerid  ...                         beer_name\n",
              "0               436  ...                      Amstel Light\n",
              "1              1122  ...                 American Pale Ale\n",
              "2              1123  ...                  Dark Star Porter\n",
              "3               966  ...           Pike Street XXXXX Stout\n",
              "4              7463  ...            Founders Dirty Bastard\n",
              "...             ...  ...                               ...\n",
              "256591          694  ...                       Don de Dieu\n",
              "256592           31  ...                Blanche De Chambly\n",
              "256593        14732  ...                      Edition 2004\n",
              "256594           33  ...                           Maudite\n",
              "256595        26072  ...  Noire De Chambly / Chambly Noire\n",
              "\n",
              "[256596 rows x 4 columns]>"
            ]
          },
          "metadata": {
            "tags": []
          },
          "execution_count": 477
        }
      ]
    },
    {
      "cell_type": "code",
      "metadata": {
        "id": "33TKV7MdKgo8"
      },
      "source": [
        "U_rating = totalDB[['user_id','beer_beerid','review_overall']] "
      ],
      "execution_count": 408,
      "outputs": []
    },
    {
      "cell_type": "code",
      "metadata": {
        "colab": {
          "base_uri": "https://urldefense.com/v3/__https://localhost:8080/__;!!MXQJGYEVCjwd!AaJpMIhjhRWcegQ2aKyvx1P9gaSA5oC7F7sVurPi34hiHVo6k8-Ordl8Z_gm-SCRvBOln6w$ ",
          "height": 204
        },
        "id": "uhKMZrgGb6Rx",
        "outputId": "338b4652-5383-46bc-d108-c8147d70baee"
      },
      "source": [
        "U_rating.head()"
      ],
      "execution_count": 409,
      "outputs": [
        {
          "output_type": "execute_result",
          "data": {
            "text/html": [
              "<div>\n",
              "<style scoped>\n",
              "    .dataframe tbody tr th:only-of-type {\n",
              "        vertical-align: middle;\n",
              "    }\n",
              "\n",
              "    .dataframe tbody tr th {\n",
              "        vertical-align: top;\n",
              "    }\n",
              "\n",
              "    .dataframe thead th {\n",
              "        text-align: right;\n",
              "    }\n",
              "</style>\n",
              "<table border=\"1\" class=\"dataframe\">\n",
              "  <thead>\n",
              "    <tr style=\"text-align: right;\">\n",
              "      <th></th>\n",
              "      <th>user_id</th>\n",
              "      <th>beer_beerid</th>\n",
              "      <th>review_overall</th>\n",
              "    </tr>\n",
              "  </thead>\n",
              "  <tbody>\n",
              "    <tr>\n",
              "      <th>0</th>\n",
              "      <td>1</td>\n",
              "      <td>436</td>\n",
              "      <td>3.5</td>\n",
              "    </tr>\n",
              "    <tr>\n",
              "      <th>1</th>\n",
              "      <td>1</td>\n",
              "      <td>1122</td>\n",
              "      <td>4.5</td>\n",
              "    </tr>\n",
              "    <tr>\n",
              "      <th>2</th>\n",
              "      <td>1</td>\n",
              "      <td>1123</td>\n",
              "      <td>5.0</td>\n",
              "    </tr>\n",
              "    <tr>\n",
              "      <th>3</th>\n",
              "      <td>1</td>\n",
              "      <td>966</td>\n",
              "      <td>5.0</td>\n",
              "    </tr>\n",
              "    <tr>\n",
              "      <th>4</th>\n",
              "      <td>1</td>\n",
              "      <td>7463</td>\n",
              "      <td>4.5</td>\n",
              "    </tr>\n",
              "  </tbody>\n",
              "</table>\n",
              "</div>"
            ],
            "text/plain": [
              "   user_id  beer_beerid  review_overall\n",
              "0        1          436             3.5\n",
              "1        1         1122             4.5\n",
              "2        1         1123             5.0\n",
              "3        1          966             5.0\n",
              "4        1         7463             4.5"
            ]
          },
          "metadata": {
            "tags": []
          },
          "execution_count": 409
        }
      ]
    },
    {
      "cell_type": "code",
      "metadata": {
        "id": "Ac8xWO4mJ0kW"
      },
      "source": [
        "conteo_rating = (\n",
        "    U_rating[['user_id','beer_beerid']]\n",
        "    .groupby('user_id')\n",
        "    .count().reset_index()\n",
        "    .rename(columns={'beer_beerid': 'count'})\n",
        ")"
      ],
      "execution_count": 410,
      "outputs": []
    },
    {
      "cell_type": "code",
      "metadata": {
        "id": "E33FwQhIMm5p"
      },
      "source": [
        "minimo_votos = conteo_rating['count'].quantile(0.70)"
      ],
      "execution_count": 411,
      "outputs": []
    },
    {
      "cell_type": "code",
      "metadata": {
        "colab": {
          "base_uri": "https://urldefense.com/v3/__https://localhost:8080/__;!!MXQJGYEVCjwd!AaJpMIhjhRWcegQ2aKyvx1P9gaSA5oC7F7sVurPi34hiHVo6k8-Ordl8Z_gm-SCRvBOln6w$ "
        },
        "id": "mVigQQ6dMvRI",
        "outputId": "4065c50a-2bd2-41cd-af7f-0a959ea711c5"
      },
      "source": [
        "minimo_votos"
      ],
      "execution_count": 412,
      "outputs": [
        {
          "output_type": "execute_result",
          "data": {
            "text/plain": [
              "147.0"
            ]
          },
          "metadata": {
            "tags": []
          },
          "execution_count": 412
        }
      ]
    },
    {
      "cell_type": "code",
      "metadata": {
        "id": "Mv59cgn7Myqt"
      },
      "source": [
        "lista_votos = conteo_rating[conteo_rating['count']>= minimo_votos].user_id.tolist()"
      ],
      "execution_count": 413,
      "outputs": []
    },
    {
      "cell_type": "code",
      "metadata": {
        "id": "8Lbq53R6Q3XU"
      },
      "source": [
        "U_rating = U_rating[U_rating.user_id.isin(lista_votos)]"
      ],
      "execution_count": 414,
      "outputs": []
    },
    {
      "cell_type": "code",
      "metadata": {
        "id": "1wiPk66yA2xa"
      },
      "source": [
        "from sklearn.model_selection import train_test_split\n",
        "\n",
        "\n",
        "X = U_rating.copy()\n",
        "y = U_rating['user_id']"
      ],
      "execution_count": 415,
      "outputs": []
    },
    {
      "cell_type": "code",
      "metadata": {
        "colab": {
          "base_uri": "https://urldefense.com/v3/__https://localhost:8080/__;!!MXQJGYEVCjwd!AaJpMIhjhRWcegQ2aKyvx1P9gaSA5oC7F7sVurPi34hiHVo6k8-Ordl8Z_gm-SCRvBOln6w$ "
        },
        "id": "znE0DpCrSC4b",
        "outputId": "84aaed51-33cf-4a85-ef2f-a06cdfbb31c1"
      },
      "source": [
        "train_test_split"
      ],
      "execution_count": 416,
      "outputs": [
        {
          "output_type": "execute_result",
          "data": {
            "text/plain": [
              "<function sklearn.model_selection._split.train_test_split>"
            ]
          },
          "metadata": {
            "tags": []
          },
          "execution_count": 416
        }
      ]
    },
    {
      "cell_type": "code",
      "metadata": {
        "id": "Bc3hiB6UA2ud"
      },
      "source": [
        "X_train, X_test, y_train, y_test = train_test_split(X, y, test_size = 0.25, stratify=y, random_state=42)"
      ],
      "execution_count": 417,
      "outputs": []
    },
    {
      "cell_type": "code",
      "metadata": {
        "id": "cBwz1JfgSLWv"
      },
      "source": [
        "from sklearn.metrics import mean_squared_error"
      ],
      "execution_count": 418,
      "outputs": []
    },
    {
      "cell_type": "code",
      "metadata": {
        "colab": {
          "base_uri": "https://urldefense.com/v3/__https://localhost:8080/__;!!MXQJGYEVCjwd!AaJpMIhjhRWcegQ2aKyvx1P9gaSA5oC7F7sVurPi34hiHVo6k8-Ordl8Z_gm-SCRvBOln6w$ "
        },
        "id": "G2dXRBV5SN3l",
        "outputId": "1a9dacfc-fa9e-49dd-d297-4c0ab6ba33f0"
      },
      "source": [
        "mean_squared_error"
      ],
      "execution_count": 419,
      "outputs": [
        {
          "output_type": "execute_result",
          "data": {
            "text/plain": [
              "<function sklearn.metrics._regression.mean_squared_error>"
            ]
          },
          "metadata": {
            "tags": []
          },
          "execution_count": 419
        }
      ]
    },
    {
      "cell_type": "code",
      "metadata": {
        "id": "ep8iaTDgSURs"
      },
      "source": [
        "def rmse(y_true, y_pred):\n",
        "    return np.sqrt(mean_squared_error(y_true, y_pred))"
      ],
      "execution_count": 420,
      "outputs": []
    },
    {
      "cell_type": "code",
      "metadata": {
        "id": "c3hX-GWPSXxm"
      },
      "source": [
        "def baseline(usuario,cerveza):\n",
        "    return 3.0"
      ],
      "execution_count": 421,
      "outputs": []
    },
    {
      "cell_type": "code",
      "metadata": {
        "id": "kDbLi7LMDMGP"
      },
      "source": [
        "pares = zip(X_test['user_id'], X_test['beer_beerid'])"
      ],
      "execution_count": 422,
      "outputs": []
    },
    {
      "cell_type": "code",
      "metadata": {
        "id": "wkfZL64wTjeo"
      },
      "source": [
        "def calculo_rmse(modelo):\n",
        "    \n",
        "    #Creamos una tupla de usuarios-cervezas del conjunto de test\n",
        "    pares = zip(X_test['user_id'], X_test['beer_beerid'])\n",
        "    \n",
        "    #Hacemos una predicción para cada tupla\n",
        "    y_pred = np.array([modelo(user_id, beer_beerid) for (user_id, beer_beerid) in pares])\n",
        "    \n",
        "    #Sacamos el dato real\n",
        "    y_true = np.array(X_test['review_overall'])\n",
        "    \n",
        "    #devolvemos el valor de rmse\n",
        "    return rmse(y_true, y_pred)\n",
        "\n",
        "    "
      ],
      "execution_count": 423,
      "outputs": []
    },
    {
      "cell_type": "code",
      "metadata": {
        "colab": {
          "base_uri": "https://urldefense.com/v3/__https://localhost:8080/__;!!MXQJGYEVCjwd!AaJpMIhjhRWcegQ2aKyvx1P9gaSA5oC7F7sVurPi34hiHVo6k8-Ordl8Z_gm-SCRvBOln6w$ "
        },
        "id": "R5vYLWp6rmnB",
        "outputId": "aaa0d398-eb78-4af5-98a7-a2fe49459aea"
      },
      "source": [
        "calculo_rmse(baseline)"
      ],
      "execution_count": 454,
      "outputs": [
        {
          "output_type": "execute_result",
          "data": {
            "text/plain": [
              "1.0500646154202502"
            ]
          },
          "metadata": {
            "tags": []
          },
          "execution_count": 454
        }
      ]
    },
    {
      "cell_type": "code",
      "metadata": {
        "id": "BJrwbf2oUNzl"
      },
      "source": [
        "usuario_ejemplo = int(reviews['user_id'].sample(n=1, random_state=1))"
      ],
      "execution_count": 425,
      "outputs": []
    },
    {
      "cell_type": "code",
      "metadata": {
        "id": "DCAx8kXAA2rT",
        "colab": {
          "base_uri": "https://urldefense.com/v3/__https://localhost:8080/__;!!MXQJGYEVCjwd!AaJpMIhjhRWcegQ2aKyvx1P9gaSA5oC7F7sVurPi34hiHVo6k8-Ordl8Z_gm-SCRvBOln6w$ "
        },
        "outputId": "f4e2d86e-6feb-46cb-b06a-8581ea439121"
      },
      "source": [
        "usuario_ejemplo"
      ],
      "execution_count": 426,
      "outputs": [
        {
          "output_type": "execute_result",
          "data": {
            "text/plain": [
              "808"
            ]
          },
          "metadata": {
            "tags": []
          },
          "execution_count": 426
        }
      ]
    },
    {
      "cell_type": "code",
      "metadata": {
        "id": "cwaamopcA2ow"
      },
      "source": [
        "puntuaciones_ejemplo = (\n",
        "    U_rating[U_rating.user_id == usuario_ejemplo]\n",
        "    .sort_values(\"review_overall\", ascending=False)\n",
        "    .merge(\n",
        "        cervezas[[\"beer_beerid\", \"beer_name\"]],\n",
        "        on='beer_beerid'\n",
        "    )\n",
        ")"
      ],
      "execution_count": 427,
      "outputs": []
    },
    {
      "cell_type": "code",
      "metadata": {
        "id": "7tTQ3f3oFoaW"
      },
      "source": [
        "puntuacion_ejemplo = puntuaciones_ejemplo.drop_duplicates()"
      ],
      "execution_count": 428,
      "outputs": []
    },
    {
      "cell_type": "code",
      "metadata": {
        "colab": {
          "base_uri": "https://urldefense.com/v3/__https://localhost:8080/__;!!MXQJGYEVCjwd!AaJpMIhjhRWcegQ2aKyvx1P9gaSA5oC7F7sVurPi34hiHVo6k8-Ordl8Z_gm-SCRvBOln6w$ ",
          "height": 359
        },
        "id": "PMviGJNW2Orr",
        "outputId": "2e04fee3-baf4-4e5c-f8e0-c7bc8b88974d"
      },
      "source": [
        "puntuacion_ejemplo.head(10)"
      ],
      "execution_count": 429,
      "outputs": [
        {
          "output_type": "execute_result",
          "data": {
            "text/html": [
              "<div>\n",
              "<style scoped>\n",
              "    .dataframe tbody tr th:only-of-type {\n",
              "        vertical-align: middle;\n",
              "    }\n",
              "\n",
              "    .dataframe tbody tr th {\n",
              "        vertical-align: top;\n",
              "    }\n",
              "\n",
              "    .dataframe thead th {\n",
              "        text-align: right;\n",
              "    }\n",
              "</style>\n",
              "<table border=\"1\" class=\"dataframe\">\n",
              "  <thead>\n",
              "    <tr style=\"text-align: right;\">\n",
              "      <th></th>\n",
              "      <th>user_id</th>\n",
              "      <th>beer_beerid</th>\n",
              "      <th>review_overall</th>\n",
              "      <th>beer_name</th>\n",
              "    </tr>\n",
              "  </thead>\n",
              "  <tbody>\n",
              "    <tr>\n",
              "      <th>0</th>\n",
              "      <td>808</td>\n",
              "      <td>771</td>\n",
              "      <td>5.0</td>\n",
              "      <td>Entire Butt English Porter</td>\n",
              "    </tr>\n",
              "    <tr>\n",
              "      <th>122</th>\n",
              "      <td>808</td>\n",
              "      <td>473</td>\n",
              "      <td>5.0</td>\n",
              "      <td>Dunster Street Amber</td>\n",
              "    </tr>\n",
              "    <tr>\n",
              "      <th>124</th>\n",
              "      <td>808</td>\n",
              "      <td>473</td>\n",
              "      <td>4.0</td>\n",
              "      <td>Dunster Street Amber</td>\n",
              "    </tr>\n",
              "    <tr>\n",
              "      <th>126</th>\n",
              "      <td>808</td>\n",
              "      <td>6171</td>\n",
              "      <td>5.0</td>\n",
              "      <td>Best Bitter</td>\n",
              "    </tr>\n",
              "    <tr>\n",
              "      <th>129</th>\n",
              "      <td>808</td>\n",
              "      <td>666</td>\n",
              "      <td>5.0</td>\n",
              "      <td>Hacker-Pschorr Dunkle Weisse</td>\n",
              "    </tr>\n",
              "    <tr>\n",
              "      <th>316</th>\n",
              "      <td>808</td>\n",
              "      <td>39201</td>\n",
              "      <td>5.0</td>\n",
              "      <td>Hopworks IPA</td>\n",
              "    </tr>\n",
              "    <tr>\n",
              "      <th>397</th>\n",
              "      <td>808</td>\n",
              "      <td>477</td>\n",
              "      <td>5.0</td>\n",
              "      <td>Irish Dry Stout</td>\n",
              "    </tr>\n",
              "    <tr>\n",
              "      <th>411</th>\n",
              "      <td>808</td>\n",
              "      <td>18595</td>\n",
              "      <td>5.0</td>\n",
              "      <td>Irish Stout</td>\n",
              "    </tr>\n",
              "    <tr>\n",
              "      <th>418</th>\n",
              "      <td>808</td>\n",
              "      <td>1818</td>\n",
              "      <td>5.0</td>\n",
              "      <td>Waas Klokbier</td>\n",
              "    </tr>\n",
              "    <tr>\n",
              "      <th>421</th>\n",
              "      <td>808</td>\n",
              "      <td>638</td>\n",
              "      <td>5.0</td>\n",
              "      <td>Blackout Oatmeal Stout</td>\n",
              "    </tr>\n",
              "  </tbody>\n",
              "</table>\n",
              "</div>"
            ],
            "text/plain": [
              "     user_id  beer_beerid  review_overall                     beer_name\n",
              "0        808          771             5.0    Entire Butt English Porter\n",
              "122      808          473             5.0          Dunster Street Amber\n",
              "124      808          473             4.0          Dunster Street Amber\n",
              "126      808         6171             5.0                   Best Bitter\n",
              "129      808          666             5.0  Hacker-Pschorr Dunkle Weisse\n",
              "316      808        39201             5.0                  Hopworks IPA\n",
              "397      808          477             5.0               Irish Dry Stout\n",
              "411      808        18595             5.0                   Irish Stout\n",
              "418      808         1818             5.0                 Waas Klokbier\n",
              "421      808          638             5.0        Blackout Oatmeal Stout"
            ]
          },
          "metadata": {
            "tags": []
          },
          "execution_count": 429
        }
      ]
    },
    {
      "cell_type": "code",
      "metadata": {
        "id": "xdWagEpNA2mN"
      },
      "source": [
        "pd.options.display.max_rows = puntuacion_ejemplo.shape[0]"
      ],
      "execution_count": 430,
      "outputs": []
    },
    {
      "cell_type": "code",
      "metadata": {
        "id": "dntVYHImA2h8",
        "colab": {
          "base_uri": "https://urldefense.com/v3/__https://localhost:8080/__;!!MXQJGYEVCjwd!AaJpMIhjhRWcegQ2aKyvx1P9gaSA5oC7F7sVurPi34hiHVo6k8-Ordl8Z_gm-SCRvBOln6w$ ",
          "height": 359
        },
        "outputId": "2b3c532a-feda-486e-ac5c-ed91387745b5"
      },
      "source": [
        "puntuacion_ejemplo.sort_values([\"review_overall\", \"beer_beerid\"], ascending=False).head(10)"
      ],
      "execution_count": 431,
      "outputs": [
        {
          "output_type": "execute_result",
          "data": {
            "text/html": [
              "<div>\n",
              "<style scoped>\n",
              "    .dataframe tbody tr th:only-of-type {\n",
              "        vertical-align: middle;\n",
              "    }\n",
              "\n",
              "    .dataframe tbody tr th {\n",
              "        vertical-align: top;\n",
              "    }\n",
              "\n",
              "    .dataframe thead th {\n",
              "        text-align: right;\n",
              "    }\n",
              "</style>\n",
              "<table border=\"1\" class=\"dataframe\">\n",
              "  <thead>\n",
              "    <tr style=\"text-align: right;\">\n",
              "      <th></th>\n",
              "      <th>user_id</th>\n",
              "      <th>beer_beerid</th>\n",
              "      <th>review_overall</th>\n",
              "      <th>beer_name</th>\n",
              "    </tr>\n",
              "  </thead>\n",
              "  <tbody>\n",
              "    <tr>\n",
              "      <th>316</th>\n",
              "      <td>808</td>\n",
              "      <td>39201</td>\n",
              "      <td>5.0</td>\n",
              "      <td>Hopworks IPA</td>\n",
              "    </tr>\n",
              "    <tr>\n",
              "      <th>411</th>\n",
              "      <td>808</td>\n",
              "      <td>18595</td>\n",
              "      <td>5.0</td>\n",
              "      <td>Irish Stout</td>\n",
              "    </tr>\n",
              "    <tr>\n",
              "      <th>3314</th>\n",
              "      <td>808</td>\n",
              "      <td>8784</td>\n",
              "      <td>5.0</td>\n",
              "      <td>Hirsch Bavarian-Weissbier Hefeweisse</td>\n",
              "    </tr>\n",
              "    <tr>\n",
              "      <th>126</th>\n",
              "      <td>808</td>\n",
              "      <td>6171</td>\n",
              "      <td>5.0</td>\n",
              "      <td>Best Bitter</td>\n",
              "    </tr>\n",
              "    <tr>\n",
              "      <th>2600</th>\n",
              "      <td>808</td>\n",
              "      <td>4064</td>\n",
              "      <td>5.0</td>\n",
              "      <td>Brakspear Bitter</td>\n",
              "    </tr>\n",
              "    <tr>\n",
              "      <th>3368</th>\n",
              "      <td>808</td>\n",
              "      <td>1871</td>\n",
              "      <td>5.0</td>\n",
              "      <td>Dobbelen Bruinen</td>\n",
              "    </tr>\n",
              "    <tr>\n",
              "      <th>418</th>\n",
              "      <td>808</td>\n",
              "      <td>1818</td>\n",
              "      <td>5.0</td>\n",
              "      <td>Waas Klokbier</td>\n",
              "    </tr>\n",
              "    <tr>\n",
              "      <th>2640</th>\n",
              "      <td>808</td>\n",
              "      <td>1658</td>\n",
              "      <td>5.0</td>\n",
              "      <td>Big Bear Black Stout</td>\n",
              "    </tr>\n",
              "    <tr>\n",
              "      <th>0</th>\n",
              "      <td>808</td>\n",
              "      <td>771</td>\n",
              "      <td>5.0</td>\n",
              "      <td>Entire Butt English Porter</td>\n",
              "    </tr>\n",
              "    <tr>\n",
              "      <th>129</th>\n",
              "      <td>808</td>\n",
              "      <td>666</td>\n",
              "      <td>5.0</td>\n",
              "      <td>Hacker-Pschorr Dunkle Weisse</td>\n",
              "    </tr>\n",
              "  </tbody>\n",
              "</table>\n",
              "</div>"
            ],
            "text/plain": [
              "      user_id  ...                             beer_name\n",
              "316       808  ...                          Hopworks IPA\n",
              "411       808  ...                           Irish Stout\n",
              "3314      808  ...  Hirsch Bavarian-Weissbier Hefeweisse\n",
              "126       808  ...                           Best Bitter\n",
              "2600      808  ...                      Brakspear Bitter\n",
              "3368      808  ...                      Dobbelen Bruinen\n",
              "418       808  ...                         Waas Klokbier\n",
              "2640      808  ...                  Big Bear Black Stout\n",
              "0         808  ...            Entire Butt English Porter\n",
              "129       808  ...          Hacker-Pschorr Dunkle Weisse\n",
              "\n",
              "[10 rows x 4 columns]"
            ]
          },
          "metadata": {
            "tags": []
          },
          "execution_count": 431
        }
      ]
    },
    {
      "cell_type": "code",
      "metadata": {
        "id": "A-eUhy_54KZQ"
      },
      "source": [
        "vistas_ejemplo = puntuacion_ejemplo.beer_beerid.tolist()"
      ],
      "execution_count": 432,
      "outputs": []
    },
    {
      "cell_type": "code",
      "metadata": {
        "id": "yQHfzWwrElt0"
      },
      "source": [
        "matriz = X_train.pivot_table(values='review_overall', index='beer_beerid', columns='user_id')"
      ],
      "execution_count": 460,
      "outputs": []
    },
    {
      "cell_type": "code",
      "metadata": {
        "colab": {
          "base_uri": "https://urldefense.com/v3/__https://localhost:8080/__;!!MXQJGYEVCjwd!AaJpMIhjhRWcegQ2aKyvx1P9gaSA5oC7F7sVurPi34hiHVo6k8-Ordl8Z_gm-SCRvBOln6w$ "
        },
        "id": "XJkaoSBZEoNU",
        "outputId": "fdb1a503-2c7b-4719-912d-75a866b25f4b"
      },
      "source": [
        "matriz.head"
      ],
      "execution_count": 479,
      "outputs": [
        {
          "output_type": "execute_result",
          "data": {
            "text/plain": [
              "<bound method NDFrame.head of user_id      1     8     10    13    16    ...  1814  1817  1824  1827  1828\n",
              "beer_beerid                                ...                              \n",
              "3             NaN   NaN   NaN   NaN   NaN  ...   NaN   NaN   NaN   NaN   NaN\n",
              "4             NaN   NaN   NaN   NaN   NaN  ...   NaN   NaN   NaN   NaN   NaN\n",
              "11            3.0   NaN   NaN   NaN   NaN  ...   NaN   NaN   NaN   2.0   NaN\n",
              "12            NaN   NaN   NaN   NaN   NaN  ...   NaN   NaN   NaN   3.5   NaN\n",
              "13            3.5   NaN   NaN   NaN   NaN  ...   3.0   NaN   NaN   1.5   NaN\n",
              "...           ...   ...   ...   ...   ...  ...   ...   ...   ...   ...   ...\n",
              "77195         NaN   NaN   NaN   NaN   NaN  ...   NaN   NaN   NaN   NaN   NaN\n",
              "77197         NaN   NaN   NaN   NaN   NaN  ...   NaN   NaN   NaN   NaN   NaN\n",
              "77281         NaN   NaN   NaN   NaN   NaN  ...   NaN   NaN   NaN   NaN   NaN\n",
              "77303         NaN   NaN   NaN   NaN   NaN  ...   NaN   NaN   NaN   NaN   NaN\n",
              "77307         NaN   NaN   NaN   NaN   NaN  ...   NaN   NaN   NaN   NaN   NaN\n",
              "\n",
              "[10731 rows x 553 columns]>"
            ]
          },
          "metadata": {
            "tags": []
          },
          "execution_count": 479
        }
      ]
    },
    {
      "cell_type": "code",
      "metadata": {
        "id": "o5PxpnF43GOx"
      },
      "source": [
        "def fc_media(usuario,cerveza):\n",
        "    \n",
        "    #Comprobamos que la película esté en la sparse-matrix\n",
        "    if cerveza in matriz:\n",
        "        #Calculamos la media\n",
        "        media = matriz[cerveza].mean()\n",
        "    \n",
        "    else:\n",
        "        #En caso de no tenerla devolvemos un 3\n",
        "        media = 3.0\n",
        "    \n",
        "    return media"
      ],
      "execution_count": 480,
      "outputs": []
    },
    {
      "cell_type": "code",
      "metadata": {
        "colab": {
          "base_uri": "https://urldefense.com/v3/__https://localhost:8080/__;!!MXQJGYEVCjwd!AaJpMIhjhRWcegQ2aKyvx1P9gaSA5oC7F7sVurPi34hiHVo6k8-Ordl8Z_gm-SCRvBOln6w$ "
        },
        "id": "z0wa1xym3R4Y",
        "outputId": "d23bec8c-feed-40e8-fb2e-3f2bd9671e5c"
      },
      "source": [
        "calculo_rmse(fc_media)"
      ],
      "execution_count": 481,
      "outputs": [
        {
          "output_type": "execute_result",
          "data": {
            "text/plain": [
              "1.039023735446685"
            ]
          },
          "metadata": {
            "tags": []
          },
          "execution_count": 481
        }
      ]
    },
    {
      "cell_type": "code",
      "metadata": {
        "colab": {
          "base_uri": "https://urldefense.com/v3/__https://localhost:8080/__;!!MXQJGYEVCjwd!AaJpMIhjhRWcegQ2aKyvx1P9gaSA5oC7F7sVurPi34hiHVo6k8-Ordl8Z_gm-SCRvBOln6w$ ",
          "height": 374
        },
        "id": "D0hFMuKU3jy2",
        "outputId": "b0e5e029-660e-409b-ae0e-d8bcd1df8a46"
      },
      "source": [
        "recomendaciones_media = []\n",
        "for i in cervezas.beer_beerid.tolist():\n",
        "    \n",
        "    recomendaciones_media.append([i, fc_media(usuario_ejemplo, i )])\n",
        "    \n",
        "    recos = (\n",
        "        pd.DataFrame(recomendaciones_media,\n",
        "                     columns=[\"beer_beerid\", \"output\"]\n",
        "                    )\n",
        "        .sort_values(\"output\", ascending=False)\n",
        "        .merge(\n",
        "            cervezas[[\"beer_beerid\", \"beer_name\"]],\n",
        "            on='beer_beerid'\n",
        "        )\n",
        "    \n",
        "    )\n",
        "    recos = recos[~recos.beer_beerid.isin(vistas_ejemplo)].head(20)"
      ],
      "execution_count": 482,
      "outputs": [
        {
          "output_type": "error",
          "ename": "KeyboardInterrupt",
          "evalue": "ignored",
          "traceback": [
            "\u001b[0;31m---------------------------------------------------------------------------\u001b[0m",
            "\u001b[0;31mKeyboardInterrupt\u001b[0m                         Traceback (most recent call last)",
            "\u001b[0;32m<ipython-input-482-d909f134833f>\u001b[0m in \u001b[0;36m<module>\u001b[0;34m()\u001b[0m\n\u001b[1;32m     11\u001b[0m         .merge(\n\u001b[1;32m     12\u001b[0m             \u001b[0mcervezas\u001b[0m\u001b[0;34m[\u001b[0m\u001b[0;34m[\u001b[0m\u001b[0;34m\"beer_beerid\"\u001b[0m\u001b[0;34m,\u001b[0m \u001b[0;34m\"beer_name\"\u001b[0m\u001b[0;34m]\u001b[0m\u001b[0;34m]\u001b[0m\u001b[0;34m,\u001b[0m\u001b[0;34m\u001b[0m\u001b[0;34m\u001b[0m\u001b[0m\n\u001b[0;32m---> 13\u001b[0;31m             \u001b[0mon\u001b[0m\u001b[0;34m=\u001b[0m\u001b[0;34m'beer_beerid'\u001b[0m\u001b[0;34m\u001b[0m\u001b[0;34m\u001b[0m\u001b[0m\n\u001b[0m\u001b[1;32m     14\u001b[0m         )\n\u001b[1;32m     15\u001b[0m \u001b[0;34m\u001b[0m\u001b[0m\n",
            "\u001b[0;32m/usr/local/lib/python3.7/dist-packages/pandas/core/frame.py\u001b[0m in \u001b[0;36mmerge\u001b[0;34m(self, right, how, on, left_on, right_on, left_index, right_index, sort, suffixes, copy, indicator, validate)\u001b[0m\n\u001b[1;32m   7961\u001b[0m             \u001b[0mcopy\u001b[0m\u001b[0;34m=\u001b[0m\u001b[0mcopy\u001b[0m\u001b[0;34m,\u001b[0m\u001b[0;34m\u001b[0m\u001b[0;34m\u001b[0m\u001b[0m\n\u001b[1;32m   7962\u001b[0m             \u001b[0mindicator\u001b[0m\u001b[0;34m=\u001b[0m\u001b[0mindicator\u001b[0m\u001b[0;34m,\u001b[0m\u001b[0;34m\u001b[0m\u001b[0;34m\u001b[0m\u001b[0m\n\u001b[0;32m-> 7963\u001b[0;31m             \u001b[0mvalidate\u001b[0m\u001b[0;34m=\u001b[0m\u001b[0mvalidate\u001b[0m\u001b[0;34m,\u001b[0m\u001b[0;34m\u001b[0m\u001b[0;34m\u001b[0m\u001b[0m\n\u001b[0m\u001b[1;32m   7964\u001b[0m         )\n\u001b[1;32m   7965\u001b[0m \u001b[0;34m\u001b[0m\u001b[0m\n",
            "\u001b[0;32m/usr/local/lib/python3.7/dist-packages/pandas/core/reshape/merge.py\u001b[0m in \u001b[0;36mmerge\u001b[0;34m(left, right, how, on, left_on, right_on, left_index, right_index, sort, suffixes, copy, indicator, validate)\u001b[0m\n\u001b[1;32m     87\u001b[0m         \u001b[0mvalidate\u001b[0m\u001b[0;34m=\u001b[0m\u001b[0mvalidate\u001b[0m\u001b[0;34m,\u001b[0m\u001b[0;34m\u001b[0m\u001b[0;34m\u001b[0m\u001b[0m\n\u001b[1;32m     88\u001b[0m     )\n\u001b[0;32m---> 89\u001b[0;31m     \u001b[0;32mreturn\u001b[0m \u001b[0mop\u001b[0m\u001b[0;34m.\u001b[0m\u001b[0mget_result\u001b[0m\u001b[0;34m(\u001b[0m\u001b[0;34m)\u001b[0m\u001b[0;34m\u001b[0m\u001b[0;34m\u001b[0m\u001b[0m\n\u001b[0m\u001b[1;32m     90\u001b[0m \u001b[0;34m\u001b[0m\u001b[0m\n\u001b[1;32m     91\u001b[0m \u001b[0;34m\u001b[0m\u001b[0m\n",
            "\u001b[0;32m/usr/local/lib/python3.7/dist-packages/pandas/core/reshape/merge.py\u001b[0m in \u001b[0;36mget_result\u001b[0;34m(self)\u001b[0m\n\u001b[1;32m    666\u001b[0m             \u001b[0mself\u001b[0m\u001b[0;34m.\u001b[0m\u001b[0mleft\u001b[0m\u001b[0;34m,\u001b[0m \u001b[0mself\u001b[0m\u001b[0;34m.\u001b[0m\u001b[0mright\u001b[0m \u001b[0;34m=\u001b[0m \u001b[0mself\u001b[0m\u001b[0;34m.\u001b[0m\u001b[0m_indicator_pre_merge\u001b[0m\u001b[0;34m(\u001b[0m\u001b[0mself\u001b[0m\u001b[0;34m.\u001b[0m\u001b[0mleft\u001b[0m\u001b[0;34m,\u001b[0m \u001b[0mself\u001b[0m\u001b[0;34m.\u001b[0m\u001b[0mright\u001b[0m\u001b[0;34m)\u001b[0m\u001b[0;34m\u001b[0m\u001b[0;34m\u001b[0m\u001b[0m\n\u001b[1;32m    667\u001b[0m \u001b[0;34m\u001b[0m\u001b[0m\n\u001b[0;32m--> 668\u001b[0;31m         \u001b[0mjoin_index\u001b[0m\u001b[0;34m,\u001b[0m \u001b[0mleft_indexer\u001b[0m\u001b[0;34m,\u001b[0m \u001b[0mright_indexer\u001b[0m \u001b[0;34m=\u001b[0m \u001b[0mself\u001b[0m\u001b[0;34m.\u001b[0m\u001b[0m_get_join_info\u001b[0m\u001b[0;34m(\u001b[0m\u001b[0;34m)\u001b[0m\u001b[0;34m\u001b[0m\u001b[0;34m\u001b[0m\u001b[0m\n\u001b[0m\u001b[1;32m    669\u001b[0m \u001b[0;34m\u001b[0m\u001b[0m\n\u001b[1;32m    670\u001b[0m         llabels, rlabels = _items_overlap_with_suffix(\n",
            "\u001b[0;32m/usr/local/lib/python3.7/dist-packages/pandas/core/reshape/merge.py\u001b[0m in \u001b[0;36m_get_join_info\u001b[0;34m(self)\u001b[0m\n\u001b[1;32m    882\u001b[0m             )\n\u001b[1;32m    883\u001b[0m         \u001b[0;32melse\u001b[0m\u001b[0;34m:\u001b[0m\u001b[0;34m\u001b[0m\u001b[0;34m\u001b[0m\u001b[0m\n\u001b[0;32m--> 884\u001b[0;31m             \u001b[0;34m(\u001b[0m\u001b[0mleft_indexer\u001b[0m\u001b[0;34m,\u001b[0m \u001b[0mright_indexer\u001b[0m\u001b[0;34m)\u001b[0m \u001b[0;34m=\u001b[0m \u001b[0mself\u001b[0m\u001b[0;34m.\u001b[0m\u001b[0m_get_join_indexers\u001b[0m\u001b[0;34m(\u001b[0m\u001b[0;34m)\u001b[0m\u001b[0;34m\u001b[0m\u001b[0;34m\u001b[0m\u001b[0m\n\u001b[0m\u001b[1;32m    885\u001b[0m \u001b[0;34m\u001b[0m\u001b[0m\n\u001b[1;32m    886\u001b[0m             \u001b[0;32mif\u001b[0m \u001b[0mself\u001b[0m\u001b[0;34m.\u001b[0m\u001b[0mright_index\u001b[0m\u001b[0;34m:\u001b[0m\u001b[0;34m\u001b[0m\u001b[0;34m\u001b[0m\u001b[0m\n",
            "\u001b[0;32m/usr/local/lib/python3.7/dist-packages/pandas/core/reshape/merge.py\u001b[0m in \u001b[0;36m_get_join_indexers\u001b[0;34m(self)\u001b[0m\n\u001b[1;32m    861\u001b[0m         \u001b[0;34m\"\"\" return the join indexers \"\"\"\u001b[0m\u001b[0;34m\u001b[0m\u001b[0;34m\u001b[0m\u001b[0m\n\u001b[1;32m    862\u001b[0m         return _get_join_indexers(\n\u001b[0;32m--> 863\u001b[0;31m             \u001b[0mself\u001b[0m\u001b[0;34m.\u001b[0m\u001b[0mleft_join_keys\u001b[0m\u001b[0;34m,\u001b[0m \u001b[0mself\u001b[0m\u001b[0;34m.\u001b[0m\u001b[0mright_join_keys\u001b[0m\u001b[0;34m,\u001b[0m \u001b[0msort\u001b[0m\u001b[0;34m=\u001b[0m\u001b[0mself\u001b[0m\u001b[0;34m.\u001b[0m\u001b[0msort\u001b[0m\u001b[0;34m,\u001b[0m \u001b[0mhow\u001b[0m\u001b[0;34m=\u001b[0m\u001b[0mself\u001b[0m\u001b[0;34m.\u001b[0m\u001b[0mhow\u001b[0m\u001b[0;34m\u001b[0m\u001b[0;34m\u001b[0m\u001b[0m\n\u001b[0m\u001b[1;32m    864\u001b[0m         )\n\u001b[1;32m    865\u001b[0m \u001b[0;34m\u001b[0m\u001b[0m\n",
            "\u001b[0;32m/usr/local/lib/python3.7/dist-packages/pandas/core/reshape/merge.py\u001b[0m in \u001b[0;36m_get_join_indexers\u001b[0;34m(left_keys, right_keys, sort, how, **kwargs)\u001b[0m\n\u001b[1;32m   1353\u001b[0m     }[how]\n\u001b[1;32m   1354\u001b[0m \u001b[0;34m\u001b[0m\u001b[0m\n\u001b[0;32m-> 1355\u001b[0;31m     \u001b[0;32mreturn\u001b[0m \u001b[0mjoin_func\u001b[0m\u001b[0;34m(\u001b[0m\u001b[0mlkey\u001b[0m\u001b[0;34m,\u001b[0m \u001b[0mrkey\u001b[0m\u001b[0;34m,\u001b[0m \u001b[0mcount\u001b[0m\u001b[0;34m,\u001b[0m \u001b[0;34m**\u001b[0m\u001b[0mkwargs\u001b[0m\u001b[0;34m)\u001b[0m\u001b[0;34m\u001b[0m\u001b[0;34m\u001b[0m\u001b[0m\n\u001b[0m\u001b[1;32m   1356\u001b[0m \u001b[0;34m\u001b[0m\u001b[0m\n\u001b[1;32m   1357\u001b[0m \u001b[0;34m\u001b[0m\u001b[0m\n",
            "\u001b[0;31mKeyboardInterrupt\u001b[0m: "
          ]
        }
      ]
    },
    {
      "cell_type": "code",
      "metadata": {
        "colab": {
          "base_uri": "https://urldefense.com/v3/__https://localhost:8080/__;!!MXQJGYEVCjwd!AaJpMIhjhRWcegQ2aKyvx1P9gaSA5oC7F7sVurPi34hiHVo6k8-Ordl8Z_gm-SCRvBOln6w$ ",
          "height": 669
        },
        "id": "RxcMEI6QYRY7",
        "outputId": "75f7c563-4198-45c0-c5f5-2168bf8aa7f1"
      },
      "source": [
        "recos"
      ],
      "execution_count": 483,
      "outputs": [
        {
          "output_type": "execute_result",
          "data": {
            "text/html": [
              "<div>\n",
              "<style scoped>\n",
              "    .dataframe tbody tr th:only-of-type {\n",
              "        vertical-align: middle;\n",
              "    }\n",
              "\n",
              "    .dataframe tbody tr th {\n",
              "        vertical-align: top;\n",
              "    }\n",
              "\n",
              "    .dataframe thead th {\n",
              "        text-align: right;\n",
              "    }\n",
              "</style>\n",
              "<table border=\"1\" class=\"dataframe\">\n",
              "  <thead>\n",
              "    <tr style=\"text-align: right;\">\n",
              "      <th></th>\n",
              "      <th>beer_beerid</th>\n",
              "      <th>output</th>\n",
              "      <th>beer_name</th>\n",
              "    </tr>\n",
              "  </thead>\n",
              "  <tbody>\n",
              "    <tr>\n",
              "      <th>32</th>\n",
              "      <td>933</td>\n",
              "      <td>4.03125</td>\n",
              "      <td>Blue Paddle Pilsner</td>\n",
              "    </tr>\n",
              "    <tr>\n",
              "      <th>33</th>\n",
              "      <td>933</td>\n",
              "      <td>4.03125</td>\n",
              "      <td>Blue Paddle Pilsner</td>\n",
              "    </tr>\n",
              "    <tr>\n",
              "      <th>34</th>\n",
              "      <td>933</td>\n",
              "      <td>4.03125</td>\n",
              "      <td>Blue Paddle Pilsner</td>\n",
              "    </tr>\n",
              "    <tr>\n",
              "      <th>35</th>\n",
              "      <td>933</td>\n",
              "      <td>4.03125</td>\n",
              "      <td>Blue Paddle Pilsner</td>\n",
              "    </tr>\n",
              "    <tr>\n",
              "      <th>36</th>\n",
              "      <td>933</td>\n",
              "      <td>4.03125</td>\n",
              "      <td>Blue Paddle Pilsner</td>\n",
              "    </tr>\n",
              "    <tr>\n",
              "      <th>37</th>\n",
              "      <td>933</td>\n",
              "      <td>4.03125</td>\n",
              "      <td>Blue Paddle Pilsner</td>\n",
              "    </tr>\n",
              "    <tr>\n",
              "      <th>38</th>\n",
              "      <td>933</td>\n",
              "      <td>4.03125</td>\n",
              "      <td>Blue Paddle Pilsner</td>\n",
              "    </tr>\n",
              "    <tr>\n",
              "      <th>39</th>\n",
              "      <td>933</td>\n",
              "      <td>4.03125</td>\n",
              "      <td>Blue Paddle Pilsner</td>\n",
              "    </tr>\n",
              "    <tr>\n",
              "      <th>40</th>\n",
              "      <td>933</td>\n",
              "      <td>4.03125</td>\n",
              "      <td>Blue Paddle Pilsner</td>\n",
              "    </tr>\n",
              "    <tr>\n",
              "      <th>41</th>\n",
              "      <td>933</td>\n",
              "      <td>4.03125</td>\n",
              "      <td>Blue Paddle Pilsner</td>\n",
              "    </tr>\n",
              "    <tr>\n",
              "      <th>42</th>\n",
              "      <td>933</td>\n",
              "      <td>4.03125</td>\n",
              "      <td>Blue Paddle Pilsner</td>\n",
              "    </tr>\n",
              "    <tr>\n",
              "      <th>43</th>\n",
              "      <td>933</td>\n",
              "      <td>4.03125</td>\n",
              "      <td>Blue Paddle Pilsner</td>\n",
              "    </tr>\n",
              "    <tr>\n",
              "      <th>44</th>\n",
              "      <td>933</td>\n",
              "      <td>4.03125</td>\n",
              "      <td>Blue Paddle Pilsner</td>\n",
              "    </tr>\n",
              "    <tr>\n",
              "      <th>45</th>\n",
              "      <td>933</td>\n",
              "      <td>4.03125</td>\n",
              "      <td>Blue Paddle Pilsner</td>\n",
              "    </tr>\n",
              "    <tr>\n",
              "      <th>46</th>\n",
              "      <td>933</td>\n",
              "      <td>4.03125</td>\n",
              "      <td>Blue Paddle Pilsner</td>\n",
              "    </tr>\n",
              "    <tr>\n",
              "      <th>47</th>\n",
              "      <td>933</td>\n",
              "      <td>4.03125</td>\n",
              "      <td>Blue Paddle Pilsner</td>\n",
              "    </tr>\n",
              "    <tr>\n",
              "      <th>48</th>\n",
              "      <td>933</td>\n",
              "      <td>4.03125</td>\n",
              "      <td>Blue Paddle Pilsner</td>\n",
              "    </tr>\n",
              "    <tr>\n",
              "      <th>49</th>\n",
              "      <td>933</td>\n",
              "      <td>4.03125</td>\n",
              "      <td>Blue Paddle Pilsner</td>\n",
              "    </tr>\n",
              "    <tr>\n",
              "      <th>50</th>\n",
              "      <td>933</td>\n",
              "      <td>4.03125</td>\n",
              "      <td>Blue Paddle Pilsner</td>\n",
              "    </tr>\n",
              "    <tr>\n",
              "      <th>51</th>\n",
              "      <td>933</td>\n",
              "      <td>4.03125</td>\n",
              "      <td>Blue Paddle Pilsner</td>\n",
              "    </tr>\n",
              "  </tbody>\n",
              "</table>\n",
              "</div>"
            ],
            "text/plain": [
              "    beer_beerid   output            beer_name\n",
              "32          933  4.03125  Blue Paddle Pilsner\n",
              "33          933  4.03125  Blue Paddle Pilsner\n",
              "34          933  4.03125  Blue Paddle Pilsner\n",
              "35          933  4.03125  Blue Paddle Pilsner\n",
              "36          933  4.03125  Blue Paddle Pilsner\n",
              "37          933  4.03125  Blue Paddle Pilsner\n",
              "38          933  4.03125  Blue Paddle Pilsner\n",
              "39          933  4.03125  Blue Paddle Pilsner\n",
              "40          933  4.03125  Blue Paddle Pilsner\n",
              "41          933  4.03125  Blue Paddle Pilsner\n",
              "42          933  4.03125  Blue Paddle Pilsner\n",
              "43          933  4.03125  Blue Paddle Pilsner\n",
              "44          933  4.03125  Blue Paddle Pilsner\n",
              "45          933  4.03125  Blue Paddle Pilsner\n",
              "46          933  4.03125  Blue Paddle Pilsner\n",
              "47          933  4.03125  Blue Paddle Pilsner\n",
              "48          933  4.03125  Blue Paddle Pilsner\n",
              "49          933  4.03125  Blue Paddle Pilsner\n",
              "50          933  4.03125  Blue Paddle Pilsner\n",
              "51          933  4.03125  Blue Paddle Pilsner"
            ]
          },
          "metadata": {
            "tags": []
          },
          "execution_count": 483
        }
      ]
    }
  ]
}