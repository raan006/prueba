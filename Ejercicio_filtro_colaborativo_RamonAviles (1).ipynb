{
  "nbformat": 4,
  "nbformat_minor": 0,
  "metadata": {
    "kernelspec": {
      "display_name": "Python 3",
      "language": "python",
      "name": "python3"
    },
    "language_info": {
      "codemirror_mode": {
        "name": "ipython",
        "version": 3
      },
      "file_extension": ".py",
      "mimetype": "text/x-python",
      "name": "python",
      "nbconvert_exporter": "python",
      "pygments_lexer": "ipython3",
      "version": "3.7.4"
    },
    "colab": {
      "name": "Ejercicio_filtro_colaborativo_RamonAviles.ipynb",
      "provenance": []
    }
  },
  "cells": [
    {
      "cell_type": "markdown",
      "metadata": {
        "id": "Yg-roP6174NE"
      },
      "source": [
        "<center><img src='https://urldefense.com/v3/__https://sedigitalylanzate.es/wp-content/uploads/2019/03/logoeoiok-e1552040050697.png__;!!MXQJGYEVCjwd!AaJpMIhjhRWcegQ2aKyvx1P9gaSA5oC7F7sVurPi34hiHVo6k8-Ordl8Z_gm-SCRMSMR5lA$ ' width=\"500\"></center>"
      ]
    },
    {
      "cell_type": "markdown",
      "metadata": {
        "id": "CjtBLAma74NG"
      },
      "source": [
        "# Ejercicio de algoritmo de filtro colaborativo\n",
        "\n",
        "El objetivo de este ejercicio es generar un algoritmo de filtro colaborativo con los datos del dataset beer_review. La información se corresponde con la reviews de la web https://urldefense.com/v3/__https://www.beeradvocate.com/__;!!MXQJGYEVCjwd!AaJpMIhjhRWcegQ2aKyvx1P9gaSA5oC7F7sVurPi34hiHVo6k8-Ordl8Z_gm-SCRXm04eLI$ "
      ]
    },
    {
      "cell_type": "markdown",
      "metadata": {
        "id": "YUPGzeA574NH"
      },
      "source": [
        "<center><img src='https://urldefense.com/v3/__https://www.pngitem.com/pimgs/m/39-394080_beer-advocate-hd-png-download.png__;!!MXQJGYEVCjwd!AaJpMIhjhRWcegQ2aKyvx1P9gaSA5oC7F7sVurPi34hiHVo6k8-Ordl8Z_gm-SCRskeByAY$ ' width=600 ></center>"
      ]
    },
    {
      "cell_type": "markdown",
      "metadata": {
        "id": "LJy7Va9q74NH"
      },
      "source": [
        "## Información\n",
        "\n",
        "Este dataset consiste en revisiones de cerveza de Beeradvocate. Los datos abarcan un período de más de 10 años, que incluye todas ~ 1.5 millones de revisiones hasta noviembre de 2011. Cada revisión incluye calificaciones en términos de cinco \"aspectos\": apariencia, aroma, paladar, sabor e impresión general. Las revisiones incluyen información del producto y del usuario, seguida de cada una de estas cinco clasificaciones, y una revisión en formato texto. \n",
        "\n",
        "Para nuestro ejercicio vamos a usar una versión reducida de este dataset, que contiene las reviews de aquellos usuarios que han valorado al menos 50 cervezas."
      ]
    },
    {
      "cell_type": "markdown",
      "metadata": {
        "id": "TWmT9ifI74NH"
      },
      "source": [
        "## Pasos a seguir\n",
        "\n",
        "1. Descarga la información de beeradvocate en una carpeta que se llame `datos_ejercicios/beeradvocate` y que se encuentre al mismo nivel que el notebook en el que vas a ejecutar el código.\n",
        "\n",
        "2. Lee el fichero `beer_reviews_50.csv` y crea dos datasets:\n",
        "    - uno con las reviews de los usuarios.\n",
        "    - otro con la información de la cerveza (brewery, beer_name, beer_style)\n",
        "    \n",
        "3. Divide la información en los conjuntos de train y test.\n",
        "\n",
        "4. De los distintos tipos de algoritmos que conocemos elige uno para generar la recomendación. Si creas más de uno explica el motivo de tu elección.\n",
        "\n",
        "\n",
        "5. Crea una función que dado un usuario nos devuelva el top 10 de recomendaciones. \n",
        "\n",
        "6. Genera un html con los resultados de notebook file -> Export Notebook As... -> Export Notebook as HTML. Este html será el documento que tendrás que entregar para la evaluación del ejercicio."
      ]
    },
    {
      "cell_type": "code",
      "metadata": {
        "id": "X8rHTOMX74NI",
        "colab": {
          "base_uri": "https://localhost:8080/"
        },
        "outputId": "f8341bd0-ea88-419e-c7c3-f181ef7bcc61"
      },
      "source": [
        "from google.colab import drive\n",
        "drive.mount('/content/drive')"
      ],
      "execution_count": 1,
      "outputs": [
        {
          "output_type": "stream",
          "text": [
            "Mounted at /content/drive\n"
          ],
          "name": "stdout"
        }
      ]
    },
    {
      "cell_type": "code",
      "metadata": {
        "id": "m0or4yjiA3Cm"
      },
      "source": [
        "import pandas as pd\n",
        "import numpy as np\n",
        "import matplotlib.pyplot as plt\n",
        "import sys\n",
        "import seaborn as sns"
      ],
      "execution_count": 2,
      "outputs": []
    },
    {
      "cell_type": "code",
      "metadata": {
        "id": "fjuKCJYwA3AV"
      },
      "source": [
        "totalDB = pd.read_csv('/content/drive/MyDrive/datos_ejercicios/beeradvocate/beer_reviews_50.csv', low_memory=False)"
      ],
      "execution_count": 3,
      "outputs": []
    },
    {
      "cell_type": "code",
      "metadata": {
        "id": "FTknF-miA288",
        "colab": {
          "base_uri": "https://localhost:8080/",
          "height": 405
        },
        "outputId": "63ba4d95-09c3-4e3f-bfb0-2c6385482b8a"
      },
      "source": [
        "totalDB.head()"
      ],
      "execution_count": 4,
      "outputs": [
        {
          "output_type": "execute_result",
          "data": {
            "text/html": [
              "<div>\n",
              "<style scoped>\n",
              "    .dataframe tbody tr th:only-of-type {\n",
              "        vertical-align: middle;\n",
              "    }\n",
              "\n",
              "    .dataframe tbody tr th {\n",
              "        vertical-align: top;\n",
              "    }\n",
              "\n",
              "    .dataframe thead th {\n",
              "        text-align: right;\n",
              "    }\n",
              "</style>\n",
              "<table border=\"1\" class=\"dataframe\">\n",
              "  <thead>\n",
              "    <tr style=\"text-align: right;\">\n",
              "      <th></th>\n",
              "      <th>brewery_id</th>\n",
              "      <th>brewery_name</th>\n",
              "      <th>review_time</th>\n",
              "      <th>review_overall</th>\n",
              "      <th>review_aroma</th>\n",
              "      <th>review_appearance</th>\n",
              "      <th>review_profilename</th>\n",
              "      <th>beer_style</th>\n",
              "      <th>review_palate</th>\n",
              "      <th>review_taste</th>\n",
              "      <th>beer_name</th>\n",
              "      <th>beer_abv</th>\n",
              "      <th>beer_beerid</th>\n",
              "      <th>user_id</th>\n",
              "    </tr>\n",
              "  </thead>\n",
              "  <tbody>\n",
              "    <tr>\n",
              "      <th>0</th>\n",
              "      <td>163</td>\n",
              "      <td>Amstel Brouwerij B. V.</td>\n",
              "      <td>1023302870</td>\n",
              "      <td>3.5</td>\n",
              "      <td>3.5</td>\n",
              "      <td>3.5</td>\n",
              "      <td>Mar-77</td>\n",
              "      <td>Light Lager</td>\n",
              "      <td>3.0</td>\n",
              "      <td>3.0</td>\n",
              "      <td>Amstel Light</td>\n",
              "      <td>3.50</td>\n",
              "      <td>436</td>\n",
              "      <td>1</td>\n",
              "    </tr>\n",
              "    <tr>\n",
              "      <th>1</th>\n",
              "      <td>395</td>\n",
              "      <td>Bluegrass Brewing Co. - East St. Matthew's</td>\n",
              "      <td>1055007422</td>\n",
              "      <td>4.5</td>\n",
              "      <td>4.0</td>\n",
              "      <td>4.5</td>\n",
              "      <td>Mar-77</td>\n",
              "      <td>American Pale Ale (APA)</td>\n",
              "      <td>3.5</td>\n",
              "      <td>4.0</td>\n",
              "      <td>American Pale Ale</td>\n",
              "      <td>5.79</td>\n",
              "      <td>1122</td>\n",
              "      <td>1</td>\n",
              "    </tr>\n",
              "    <tr>\n",
              "      <th>2</th>\n",
              "      <td>395</td>\n",
              "      <td>Bluegrass Brewing Co. - East St. Matthew's</td>\n",
              "      <td>1055009536</td>\n",
              "      <td>5.0</td>\n",
              "      <td>3.5</td>\n",
              "      <td>4.5</td>\n",
              "      <td>Mar-77</td>\n",
              "      <td>English Porter</td>\n",
              "      <td>3.5</td>\n",
              "      <td>4.5</td>\n",
              "      <td>Dark Star Porter</td>\n",
              "      <td>5.60</td>\n",
              "      <td>1123</td>\n",
              "      <td>1</td>\n",
              "    </tr>\n",
              "    <tr>\n",
              "      <th>3</th>\n",
              "      <td>365</td>\n",
              "      <td>Pike Pub &amp; Brewery</td>\n",
              "      <td>1052070806</td>\n",
              "      <td>5.0</td>\n",
              "      <td>4.5</td>\n",
              "      <td>4.5</td>\n",
              "      <td>Mar-77</td>\n",
              "      <td>American Stout</td>\n",
              "      <td>4.0</td>\n",
              "      <td>4.5</td>\n",
              "      <td>Pike Street XXXXX Stout</td>\n",
              "      <td>7.00</td>\n",
              "      <td>966</td>\n",
              "      <td>1</td>\n",
              "    </tr>\n",
              "    <tr>\n",
              "      <th>4</th>\n",
              "      <td>1199</td>\n",
              "      <td>Founders Brewing Company</td>\n",
              "      <td>1065491961</td>\n",
              "      <td>4.5</td>\n",
              "      <td>4.5</td>\n",
              "      <td>4.0</td>\n",
              "      <td>Mar-77</td>\n",
              "      <td>Scotch Ale / Wee Heavy</td>\n",
              "      <td>3.0</td>\n",
              "      <td>4.0</td>\n",
              "      <td>Founders Dirty Bastard</td>\n",
              "      <td>8.50</td>\n",
              "      <td>7463</td>\n",
              "      <td>1</td>\n",
              "    </tr>\n",
              "  </tbody>\n",
              "</table>\n",
              "</div>"
            ],
            "text/plain": [
              "   brewery_id                                brewery_name  ...  beer_beerid  user_id\n",
              "0         163                      Amstel Brouwerij B. V.  ...          436        1\n",
              "1         395  Bluegrass Brewing Co. - East St. Matthew's  ...         1122        1\n",
              "2         395  Bluegrass Brewing Co. - East St. Matthew's  ...         1123        1\n",
              "3         365                          Pike Pub & Brewery  ...          966        1\n",
              "4        1199                    Founders Brewing Company  ...         7463        1\n",
              "\n",
              "[5 rows x 14 columns]"
            ]
          },
          "metadata": {
            "tags": []
          },
          "execution_count": 4
        }
      ]
    },
    {
      "cell_type": "code",
      "metadata": {
        "id": "qK2trCaKJa3n"
      },
      "source": [
        "reviews = totalDB[['user_id','review_profilename','review_overall','review_aroma','review_appearance','review_palate','review_taste','beer_abv']]"
      ],
      "execution_count": 5,
      "outputs": []
    },
    {
      "cell_type": "code",
      "metadata": {
        "id": "dJyvtM6lA25u"
      },
      "source": [
        "cervezas = totalDB[['beer_beerid','brewery_name','beer_style','beer_name']]"
      ],
      "execution_count": 6,
      "outputs": []
    },
    {
      "cell_type": "code",
      "metadata": {
        "id": "pe8UWBL_A20L",
        "colab": {
          "base_uri": "https://localhost:8080/",
          "height": 202
        },
        "outputId": "939062a6-dc3c-4bac-86dd-5e6de8e030b1"
      },
      "source": [
        "reviews.head()"
      ],
      "execution_count": 7,
      "outputs": [
        {
          "output_type": "execute_result",
          "data": {
            "text/html": [
              "<div>\n",
              "<style scoped>\n",
              "    .dataframe tbody tr th:only-of-type {\n",
              "        vertical-align: middle;\n",
              "    }\n",
              "\n",
              "    .dataframe tbody tr th {\n",
              "        vertical-align: top;\n",
              "    }\n",
              "\n",
              "    .dataframe thead th {\n",
              "        text-align: right;\n",
              "    }\n",
              "</style>\n",
              "<table border=\"1\" class=\"dataframe\">\n",
              "  <thead>\n",
              "    <tr style=\"text-align: right;\">\n",
              "      <th></th>\n",
              "      <th>user_id</th>\n",
              "      <th>review_profilename</th>\n",
              "      <th>review_overall</th>\n",
              "      <th>review_aroma</th>\n",
              "      <th>review_appearance</th>\n",
              "      <th>review_palate</th>\n",
              "      <th>review_taste</th>\n",
              "      <th>beer_abv</th>\n",
              "    </tr>\n",
              "  </thead>\n",
              "  <tbody>\n",
              "    <tr>\n",
              "      <th>0</th>\n",
              "      <td>1</td>\n",
              "      <td>Mar-77</td>\n",
              "      <td>3.5</td>\n",
              "      <td>3.5</td>\n",
              "      <td>3.5</td>\n",
              "      <td>3.0</td>\n",
              "      <td>3.0</td>\n",
              "      <td>3.50</td>\n",
              "    </tr>\n",
              "    <tr>\n",
              "      <th>1</th>\n",
              "      <td>1</td>\n",
              "      <td>Mar-77</td>\n",
              "      <td>4.5</td>\n",
              "      <td>4.0</td>\n",
              "      <td>4.5</td>\n",
              "      <td>3.5</td>\n",
              "      <td>4.0</td>\n",
              "      <td>5.79</td>\n",
              "    </tr>\n",
              "    <tr>\n",
              "      <th>2</th>\n",
              "      <td>1</td>\n",
              "      <td>Mar-77</td>\n",
              "      <td>5.0</td>\n",
              "      <td>3.5</td>\n",
              "      <td>4.5</td>\n",
              "      <td>3.5</td>\n",
              "      <td>4.5</td>\n",
              "      <td>5.60</td>\n",
              "    </tr>\n",
              "    <tr>\n",
              "      <th>3</th>\n",
              "      <td>1</td>\n",
              "      <td>Mar-77</td>\n",
              "      <td>5.0</td>\n",
              "      <td>4.5</td>\n",
              "      <td>4.5</td>\n",
              "      <td>4.0</td>\n",
              "      <td>4.5</td>\n",
              "      <td>7.00</td>\n",
              "    </tr>\n",
              "    <tr>\n",
              "      <th>4</th>\n",
              "      <td>1</td>\n",
              "      <td>Mar-77</td>\n",
              "      <td>4.5</td>\n",
              "      <td>4.5</td>\n",
              "      <td>4.0</td>\n",
              "      <td>3.0</td>\n",
              "      <td>4.0</td>\n",
              "      <td>8.50</td>\n",
              "    </tr>\n",
              "  </tbody>\n",
              "</table>\n",
              "</div>"
            ],
            "text/plain": [
              "   user_id review_profilename  ...  review_taste  beer_abv\n",
              "0        1             Mar-77  ...           3.0      3.50\n",
              "1        1             Mar-77  ...           4.0      5.79\n",
              "2        1             Mar-77  ...           4.5      5.60\n",
              "3        1             Mar-77  ...           4.5      7.00\n",
              "4        1             Mar-77  ...           4.0      8.50\n",
              "\n",
              "[5 rows x 8 columns]"
            ]
          },
          "metadata": {
            "tags": []
          },
          "execution_count": 7
        }
      ]
    },
    {
      "cell_type": "code",
      "metadata": {
        "colab": {
          "base_uri": "https://localhost:8080/",
          "height": 202
        },
        "id": "lU4UjabYUUhG",
        "outputId": "c11d86ff-6de4-48dd-bc76-54a744ae6d4f"
      },
      "source": [
        "cervezas.head()"
      ],
      "execution_count": 9,
      "outputs": [
        {
          "output_type": "execute_result",
          "data": {
            "text/html": [
              "<div>\n",
              "<style scoped>\n",
              "    .dataframe tbody tr th:only-of-type {\n",
              "        vertical-align: middle;\n",
              "    }\n",
              "\n",
              "    .dataframe tbody tr th {\n",
              "        vertical-align: top;\n",
              "    }\n",
              "\n",
              "    .dataframe thead th {\n",
              "        text-align: right;\n",
              "    }\n",
              "</style>\n",
              "<table border=\"1\" class=\"dataframe\">\n",
              "  <thead>\n",
              "    <tr style=\"text-align: right;\">\n",
              "      <th></th>\n",
              "      <th>beer_beerid</th>\n",
              "      <th>brewery_name</th>\n",
              "      <th>beer_style</th>\n",
              "      <th>beer_name</th>\n",
              "    </tr>\n",
              "  </thead>\n",
              "  <tbody>\n",
              "    <tr>\n",
              "      <th>0</th>\n",
              "      <td>436</td>\n",
              "      <td>Amstel Brouwerij B. V.</td>\n",
              "      <td>Light Lager</td>\n",
              "      <td>Amstel Light</td>\n",
              "    </tr>\n",
              "    <tr>\n",
              "      <th>1</th>\n",
              "      <td>1122</td>\n",
              "      <td>Bluegrass Brewing Co. - East St. Matthew's</td>\n",
              "      <td>American Pale Ale (APA)</td>\n",
              "      <td>American Pale Ale</td>\n",
              "    </tr>\n",
              "    <tr>\n",
              "      <th>2</th>\n",
              "      <td>1123</td>\n",
              "      <td>Bluegrass Brewing Co. - East St. Matthew's</td>\n",
              "      <td>English Porter</td>\n",
              "      <td>Dark Star Porter</td>\n",
              "    </tr>\n",
              "    <tr>\n",
              "      <th>3</th>\n",
              "      <td>966</td>\n",
              "      <td>Pike Pub &amp; Brewery</td>\n",
              "      <td>American Stout</td>\n",
              "      <td>Pike Street XXXXX Stout</td>\n",
              "    </tr>\n",
              "    <tr>\n",
              "      <th>4</th>\n",
              "      <td>7463</td>\n",
              "      <td>Founders Brewing Company</td>\n",
              "      <td>Scotch Ale / Wee Heavy</td>\n",
              "      <td>Founders Dirty Bastard</td>\n",
              "    </tr>\n",
              "  </tbody>\n",
              "</table>\n",
              "</div>"
            ],
            "text/plain": [
              "   beer_beerid  ...                beer_name\n",
              "0          436  ...             Amstel Light\n",
              "1         1122  ...        American Pale Ale\n",
              "2         1123  ...         Dark Star Porter\n",
              "3          966  ...  Pike Street XXXXX Stout\n",
              "4         7463  ...   Founders Dirty Bastard\n",
              "\n",
              "[5 rows x 4 columns]"
            ]
          },
          "metadata": {
            "tags": []
          },
          "execution_count": 9
        }
      ]
    },
    {
      "cell_type": "code",
      "metadata": {
        "id": "33TKV7MdKgo8"
      },
      "source": [
        "U_rating = totalDB[['user_id','beer_beerid','review_overall']] "
      ],
      "execution_count": 10,
      "outputs": []
    },
    {
      "cell_type": "code",
      "metadata": {
        "colab": {
          "base_uri": "https://localhost:8080/",
          "height": 202
        },
        "id": "uhKMZrgGb6Rx",
        "outputId": "5911adb0-5c6e-4093-d640-ac1719a21e44"
      },
      "source": [
        "U_rating.head()"
      ],
      "execution_count": 11,
      "outputs": [
        {
          "output_type": "execute_result",
          "data": {
            "text/html": [
              "<div>\n",
              "<style scoped>\n",
              "    .dataframe tbody tr th:only-of-type {\n",
              "        vertical-align: middle;\n",
              "    }\n",
              "\n",
              "    .dataframe tbody tr th {\n",
              "        vertical-align: top;\n",
              "    }\n",
              "\n",
              "    .dataframe thead th {\n",
              "        text-align: right;\n",
              "    }\n",
              "</style>\n",
              "<table border=\"1\" class=\"dataframe\">\n",
              "  <thead>\n",
              "    <tr style=\"text-align: right;\">\n",
              "      <th></th>\n",
              "      <th>user_id</th>\n",
              "      <th>beer_beerid</th>\n",
              "      <th>review_overall</th>\n",
              "    </tr>\n",
              "  </thead>\n",
              "  <tbody>\n",
              "    <tr>\n",
              "      <th>0</th>\n",
              "      <td>1</td>\n",
              "      <td>436</td>\n",
              "      <td>3.5</td>\n",
              "    </tr>\n",
              "    <tr>\n",
              "      <th>1</th>\n",
              "      <td>1</td>\n",
              "      <td>1122</td>\n",
              "      <td>4.5</td>\n",
              "    </tr>\n",
              "    <tr>\n",
              "      <th>2</th>\n",
              "      <td>1</td>\n",
              "      <td>1123</td>\n",
              "      <td>5.0</td>\n",
              "    </tr>\n",
              "    <tr>\n",
              "      <th>3</th>\n",
              "      <td>1</td>\n",
              "      <td>966</td>\n",
              "      <td>5.0</td>\n",
              "    </tr>\n",
              "    <tr>\n",
              "      <th>4</th>\n",
              "      <td>1</td>\n",
              "      <td>7463</td>\n",
              "      <td>4.5</td>\n",
              "    </tr>\n",
              "  </tbody>\n",
              "</table>\n",
              "</div>"
            ],
            "text/plain": [
              "   user_id  beer_beerid  review_overall\n",
              "0        1          436             3.5\n",
              "1        1         1122             4.5\n",
              "2        1         1123             5.0\n",
              "3        1          966             5.0\n",
              "4        1         7463             4.5"
            ]
          },
          "metadata": {
            "tags": []
          },
          "execution_count": 11
        }
      ]
    },
    {
      "cell_type": "code",
      "metadata": {
        "id": "Ac8xWO4mJ0kW"
      },
      "source": [
        "conteo_rating = (\n",
        "    U_rating[['user_id','beer_beerid']]\n",
        "    .groupby('user_id')\n",
        "    .count().reset_index()\n",
        "    .rename(columns={'beer_beerid': 'count'})\n",
        ")"
      ],
      "execution_count": 12,
      "outputs": []
    },
    {
      "cell_type": "code",
      "metadata": {
        "id": "E33FwQhIMm5p"
      },
      "source": [
        "minimo_votos = conteo_rating['count'].quantile(0.70)"
      ],
      "execution_count": 13,
      "outputs": []
    },
    {
      "cell_type": "code",
      "metadata": {
        "colab": {
          "base_uri": "https://localhost:8080/"
        },
        "id": "mVigQQ6dMvRI",
        "outputId": "9f540a24-d81e-4f57-fb4a-17051770f6e2"
      },
      "source": [
        "minimo_votos"
      ],
      "execution_count": 14,
      "outputs": [
        {
          "output_type": "execute_result",
          "data": {
            "text/plain": [
              "147.0"
            ]
          },
          "metadata": {
            "tags": []
          },
          "execution_count": 14
        }
      ]
    },
    {
      "cell_type": "code",
      "metadata": {
        "id": "Mv59cgn7Myqt"
      },
      "source": [
        "lista_votos = conteo_rating[conteo_rating['count']>= minimo_votos].user_id.tolist()"
      ],
      "execution_count": 15,
      "outputs": []
    },
    {
      "cell_type": "code",
      "metadata": {
        "id": "8Lbq53R6Q3XU"
      },
      "source": [
        "U_rating = U_rating[U_rating.user_id.isin(lista_votos)]"
      ],
      "execution_count": 16,
      "outputs": []
    },
    {
      "cell_type": "code",
      "metadata": {
        "id": "1wiPk66yA2xa"
      },
      "source": [
        "from sklearn.model_selection import train_test_split\n",
        "\n",
        "\n",
        "X = U_rating.copy()\n",
        "y = U_rating['user_id']"
      ],
      "execution_count": 17,
      "outputs": []
    },
    {
      "cell_type": "code",
      "metadata": {
        "colab": {
          "base_uri": "https://localhost:8080/"
        },
        "id": "znE0DpCrSC4b",
        "outputId": "e201b483-899a-4420-9fac-ece468326047"
      },
      "source": [
        "train_test_split"
      ],
      "execution_count": 18,
      "outputs": [
        {
          "output_type": "execute_result",
          "data": {
            "text/plain": [
              "<function sklearn.model_selection._split.train_test_split>"
            ]
          },
          "metadata": {
            "tags": []
          },
          "execution_count": 18
        }
      ]
    },
    {
      "cell_type": "code",
      "metadata": {
        "id": "Bc3hiB6UA2ud"
      },
      "source": [
        "X_train, X_test, y_train, y_test = train_test_split(X, y, test_size = 0.25, stratify=y, random_state=42)"
      ],
      "execution_count": 19,
      "outputs": []
    },
    {
      "cell_type": "code",
      "metadata": {
        "id": "cBwz1JfgSLWv"
      },
      "source": [
        "from sklearn.metrics import mean_squared_error"
      ],
      "execution_count": 20,
      "outputs": []
    },
    {
      "cell_type": "code",
      "metadata": {
        "colab": {
          "base_uri": "https://localhost:8080/"
        },
        "id": "G2dXRBV5SN3l",
        "outputId": "2f926e68-557a-4e30-b688-3ed61e39b50f"
      },
      "source": [
        "mean_squared_error"
      ],
      "execution_count": 21,
      "outputs": [
        {
          "output_type": "execute_result",
          "data": {
            "text/plain": [
              "<function sklearn.metrics._regression.mean_squared_error>"
            ]
          },
          "metadata": {
            "tags": []
          },
          "execution_count": 21
        }
      ]
    },
    {
      "cell_type": "code",
      "metadata": {
        "id": "ep8iaTDgSURs"
      },
      "source": [
        "def rmse(y_true, y_pred):\n",
        "    return np.sqrt(mean_squared_error(y_true, y_pred))"
      ],
      "execution_count": 22,
      "outputs": []
    },
    {
      "cell_type": "code",
      "metadata": {
        "id": "c3hX-GWPSXxm"
      },
      "source": [
        "def baseline(usuario,cerveza):\n",
        "    return 3.0"
      ],
      "execution_count": 23,
      "outputs": []
    },
    {
      "cell_type": "code",
      "metadata": {
        "id": "kDbLi7LMDMGP"
      },
      "source": [
        "pares = zip(X_test['user_id'], X_test['beer_beerid'])"
      ],
      "execution_count": 24,
      "outputs": []
    },
    {
      "cell_type": "code",
      "metadata": {
        "id": "wkfZL64wTjeo"
      },
      "source": [
        "def calculo_rmse(modelo):\n",
        "    \n",
        "    #Creamos una tupla de usuarios-cervezas del conjunto de test\n",
        "    pares = zip(X_test['user_id'], X_test['beer_beerid'])\n",
        "    \n",
        "    #Hacemos una predicción para cada tupla\n",
        "    y_pred = np.array([modelo(user_id, beer_beerid) for (user_id, beer_beerid) in pares])\n",
        "    \n",
        "    #Sacamos el dato real\n",
        "    y_true = np.array(X_test['review_overall'])\n",
        "    \n",
        "    #devolvemos el valor de rmse\n",
        "    return rmse(y_true, y_pred)\n",
        "\n",
        "    "
      ],
      "execution_count": 25,
      "outputs": []
    },
    {
      "cell_type": "code",
      "metadata": {
        "colab": {
          "base_uri": "https://localhost:8080/"
        },
        "id": "R5vYLWp6rmnB",
        "outputId": "86fca1b1-0f41-4c30-fcb6-364c95f76046"
      },
      "source": [
        "calculo_rmse(baseline)"
      ],
      "execution_count": 26,
      "outputs": [
        {
          "output_type": "execute_result",
          "data": {
            "text/plain": [
              "1.0500646154202502"
            ]
          },
          "metadata": {
            "tags": []
          },
          "execution_count": 26
        }
      ]
    },
    {
      "cell_type": "code",
      "metadata": {
        "id": "BJrwbf2oUNzl"
      },
      "source": [
        "usuario_ejemplo = int(reviews['user_id'].sample(n=1, random_state=1))"
      ],
      "execution_count": 27,
      "outputs": []
    },
    {
      "cell_type": "code",
      "metadata": {
        "id": "DCAx8kXAA2rT",
        "colab": {
          "base_uri": "https://localhost:8080/"
        },
        "outputId": "c8301120-ab9d-46a8-b608-2f721b6c7458"
      },
      "source": [
        "usuario_ejemplo"
      ],
      "execution_count": 28,
      "outputs": [
        {
          "output_type": "execute_result",
          "data": {
            "text/plain": [
              "808"
            ]
          },
          "metadata": {
            "tags": []
          },
          "execution_count": 28
        }
      ]
    },
    {
      "cell_type": "code",
      "metadata": {
        "id": "cwaamopcA2ow"
      },
      "source": [
        "puntuaciones_ejemplo = (\n",
        "    U_rating[U_rating.user_id == usuario_ejemplo]\n",
        "    .sort_values(\"review_overall\", ascending=False)\n",
        "    .merge(\n",
        "        cervezas[[\"beer_beerid\", \"beer_name\"]],\n",
        "        on='beer_beerid'\n",
        "    )\n",
        ")"
      ],
      "execution_count": 29,
      "outputs": []
    },
    {
      "cell_type": "code",
      "metadata": {
        "id": "7tTQ3f3oFoaW"
      },
      "source": [
        "puntuacion_ejemplo = puntuaciones_ejemplo.drop_duplicates()"
      ],
      "execution_count": 30,
      "outputs": []
    },
    {
      "cell_type": "code",
      "metadata": {
        "colab": {
          "base_uri": "https://localhost:8080/",
          "height": 202
        },
        "id": "PMviGJNW2Orr",
        "outputId": "e3b32a97-bda2-48db-878f-d64b7af85c5c"
      },
      "source": [
        "puntuacion_ejemplo.head()"
      ],
      "execution_count": 32,
      "outputs": [
        {
          "output_type": "execute_result",
          "data": {
            "text/html": [
              "<div>\n",
              "<style scoped>\n",
              "    .dataframe tbody tr th:only-of-type {\n",
              "        vertical-align: middle;\n",
              "    }\n",
              "\n",
              "    .dataframe tbody tr th {\n",
              "        vertical-align: top;\n",
              "    }\n",
              "\n",
              "    .dataframe thead th {\n",
              "        text-align: right;\n",
              "    }\n",
              "</style>\n",
              "<table border=\"1\" class=\"dataframe\">\n",
              "  <thead>\n",
              "    <tr style=\"text-align: right;\">\n",
              "      <th></th>\n",
              "      <th>user_id</th>\n",
              "      <th>beer_beerid</th>\n",
              "      <th>review_overall</th>\n",
              "      <th>beer_name</th>\n",
              "    </tr>\n",
              "  </thead>\n",
              "  <tbody>\n",
              "    <tr>\n",
              "      <th>0</th>\n",
              "      <td>808</td>\n",
              "      <td>771</td>\n",
              "      <td>5.0</td>\n",
              "      <td>Entire Butt English Porter</td>\n",
              "    </tr>\n",
              "    <tr>\n",
              "      <th>122</th>\n",
              "      <td>808</td>\n",
              "      <td>473</td>\n",
              "      <td>5.0</td>\n",
              "      <td>Dunster Street Amber</td>\n",
              "    </tr>\n",
              "    <tr>\n",
              "      <th>124</th>\n",
              "      <td>808</td>\n",
              "      <td>473</td>\n",
              "      <td>4.0</td>\n",
              "      <td>Dunster Street Amber</td>\n",
              "    </tr>\n",
              "    <tr>\n",
              "      <th>126</th>\n",
              "      <td>808</td>\n",
              "      <td>6171</td>\n",
              "      <td>5.0</td>\n",
              "      <td>Best Bitter</td>\n",
              "    </tr>\n",
              "    <tr>\n",
              "      <th>129</th>\n",
              "      <td>808</td>\n",
              "      <td>666</td>\n",
              "      <td>5.0</td>\n",
              "      <td>Hacker-Pschorr Dunkle Weisse</td>\n",
              "    </tr>\n",
              "  </tbody>\n",
              "</table>\n",
              "</div>"
            ],
            "text/plain": [
              "     user_id  beer_beerid  review_overall                     beer_name\n",
              "0        808          771             5.0    Entire Butt English Porter\n",
              "122      808          473             5.0          Dunster Street Amber\n",
              "124      808          473             4.0          Dunster Street Amber\n",
              "126      808         6171             5.0                   Best Bitter\n",
              "129      808          666             5.0  Hacker-Pschorr Dunkle Weisse"
            ]
          },
          "metadata": {
            "tags": []
          },
          "execution_count": 32
        }
      ]
    },
    {
      "cell_type": "code",
      "metadata": {
        "id": "xdWagEpNA2mN"
      },
      "source": [
        "pd.options.display.max_rows = puntuacion_ejemplo.shape[0]"
      ],
      "execution_count": 33,
      "outputs": []
    },
    {
      "cell_type": "code",
      "metadata": {
        "id": "dntVYHImA2h8",
        "colab": {
          "base_uri": "https://localhost:8080/",
          "height": 355
        },
        "outputId": "11f5d87c-02c6-4503-e87b-39de30dfff3f"
      },
      "source": [
        "puntuacion_ejemplo.sort_values([\"review_overall\", \"beer_beerid\"], ascending=False).head(10)"
      ],
      "execution_count": 34,
      "outputs": [
        {
          "output_type": "execute_result",
          "data": {
            "text/html": [
              "<div>\n",
              "<style scoped>\n",
              "    .dataframe tbody tr th:only-of-type {\n",
              "        vertical-align: middle;\n",
              "    }\n",
              "\n",
              "    .dataframe tbody tr th {\n",
              "        vertical-align: top;\n",
              "    }\n",
              "\n",
              "    .dataframe thead th {\n",
              "        text-align: right;\n",
              "    }\n",
              "</style>\n",
              "<table border=\"1\" class=\"dataframe\">\n",
              "  <thead>\n",
              "    <tr style=\"text-align: right;\">\n",
              "      <th></th>\n",
              "      <th>user_id</th>\n",
              "      <th>beer_beerid</th>\n",
              "      <th>review_overall</th>\n",
              "      <th>beer_name</th>\n",
              "    </tr>\n",
              "  </thead>\n",
              "  <tbody>\n",
              "    <tr>\n",
              "      <th>316</th>\n",
              "      <td>808</td>\n",
              "      <td>39201</td>\n",
              "      <td>5.0</td>\n",
              "      <td>Hopworks IPA</td>\n",
              "    </tr>\n",
              "    <tr>\n",
              "      <th>411</th>\n",
              "      <td>808</td>\n",
              "      <td>18595</td>\n",
              "      <td>5.0</td>\n",
              "      <td>Irish Stout</td>\n",
              "    </tr>\n",
              "    <tr>\n",
              "      <th>3314</th>\n",
              "      <td>808</td>\n",
              "      <td>8784</td>\n",
              "      <td>5.0</td>\n",
              "      <td>Hirsch Bavarian-Weissbier Hefeweisse</td>\n",
              "    </tr>\n",
              "    <tr>\n",
              "      <th>126</th>\n",
              "      <td>808</td>\n",
              "      <td>6171</td>\n",
              "      <td>5.0</td>\n",
              "      <td>Best Bitter</td>\n",
              "    </tr>\n",
              "    <tr>\n",
              "      <th>2600</th>\n",
              "      <td>808</td>\n",
              "      <td>4064</td>\n",
              "      <td>5.0</td>\n",
              "      <td>Brakspear Bitter</td>\n",
              "    </tr>\n",
              "    <tr>\n",
              "      <th>3368</th>\n",
              "      <td>808</td>\n",
              "      <td>1871</td>\n",
              "      <td>5.0</td>\n",
              "      <td>Dobbelen Bruinen</td>\n",
              "    </tr>\n",
              "    <tr>\n",
              "      <th>418</th>\n",
              "      <td>808</td>\n",
              "      <td>1818</td>\n",
              "      <td>5.0</td>\n",
              "      <td>Waas Klokbier</td>\n",
              "    </tr>\n",
              "    <tr>\n",
              "      <th>2640</th>\n",
              "      <td>808</td>\n",
              "      <td>1658</td>\n",
              "      <td>5.0</td>\n",
              "      <td>Big Bear Black Stout</td>\n",
              "    </tr>\n",
              "    <tr>\n",
              "      <th>0</th>\n",
              "      <td>808</td>\n",
              "      <td>771</td>\n",
              "      <td>5.0</td>\n",
              "      <td>Entire Butt English Porter</td>\n",
              "    </tr>\n",
              "    <tr>\n",
              "      <th>129</th>\n",
              "      <td>808</td>\n",
              "      <td>666</td>\n",
              "      <td>5.0</td>\n",
              "      <td>Hacker-Pschorr Dunkle Weisse</td>\n",
              "    </tr>\n",
              "  </tbody>\n",
              "</table>\n",
              "</div>"
            ],
            "text/plain": [
              "      user_id  ...                             beer_name\n",
              "316       808  ...                          Hopworks IPA\n",
              "411       808  ...                           Irish Stout\n",
              "3314      808  ...  Hirsch Bavarian-Weissbier Hefeweisse\n",
              "126       808  ...                           Best Bitter\n",
              "2600      808  ...                      Brakspear Bitter\n",
              "3368      808  ...                      Dobbelen Bruinen\n",
              "418       808  ...                         Waas Klokbier\n",
              "2640      808  ...                  Big Bear Black Stout\n",
              "0         808  ...            Entire Butt English Porter\n",
              "129       808  ...          Hacker-Pschorr Dunkle Weisse\n",
              "\n",
              "[10 rows x 4 columns]"
            ]
          },
          "metadata": {
            "tags": []
          },
          "execution_count": 34
        }
      ]
    },
    {
      "cell_type": "code",
      "metadata": {
        "id": "A-eUhy_54KZQ"
      },
      "source": [
        "vistas_ejemplo = puntuacion_ejemplo.beer_beerid.tolist()"
      ],
      "execution_count": 35,
      "outputs": []
    },
    {
      "cell_type": "code",
      "metadata": {
        "id": "yQHfzWwrElt0"
      },
      "source": [
        "matriz = X_train.pivot_table(values='review_overall', index='beer_beerid', columns='user_id')"
      ],
      "execution_count": 36,
      "outputs": []
    },
    {
      "cell_type": "code",
      "metadata": {
        "colab": {
          "base_uri": "https://localhost:8080/",
          "height": 281
        },
        "id": "XJkaoSBZEoNU",
        "outputId": "7b205bd5-5613-4c09-82ca-ea4454e137be"
      },
      "source": [
        "matriz.head()"
      ],
      "execution_count": 37,
      "outputs": [
        {
          "output_type": "execute_result",
          "data": {
            "text/html": [
              "<div>\n",
              "<style scoped>\n",
              "    .dataframe tbody tr th:only-of-type {\n",
              "        vertical-align: middle;\n",
              "    }\n",
              "\n",
              "    .dataframe tbody tr th {\n",
              "        vertical-align: top;\n",
              "    }\n",
              "\n",
              "    .dataframe thead th {\n",
              "        text-align: right;\n",
              "    }\n",
              "</style>\n",
              "<table border=\"1\" class=\"dataframe\">\n",
              "  <thead>\n",
              "    <tr style=\"text-align: right;\">\n",
              "      <th>user_id</th>\n",
              "      <th>1</th>\n",
              "      <th>8</th>\n",
              "      <th>10</th>\n",
              "      <th>13</th>\n",
              "      <th>16</th>\n",
              "      <th>17</th>\n",
              "      <th>18</th>\n",
              "      <th>20</th>\n",
              "      <th>21</th>\n",
              "      <th>25</th>\n",
              "      <th>29</th>\n",
              "      <th>30</th>\n",
              "      <th>33</th>\n",
              "      <th>34</th>\n",
              "      <th>35</th>\n",
              "      <th>38</th>\n",
              "      <th>39</th>\n",
              "      <th>40</th>\n",
              "      <th>44</th>\n",
              "      <th>45</th>\n",
              "      <th>46</th>\n",
              "      <th>50</th>\n",
              "      <th>51</th>\n",
              "      <th>55</th>\n",
              "      <th>65</th>\n",
              "      <th>66</th>\n",
              "      <th>68</th>\n",
              "      <th>71</th>\n",
              "      <th>73</th>\n",
              "      <th>74</th>\n",
              "      <th>75</th>\n",
              "      <th>78</th>\n",
              "      <th>79</th>\n",
              "      <th>82</th>\n",
              "      <th>84</th>\n",
              "      <th>85</th>\n",
              "      <th>86</th>\n",
              "      <th>92</th>\n",
              "      <th>98</th>\n",
              "      <th>104</th>\n",
              "      <th>...</th>\n",
              "      <th>1696</th>\n",
              "      <th>1698</th>\n",
              "      <th>1706</th>\n",
              "      <th>1707</th>\n",
              "      <th>1708</th>\n",
              "      <th>1712</th>\n",
              "      <th>1724</th>\n",
              "      <th>1725</th>\n",
              "      <th>1726</th>\n",
              "      <th>1731</th>\n",
              "      <th>1734</th>\n",
              "      <th>1741</th>\n",
              "      <th>1747</th>\n",
              "      <th>1750</th>\n",
              "      <th>1751</th>\n",
              "      <th>1756</th>\n",
              "      <th>1757</th>\n",
              "      <th>1767</th>\n",
              "      <th>1768</th>\n",
              "      <th>1769</th>\n",
              "      <th>1779</th>\n",
              "      <th>1782</th>\n",
              "      <th>1783</th>\n",
              "      <th>1784</th>\n",
              "      <th>1785</th>\n",
              "      <th>1786</th>\n",
              "      <th>1787</th>\n",
              "      <th>1788</th>\n",
              "      <th>1790</th>\n",
              "      <th>1796</th>\n",
              "      <th>1799</th>\n",
              "      <th>1803</th>\n",
              "      <th>1806</th>\n",
              "      <th>1810</th>\n",
              "      <th>1812</th>\n",
              "      <th>1814</th>\n",
              "      <th>1817</th>\n",
              "      <th>1824</th>\n",
              "      <th>1827</th>\n",
              "      <th>1828</th>\n",
              "    </tr>\n",
              "    <tr>\n",
              "      <th>beer_beerid</th>\n",
              "      <th></th>\n",
              "      <th></th>\n",
              "      <th></th>\n",
              "      <th></th>\n",
              "      <th></th>\n",
              "      <th></th>\n",
              "      <th></th>\n",
              "      <th></th>\n",
              "      <th></th>\n",
              "      <th></th>\n",
              "      <th></th>\n",
              "      <th></th>\n",
              "      <th></th>\n",
              "      <th></th>\n",
              "      <th></th>\n",
              "      <th></th>\n",
              "      <th></th>\n",
              "      <th></th>\n",
              "      <th></th>\n",
              "      <th></th>\n",
              "      <th></th>\n",
              "      <th></th>\n",
              "      <th></th>\n",
              "      <th></th>\n",
              "      <th></th>\n",
              "      <th></th>\n",
              "      <th></th>\n",
              "      <th></th>\n",
              "      <th></th>\n",
              "      <th></th>\n",
              "      <th></th>\n",
              "      <th></th>\n",
              "      <th></th>\n",
              "      <th></th>\n",
              "      <th></th>\n",
              "      <th></th>\n",
              "      <th></th>\n",
              "      <th></th>\n",
              "      <th></th>\n",
              "      <th></th>\n",
              "      <th></th>\n",
              "      <th></th>\n",
              "      <th></th>\n",
              "      <th></th>\n",
              "      <th></th>\n",
              "      <th></th>\n",
              "      <th></th>\n",
              "      <th></th>\n",
              "      <th></th>\n",
              "      <th></th>\n",
              "      <th></th>\n",
              "      <th></th>\n",
              "      <th></th>\n",
              "      <th></th>\n",
              "      <th></th>\n",
              "      <th></th>\n",
              "      <th></th>\n",
              "      <th></th>\n",
              "      <th></th>\n",
              "      <th></th>\n",
              "      <th></th>\n",
              "      <th></th>\n",
              "      <th></th>\n",
              "      <th></th>\n",
              "      <th></th>\n",
              "      <th></th>\n",
              "      <th></th>\n",
              "      <th></th>\n",
              "      <th></th>\n",
              "      <th></th>\n",
              "      <th></th>\n",
              "      <th></th>\n",
              "      <th></th>\n",
              "      <th></th>\n",
              "      <th></th>\n",
              "      <th></th>\n",
              "      <th></th>\n",
              "      <th></th>\n",
              "      <th></th>\n",
              "      <th></th>\n",
              "      <th></th>\n",
              "    </tr>\n",
              "  </thead>\n",
              "  <tbody>\n",
              "    <tr>\n",
              "      <th>3</th>\n",
              "      <td>NaN</td>\n",
              "      <td>NaN</td>\n",
              "      <td>NaN</td>\n",
              "      <td>NaN</td>\n",
              "      <td>NaN</td>\n",
              "      <td>NaN</td>\n",
              "      <td>NaN</td>\n",
              "      <td>NaN</td>\n",
              "      <td>NaN</td>\n",
              "      <td>NaN</td>\n",
              "      <td>NaN</td>\n",
              "      <td>NaN</td>\n",
              "      <td>NaN</td>\n",
              "      <td>NaN</td>\n",
              "      <td>NaN</td>\n",
              "      <td>NaN</td>\n",
              "      <td>NaN</td>\n",
              "      <td>NaN</td>\n",
              "      <td>NaN</td>\n",
              "      <td>NaN</td>\n",
              "      <td>NaN</td>\n",
              "      <td>NaN</td>\n",
              "      <td>NaN</td>\n",
              "      <td>NaN</td>\n",
              "      <td>NaN</td>\n",
              "      <td>NaN</td>\n",
              "      <td>NaN</td>\n",
              "      <td>NaN</td>\n",
              "      <td>NaN</td>\n",
              "      <td>NaN</td>\n",
              "      <td>NaN</td>\n",
              "      <td>NaN</td>\n",
              "      <td>NaN</td>\n",
              "      <td>NaN</td>\n",
              "      <td>NaN</td>\n",
              "      <td>NaN</td>\n",
              "      <td>NaN</td>\n",
              "      <td>NaN</td>\n",
              "      <td>NaN</td>\n",
              "      <td>NaN</td>\n",
              "      <td>...</td>\n",
              "      <td>NaN</td>\n",
              "      <td>NaN</td>\n",
              "      <td>NaN</td>\n",
              "      <td>NaN</td>\n",
              "      <td>NaN</td>\n",
              "      <td>NaN</td>\n",
              "      <td>NaN</td>\n",
              "      <td>NaN</td>\n",
              "      <td>NaN</td>\n",
              "      <td>NaN</td>\n",
              "      <td>NaN</td>\n",
              "      <td>NaN</td>\n",
              "      <td>NaN</td>\n",
              "      <td>NaN</td>\n",
              "      <td>NaN</td>\n",
              "      <td>NaN</td>\n",
              "      <td>NaN</td>\n",
              "      <td>NaN</td>\n",
              "      <td>NaN</td>\n",
              "      <td>NaN</td>\n",
              "      <td>NaN</td>\n",
              "      <td>NaN</td>\n",
              "      <td>NaN</td>\n",
              "      <td>NaN</td>\n",
              "      <td>NaN</td>\n",
              "      <td>NaN</td>\n",
              "      <td>NaN</td>\n",
              "      <td>NaN</td>\n",
              "      <td>NaN</td>\n",
              "      <td>NaN</td>\n",
              "      <td>NaN</td>\n",
              "      <td>NaN</td>\n",
              "      <td>NaN</td>\n",
              "      <td>NaN</td>\n",
              "      <td>NaN</td>\n",
              "      <td>NaN</td>\n",
              "      <td>NaN</td>\n",
              "      <td>NaN</td>\n",
              "      <td>NaN</td>\n",
              "      <td>NaN</td>\n",
              "    </tr>\n",
              "    <tr>\n",
              "      <th>4</th>\n",
              "      <td>NaN</td>\n",
              "      <td>NaN</td>\n",
              "      <td>NaN</td>\n",
              "      <td>NaN</td>\n",
              "      <td>NaN</td>\n",
              "      <td>NaN</td>\n",
              "      <td>NaN</td>\n",
              "      <td>NaN</td>\n",
              "      <td>NaN</td>\n",
              "      <td>NaN</td>\n",
              "      <td>NaN</td>\n",
              "      <td>NaN</td>\n",
              "      <td>NaN</td>\n",
              "      <td>NaN</td>\n",
              "      <td>NaN</td>\n",
              "      <td>NaN</td>\n",
              "      <td>NaN</td>\n",
              "      <td>NaN</td>\n",
              "      <td>3.5</td>\n",
              "      <td>NaN</td>\n",
              "      <td>NaN</td>\n",
              "      <td>NaN</td>\n",
              "      <td>NaN</td>\n",
              "      <td>NaN</td>\n",
              "      <td>NaN</td>\n",
              "      <td>NaN</td>\n",
              "      <td>NaN</td>\n",
              "      <td>NaN</td>\n",
              "      <td>NaN</td>\n",
              "      <td>NaN</td>\n",
              "      <td>NaN</td>\n",
              "      <td>NaN</td>\n",
              "      <td>NaN</td>\n",
              "      <td>NaN</td>\n",
              "      <td>NaN</td>\n",
              "      <td>NaN</td>\n",
              "      <td>NaN</td>\n",
              "      <td>NaN</td>\n",
              "      <td>NaN</td>\n",
              "      <td>NaN</td>\n",
              "      <td>...</td>\n",
              "      <td>NaN</td>\n",
              "      <td>NaN</td>\n",
              "      <td>NaN</td>\n",
              "      <td>NaN</td>\n",
              "      <td>NaN</td>\n",
              "      <td>NaN</td>\n",
              "      <td>NaN</td>\n",
              "      <td>NaN</td>\n",
              "      <td>NaN</td>\n",
              "      <td>NaN</td>\n",
              "      <td>NaN</td>\n",
              "      <td>NaN</td>\n",
              "      <td>NaN</td>\n",
              "      <td>NaN</td>\n",
              "      <td>NaN</td>\n",
              "      <td>NaN</td>\n",
              "      <td>NaN</td>\n",
              "      <td>NaN</td>\n",
              "      <td>NaN</td>\n",
              "      <td>NaN</td>\n",
              "      <td>NaN</td>\n",
              "      <td>NaN</td>\n",
              "      <td>NaN</td>\n",
              "      <td>NaN</td>\n",
              "      <td>NaN</td>\n",
              "      <td>NaN</td>\n",
              "      <td>NaN</td>\n",
              "      <td>NaN</td>\n",
              "      <td>NaN</td>\n",
              "      <td>NaN</td>\n",
              "      <td>NaN</td>\n",
              "      <td>NaN</td>\n",
              "      <td>NaN</td>\n",
              "      <td>NaN</td>\n",
              "      <td>NaN</td>\n",
              "      <td>NaN</td>\n",
              "      <td>NaN</td>\n",
              "      <td>NaN</td>\n",
              "      <td>NaN</td>\n",
              "      <td>NaN</td>\n",
              "    </tr>\n",
              "    <tr>\n",
              "      <th>11</th>\n",
              "      <td>3.0</td>\n",
              "      <td>NaN</td>\n",
              "      <td>NaN</td>\n",
              "      <td>NaN</td>\n",
              "      <td>NaN</td>\n",
              "      <td>NaN</td>\n",
              "      <td>NaN</td>\n",
              "      <td>NaN</td>\n",
              "      <td>NaN</td>\n",
              "      <td>NaN</td>\n",
              "      <td>NaN</td>\n",
              "      <td>NaN</td>\n",
              "      <td>NaN</td>\n",
              "      <td>NaN</td>\n",
              "      <td>NaN</td>\n",
              "      <td>NaN</td>\n",
              "      <td>NaN</td>\n",
              "      <td>NaN</td>\n",
              "      <td>NaN</td>\n",
              "      <td>NaN</td>\n",
              "      <td>NaN</td>\n",
              "      <td>NaN</td>\n",
              "      <td>NaN</td>\n",
              "      <td>NaN</td>\n",
              "      <td>3.5</td>\n",
              "      <td>NaN</td>\n",
              "      <td>NaN</td>\n",
              "      <td>NaN</td>\n",
              "      <td>NaN</td>\n",
              "      <td>NaN</td>\n",
              "      <td>NaN</td>\n",
              "      <td>NaN</td>\n",
              "      <td>3.5</td>\n",
              "      <td>NaN</td>\n",
              "      <td>NaN</td>\n",
              "      <td>NaN</td>\n",
              "      <td>NaN</td>\n",
              "      <td>NaN</td>\n",
              "      <td>NaN</td>\n",
              "      <td>NaN</td>\n",
              "      <td>...</td>\n",
              "      <td>NaN</td>\n",
              "      <td>NaN</td>\n",
              "      <td>NaN</td>\n",
              "      <td>3.5</td>\n",
              "      <td>NaN</td>\n",
              "      <td>NaN</td>\n",
              "      <td>NaN</td>\n",
              "      <td>NaN</td>\n",
              "      <td>NaN</td>\n",
              "      <td>NaN</td>\n",
              "      <td>NaN</td>\n",
              "      <td>NaN</td>\n",
              "      <td>NaN</td>\n",
              "      <td>NaN</td>\n",
              "      <td>NaN</td>\n",
              "      <td>NaN</td>\n",
              "      <td>NaN</td>\n",
              "      <td>NaN</td>\n",
              "      <td>NaN</td>\n",
              "      <td>NaN</td>\n",
              "      <td>NaN</td>\n",
              "      <td>NaN</td>\n",
              "      <td>NaN</td>\n",
              "      <td>NaN</td>\n",
              "      <td>NaN</td>\n",
              "      <td>NaN</td>\n",
              "      <td>NaN</td>\n",
              "      <td>NaN</td>\n",
              "      <td>NaN</td>\n",
              "      <td>NaN</td>\n",
              "      <td>3.0</td>\n",
              "      <td>NaN</td>\n",
              "      <td>NaN</td>\n",
              "      <td>NaN</td>\n",
              "      <td>NaN</td>\n",
              "      <td>NaN</td>\n",
              "      <td>NaN</td>\n",
              "      <td>NaN</td>\n",
              "      <td>2.0</td>\n",
              "      <td>NaN</td>\n",
              "    </tr>\n",
              "    <tr>\n",
              "      <th>12</th>\n",
              "      <td>NaN</td>\n",
              "      <td>NaN</td>\n",
              "      <td>NaN</td>\n",
              "      <td>NaN</td>\n",
              "      <td>NaN</td>\n",
              "      <td>NaN</td>\n",
              "      <td>NaN</td>\n",
              "      <td>NaN</td>\n",
              "      <td>NaN</td>\n",
              "      <td>NaN</td>\n",
              "      <td>NaN</td>\n",
              "      <td>NaN</td>\n",
              "      <td>NaN</td>\n",
              "      <td>NaN</td>\n",
              "      <td>NaN</td>\n",
              "      <td>NaN</td>\n",
              "      <td>NaN</td>\n",
              "      <td>NaN</td>\n",
              "      <td>NaN</td>\n",
              "      <td>NaN</td>\n",
              "      <td>NaN</td>\n",
              "      <td>NaN</td>\n",
              "      <td>NaN</td>\n",
              "      <td>NaN</td>\n",
              "      <td>NaN</td>\n",
              "      <td>NaN</td>\n",
              "      <td>NaN</td>\n",
              "      <td>NaN</td>\n",
              "      <td>NaN</td>\n",
              "      <td>NaN</td>\n",
              "      <td>NaN</td>\n",
              "      <td>NaN</td>\n",
              "      <td>NaN</td>\n",
              "      <td>NaN</td>\n",
              "      <td>NaN</td>\n",
              "      <td>NaN</td>\n",
              "      <td>NaN</td>\n",
              "      <td>NaN</td>\n",
              "      <td>NaN</td>\n",
              "      <td>NaN</td>\n",
              "      <td>...</td>\n",
              "      <td>NaN</td>\n",
              "      <td>NaN</td>\n",
              "      <td>NaN</td>\n",
              "      <td>2.5</td>\n",
              "      <td>NaN</td>\n",
              "      <td>NaN</td>\n",
              "      <td>NaN</td>\n",
              "      <td>NaN</td>\n",
              "      <td>NaN</td>\n",
              "      <td>NaN</td>\n",
              "      <td>NaN</td>\n",
              "      <td>NaN</td>\n",
              "      <td>NaN</td>\n",
              "      <td>NaN</td>\n",
              "      <td>NaN</td>\n",
              "      <td>NaN</td>\n",
              "      <td>4.0</td>\n",
              "      <td>NaN</td>\n",
              "      <td>NaN</td>\n",
              "      <td>NaN</td>\n",
              "      <td>NaN</td>\n",
              "      <td>NaN</td>\n",
              "      <td>NaN</td>\n",
              "      <td>NaN</td>\n",
              "      <td>NaN</td>\n",
              "      <td>NaN</td>\n",
              "      <td>NaN</td>\n",
              "      <td>NaN</td>\n",
              "      <td>NaN</td>\n",
              "      <td>NaN</td>\n",
              "      <td>NaN</td>\n",
              "      <td>NaN</td>\n",
              "      <td>NaN</td>\n",
              "      <td>NaN</td>\n",
              "      <td>NaN</td>\n",
              "      <td>NaN</td>\n",
              "      <td>NaN</td>\n",
              "      <td>NaN</td>\n",
              "      <td>3.5</td>\n",
              "      <td>NaN</td>\n",
              "    </tr>\n",
              "    <tr>\n",
              "      <th>13</th>\n",
              "      <td>3.5</td>\n",
              "      <td>NaN</td>\n",
              "      <td>NaN</td>\n",
              "      <td>NaN</td>\n",
              "      <td>NaN</td>\n",
              "      <td>NaN</td>\n",
              "      <td>NaN</td>\n",
              "      <td>NaN</td>\n",
              "      <td>NaN</td>\n",
              "      <td>NaN</td>\n",
              "      <td>NaN</td>\n",
              "      <td>NaN</td>\n",
              "      <td>NaN</td>\n",
              "      <td>NaN</td>\n",
              "      <td>NaN</td>\n",
              "      <td>NaN</td>\n",
              "      <td>NaN</td>\n",
              "      <td>NaN</td>\n",
              "      <td>NaN</td>\n",
              "      <td>NaN</td>\n",
              "      <td>NaN</td>\n",
              "      <td>NaN</td>\n",
              "      <td>NaN</td>\n",
              "      <td>NaN</td>\n",
              "      <td>NaN</td>\n",
              "      <td>NaN</td>\n",
              "      <td>NaN</td>\n",
              "      <td>NaN</td>\n",
              "      <td>NaN</td>\n",
              "      <td>NaN</td>\n",
              "      <td>NaN</td>\n",
              "      <td>NaN</td>\n",
              "      <td>4.0</td>\n",
              "      <td>NaN</td>\n",
              "      <td>NaN</td>\n",
              "      <td>NaN</td>\n",
              "      <td>NaN</td>\n",
              "      <td>NaN</td>\n",
              "      <td>NaN</td>\n",
              "      <td>NaN</td>\n",
              "      <td>...</td>\n",
              "      <td>NaN</td>\n",
              "      <td>NaN</td>\n",
              "      <td>NaN</td>\n",
              "      <td>NaN</td>\n",
              "      <td>NaN</td>\n",
              "      <td>NaN</td>\n",
              "      <td>NaN</td>\n",
              "      <td>NaN</td>\n",
              "      <td>NaN</td>\n",
              "      <td>NaN</td>\n",
              "      <td>NaN</td>\n",
              "      <td>NaN</td>\n",
              "      <td>NaN</td>\n",
              "      <td>NaN</td>\n",
              "      <td>NaN</td>\n",
              "      <td>NaN</td>\n",
              "      <td>3.0</td>\n",
              "      <td>NaN</td>\n",
              "      <td>4.0</td>\n",
              "      <td>NaN</td>\n",
              "      <td>NaN</td>\n",
              "      <td>NaN</td>\n",
              "      <td>NaN</td>\n",
              "      <td>NaN</td>\n",
              "      <td>NaN</td>\n",
              "      <td>NaN</td>\n",
              "      <td>NaN</td>\n",
              "      <td>NaN</td>\n",
              "      <td>2.5</td>\n",
              "      <td>NaN</td>\n",
              "      <td>NaN</td>\n",
              "      <td>NaN</td>\n",
              "      <td>NaN</td>\n",
              "      <td>NaN</td>\n",
              "      <td>NaN</td>\n",
              "      <td>3.0</td>\n",
              "      <td>NaN</td>\n",
              "      <td>NaN</td>\n",
              "      <td>1.5</td>\n",
              "      <td>NaN</td>\n",
              "    </tr>\n",
              "  </tbody>\n",
              "</table>\n",
              "<p>5 rows × 553 columns</p>\n",
              "</div>"
            ],
            "text/plain": [
              "user_id      1     8     10    13    16    ...  1814  1817  1824  1827  1828\n",
              "beer_beerid                                ...                              \n",
              "3             NaN   NaN   NaN   NaN   NaN  ...   NaN   NaN   NaN   NaN   NaN\n",
              "4             NaN   NaN   NaN   NaN   NaN  ...   NaN   NaN   NaN   NaN   NaN\n",
              "11            3.0   NaN   NaN   NaN   NaN  ...   NaN   NaN   NaN   2.0   NaN\n",
              "12            NaN   NaN   NaN   NaN   NaN  ...   NaN   NaN   NaN   3.5   NaN\n",
              "13            3.5   NaN   NaN   NaN   NaN  ...   3.0   NaN   NaN   1.5   NaN\n",
              "\n",
              "[5 rows x 553 columns]"
            ]
          },
          "metadata": {
            "tags": []
          },
          "execution_count": 37
        }
      ]
    },
    {
      "cell_type": "code",
      "metadata": {
        "id": "o5PxpnF43GOx"
      },
      "source": [
        "def fc_media(usuario,cerveza):\n",
        "    \n",
        "    #Comprobamos que la película esté en la sparse-matrix\n",
        "    if cerveza in matriz:\n",
        "        #Calculamos la media\n",
        "        media = matriz[cerveza].mean()\n",
        "    \n",
        "    else:\n",
        "        #En caso de no tenerla devolvemos un 3\n",
        "        media = 3.0\n",
        "    \n",
        "    return media"
      ],
      "execution_count": 50,
      "outputs": []
    },
    {
      "cell_type": "code",
      "metadata": {
        "colab": {
          "base_uri": "https://localhost:8080/"
        },
        "id": "z0wa1xym3R4Y",
        "outputId": "83a1b8a8-e0c6-4418-b9a7-3d335ef31432"
      },
      "source": [
        "calculo_rmse(fc_media)"
      ],
      "execution_count": 51,
      "outputs": [
        {
          "output_type": "execute_result",
          "data": {
            "text/plain": [
              "1.039023735446685"
            ]
          },
          "metadata": {
            "tags": []
          },
          "execution_count": 51
        }
      ]
    },
    {
      "cell_type": "code",
      "metadata": {
        "id": "egJOiBoLXYmj"
      },
      "source": [
        "lista_cervezas = cervezas.beer_beerid.drop_duplicates()"
      ],
      "execution_count": 75,
      "outputs": []
    },
    {
      "cell_type": "code",
      "metadata": {
        "id": "qfM-CZP0XrEM",
        "outputId": "9aa2641e-54ed-446e-a51b-8bc3dd2515d3",
        "colab": {
          "base_uri": "https://localhost:8080/"
        }
      },
      "source": [
        "lista_cervezas.head"
      ],
      "execution_count": 85,
      "outputs": [
        {
          "output_type": "execute_result",
          "data": {
            "text/plain": [
              "<bound method NDFrame.head of 0           436\n",
              "1          1122\n",
              "2          1123\n",
              "3           966\n",
              "4          7463\n",
              "          ...  \n",
              "256009    72794\n",
              "256199    75896\n",
              "256200    76092\n",
              "256202    76093\n",
              "256204    75874\n",
              "Name: beer_beerid, Length: 13693, dtype: int64>"
            ]
          },
          "metadata": {
            "tags": []
          },
          "execution_count": 85
        }
      ]
    },
    {
      "cell_type": "code",
      "metadata": {
        "id": "D0hFMuKU3jy2"
      },
      "source": [
        "recomendaciones_media = []\n",
        "for i in cervezas.beer_beerid.to_list():\n",
        "    \n",
        "    recomendaciones_media.append([i, fc_media(usuario_ejemplo, i)])\n",
        "    \n",
        "    recos =(\n",
        "        pd.DataFrame(recomendaciones_media,\n",
        "                     columns=[\"beer_beerid\", \"review_overall\"]\n",
        "                    )\n",
        "        .sort_values(\"review_overall\", ascending=False)\n",
        "        .merge(\n",
        "            cervezas[[\"beer_beerid\", \"beer_name\"]],\n",
        "            on='beer_beerid'\n",
        "        )\n",
        "    \n",
        "    )\n",
        "recos = recos[~recos.beer_beerid.isin(vistas_ejemplo)].head(20)"
      ],
      "execution_count": null,
      "outputs": []
    },
    {
      "cell_type": "code",
      "metadata": {
        "colab": {
          "base_uri": "https://localhost:8080/",
          "height": 662
        },
        "id": "RxcMEI6QYRY7",
        "outputId": "fac7225e-048b-49ed-aa85-7a80b8a7c759"
      },
      "source": [
        "recos"
      ],
      "execution_count": 110,
      "outputs": [
        {
          "output_type": "execute_result",
          "data": {
            "text/html": [
              "<div>\n",
              "<style scoped>\n",
              "    .dataframe tbody tr th:only-of-type {\n",
              "        vertical-align: middle;\n",
              "    }\n",
              "\n",
              "    .dataframe tbody tr th {\n",
              "        vertical-align: top;\n",
              "    }\n",
              "\n",
              "    .dataframe thead th {\n",
              "        text-align: right;\n",
              "    }\n",
              "</style>\n",
              "<table border=\"1\" class=\"dataframe\">\n",
              "  <thead>\n",
              "    <tr style=\"text-align: right;\">\n",
              "      <th></th>\n",
              "      <th>beer_beerid</th>\n",
              "      <th>review_overall</th>\n",
              "      <th>beer_name</th>\n",
              "    </tr>\n",
              "  </thead>\n",
              "  <tbody>\n",
              "    <tr>\n",
              "      <th>0</th>\n",
              "      <td>1664</td>\n",
              "      <td>4.169872</td>\n",
              "      <td>Kennebunk Porter</td>\n",
              "    </tr>\n",
              "    <tr>\n",
              "      <th>1</th>\n",
              "      <td>1664</td>\n",
              "      <td>4.169872</td>\n",
              "      <td>Kennebunk Porter</td>\n",
              "    </tr>\n",
              "    <tr>\n",
              "      <th>2</th>\n",
              "      <td>1664</td>\n",
              "      <td>4.169872</td>\n",
              "      <td>Kennebunk Porter</td>\n",
              "    </tr>\n",
              "    <tr>\n",
              "      <th>3</th>\n",
              "      <td>1664</td>\n",
              "      <td>4.169872</td>\n",
              "      <td>Kennebunk Porter</td>\n",
              "    </tr>\n",
              "    <tr>\n",
              "      <th>4</th>\n",
              "      <td>1664</td>\n",
              "      <td>4.169872</td>\n",
              "      <td>Kennebunk Porter</td>\n",
              "    </tr>\n",
              "    <tr>\n",
              "      <th>5</th>\n",
              "      <td>1664</td>\n",
              "      <td>4.169872</td>\n",
              "      <td>Kennebunk Porter</td>\n",
              "    </tr>\n",
              "    <tr>\n",
              "      <th>6</th>\n",
              "      <td>1664</td>\n",
              "      <td>4.169872</td>\n",
              "      <td>Kennebunk Porter</td>\n",
              "    </tr>\n",
              "    <tr>\n",
              "      <th>7</th>\n",
              "      <td>1664</td>\n",
              "      <td>4.169872</td>\n",
              "      <td>Kennebunk Porter</td>\n",
              "    </tr>\n",
              "    <tr>\n",
              "      <th>8</th>\n",
              "      <td>1664</td>\n",
              "      <td>4.169872</td>\n",
              "      <td>Kennebunk Porter</td>\n",
              "    </tr>\n",
              "    <tr>\n",
              "      <th>9</th>\n",
              "      <td>1664</td>\n",
              "      <td>4.169872</td>\n",
              "      <td>Kennebunk Porter</td>\n",
              "    </tr>\n",
              "    <tr>\n",
              "      <th>10</th>\n",
              "      <td>1664</td>\n",
              "      <td>4.169872</td>\n",
              "      <td>Kennebunk Porter</td>\n",
              "    </tr>\n",
              "    <tr>\n",
              "      <th>11</th>\n",
              "      <td>1664</td>\n",
              "      <td>4.169872</td>\n",
              "      <td>Kennebunk Porter</td>\n",
              "    </tr>\n",
              "    <tr>\n",
              "      <th>12</th>\n",
              "      <td>1664</td>\n",
              "      <td>4.169872</td>\n",
              "      <td>Kennebunk Porter</td>\n",
              "    </tr>\n",
              "    <tr>\n",
              "      <th>13</th>\n",
              "      <td>1664</td>\n",
              "      <td>4.169872</td>\n",
              "      <td>Kennebunk Porter</td>\n",
              "    </tr>\n",
              "    <tr>\n",
              "      <th>14</th>\n",
              "      <td>1664</td>\n",
              "      <td>4.169872</td>\n",
              "      <td>Kennebunk Porter</td>\n",
              "    </tr>\n",
              "    <tr>\n",
              "      <th>15</th>\n",
              "      <td>1664</td>\n",
              "      <td>4.169872</td>\n",
              "      <td>Kennebunk Porter</td>\n",
              "    </tr>\n",
              "    <tr>\n",
              "      <th>16</th>\n",
              "      <td>1664</td>\n",
              "      <td>4.169872</td>\n",
              "      <td>Kennebunk Porter</td>\n",
              "    </tr>\n",
              "    <tr>\n",
              "      <th>17</th>\n",
              "      <td>1664</td>\n",
              "      <td>4.169872</td>\n",
              "      <td>Kennebunk Porter</td>\n",
              "    </tr>\n",
              "    <tr>\n",
              "      <th>18</th>\n",
              "      <td>1664</td>\n",
              "      <td>4.169872</td>\n",
              "      <td>Kennebunk Porter</td>\n",
              "    </tr>\n",
              "    <tr>\n",
              "      <th>19</th>\n",
              "      <td>1664</td>\n",
              "      <td>4.169872</td>\n",
              "      <td>Kennebunk Porter</td>\n",
              "    </tr>\n",
              "  </tbody>\n",
              "</table>\n",
              "</div>"
            ],
            "text/plain": [
              "    beer_beerid  review_overall         beer_name\n",
              "0          1664        4.169872  Kennebunk Porter\n",
              "1          1664        4.169872  Kennebunk Porter\n",
              "2          1664        4.169872  Kennebunk Porter\n",
              "3          1664        4.169872  Kennebunk Porter\n",
              "4          1664        4.169872  Kennebunk Porter\n",
              "5          1664        4.169872  Kennebunk Porter\n",
              "6          1664        4.169872  Kennebunk Porter\n",
              "7          1664        4.169872  Kennebunk Porter\n",
              "8          1664        4.169872  Kennebunk Porter\n",
              "9          1664        4.169872  Kennebunk Porter\n",
              "10         1664        4.169872  Kennebunk Porter\n",
              "11         1664        4.169872  Kennebunk Porter\n",
              "12         1664        4.169872  Kennebunk Porter\n",
              "13         1664        4.169872  Kennebunk Porter\n",
              "14         1664        4.169872  Kennebunk Porter\n",
              "15         1664        4.169872  Kennebunk Porter\n",
              "16         1664        4.169872  Kennebunk Porter\n",
              "17         1664        4.169872  Kennebunk Porter\n",
              "18         1664        4.169872  Kennebunk Porter\n",
              "19         1664        4.169872  Kennebunk Porter"
            ]
          },
          "metadata": {
            "tags": []
          },
          "execution_count": 110
        }
      ]
    }
  ]
}