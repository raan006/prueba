{
  "nbformat": 4,
  "nbformat_minor": 0,
  "metadata": {
    "colab": {
      "name": "Plantilla_Prácticas_(Fundamentos_de_Python)Ramon Aviles.ipynb",
      "provenance": []
    },
    "kernelspec": {
      "name": "python3",
      "display_name": "Python 3"
    },
    "accelerator": "GPU"
  },
  "cells": [
    {
      "cell_type": "markdown",
      "metadata": {
        "id": "fm3Vzn3DwOM8"
      },
      "source": [
        "### 📣 Adjunta en cada bloque correspondiente el código de cada una de las prácticas evaluables, **de modo que pueda ser fácilmente ejecutado** para así poder comprobar su correcto funcionamiento."
      ]
    },
    {
      "cell_type": "code",
      "metadata": {
        "id": "0dSg6aijwDQh"
      },
      "source": [
        "import numpy   as np\n",
        "import scipy   as sc\n",
        "import pandas  as pd\n",
        "import sklearn as sk\n",
        "import matplotlib.pyplot as plt"
      ],
      "execution_count": null,
      "outputs": []
    },
    {
      "cell_type": "markdown",
      "metadata": {
        "id": "3cr4wNKUvolc"
      },
      "source": [
        "# Práctica Evaluable Bloque 1"
      ]
    },
    {
      "cell_type": "code",
      "metadata": {
        "id": "yu1KAyv2vuY8",
        "colab": {
          "base_uri": "https://urldefense.com/v3/__https://localhost:8080/__;!!MXQJGYEVCjwd!DN9QGhxL6INWSaoH4xb2QCURWzf0ZL99cvT4VzugzUgBsfggWo0OUg56QvWoiB3jkq6-3KE$ "
        },
        "outputId": "38d7b088-b318-4b9b-a634-5cbbec7ab9c4"
      },
      "source": [
        "# COMIENZA AQUÍ TU CÓDIGO #\n",
        "def crea_matriz(fil,col):\n",
        "  f=-1;c=-1\n",
        "  e_fil=[]\n",
        "  for f in range(fil):\n",
        "    e_col=[]\n",
        "    f+=1\n",
        "    for c in range(col):\n",
        "      c+=1\n",
        "      valor=input('introduzca el valor (%d,%d):'%(f,c))\n",
        "      e_col.append(valor)\n",
        "    e_fil.append(e_col)\n",
        "    matri= np.array(e_fil,int)\n",
        "  return matri\n",
        "A= crea_matriz(2,2)\n",
        "B= crea_matriz(2,2)\n",
        "\n",
        "def multiplicacion_matriz(A, B):\n",
        "    if A.shape == ((2,2)) and B.shape == ((2,2)):\n",
        "      res = True\n",
        "    else:\n",
        "      res = False\n",
        "    if A.shape == B.shape: \n",
        "        res1 = True\n",
        "    else: \n",
        "        res1 = False \n",
        "    if res is True and res1 is True:  \n",
        "        print(\"las matrices son iguales y cuadradas\")\n",
        "        return (A*B)\n",
        "    elif res is False and res1 is True:\n",
        "        print(\"las matrices no son cuadradas pero son iguales\")\n",
        "    elif res is True and res1 is False:\n",
        "      print(\"Las matrices son cuadradas pero no son iguales\")\n",
        "    else:\n",
        "      print(\"las matrices no son iguales ni son cuadradas\") \n",
        "multiplicacion_matriz(A,B)"
      ],
      "execution_count": null,
      "outputs": [
        {
          "output_type": "stream",
          "text": [
            "introduzca el valor (1,1):1\n",
            "introduzca el valor (1,2):1\n",
            "introduzca el valor (2,1):1\n",
            "introduzca el valor (2,2):1\n",
            "introduzca el valor (1,1):1\n",
            "introduzca el valor (1,2):1\n",
            "introduzca el valor (2,1):1\n",
            "introduzca el valor (2,2):1\n",
            "las matrices son iguales y cuadradas\n"
          ],
          "name": "stdout"
        },
        {
          "output_type": "execute_result",
          "data": {
            "text/plain": [
              "array([[1, 1],\n",
              "       [1, 1]])"
            ]
          },
          "metadata": {
            "tags": []
          },
          "execution_count": 119
        }
      ]
    },
    {
      "cell_type": "markdown",
      "metadata": {
        "id": "y_k_E1nzvrX8"
      },
      "source": [
        "# Práctica Evaluable Bloque 2"
      ]
    },
    {
      "cell_type": "code",
      "metadata": {
        "id": "J3WEhXX3v0pR",
        "colab": {
          "base_uri": "https://urldefense.com/v3/__https://localhost:8080/__;!!MXQJGYEVCjwd!DN9QGhxL6INWSaoH4xb2QCURWzf0ZL99cvT4VzugzUgBsfggWo0OUg56QvWoiB3jkq6-3KE$ "
        },
        "outputId": "9ccfd2c5-297a-4fab-851e-5d7e8b51e621"
      },
      "source": [
        "# COMIENZA AQUÍ TU CÓDIGO #\n",
        "import random\n",
        "\n",
        "class puerta:\n",
        "  def __init__(self, premio):\n",
        "        self.premio = premio\n",
        "\n",
        "  def abrir(self):\n",
        "    return self.premio\n",
        "\n",
        "puertas = [puerta(\"coche\"), puerta(\"cabra\"), puerta(\"cabra\")]\n",
        "\n",
        "puerta_seleccionada = random.randint(0,2)\n",
        "\n",
        "puertas.pop(puerta_seleccionada)\n",
        "\n",
        "for n, puerta in enumerate(puertas):\n",
        "  if puerta.abrir() == \"cabra\":\n",
        "    puertas.pop(n)\n",
        "\n",
        "print(puertas[0].abrir() == \"coche\")"
      ],
      "execution_count": null,
      "outputs": [
        {
          "output_type": "stream",
          "text": [
            "False\n"
          ],
          "name": "stdout"
        }
      ]
    },
    {
      "cell_type": "markdown",
      "metadata": {
        "id": "CiWsyLGhvscj"
      },
      "source": [
        "# Práctica Evaluable Bloque 3"
      ]
    },
    {
      "cell_type": "code",
      "metadata": {
        "id": "3Mfhpd37v1kB",
        "colab": {
          "base_uri": "https://urldefense.com/v3/__https://localhost:8080/__;!!MXQJGYEVCjwd!DN9QGhxL6INWSaoH4xb2QCURWzf0ZL99cvT4VzugzUgBsfggWo0OUg56QvWoiB3jkq6-3KE$ ",
          "height": 238
        },
        "outputId": "871f361f-a3ad-4d83-ffd0-3db733c4a236"
      },
      "source": [
        "# COMIENZA AQUÍ TU CÓDIGO #\n",
        "\n",
        "iris = np.loadtxt('./iris.csv', skiprows=1, delimiter=',')  \n",
        "\n"
      ],
      "execution_count": null,
      "outputs": [
        {
          "output_type": "error",
          "ename": "NameError",
          "evalue": "ignored",
          "traceback": [
            "\u001b[0;31m---------------------------------------------------------------------------\u001b[0m",
            "\u001b[0;31mNameError\u001b[0m                                 Traceback (most recent call last)",
            "\u001b[0;32m<ipython-input-60-c052e19f8b39>\u001b[0m in \u001b[0;36m<module>\u001b[0;34m()\u001b[0m\n\u001b[1;32m      3\u001b[0m \u001b[0miris\u001b[0m \u001b[0;34m=\u001b[0m \u001b[0mnp\u001b[0m\u001b[0;34m.\u001b[0m\u001b[0mloadtxt\u001b[0m\u001b[0;34m(\u001b[0m\u001b[0;34m'./iris.csv'\u001b[0m\u001b[0;34m,\u001b[0m \u001b[0mskiprows\u001b[0m\u001b[0;34m=\u001b[0m\u001b[0;36m1\u001b[0m\u001b[0;34m,\u001b[0m \u001b[0mdelimiter\u001b[0m\u001b[0;34m=\u001b[0m\u001b[0;34m','\u001b[0m\u001b[0;34m)\u001b[0m\u001b[0;34m\u001b[0m\u001b[0;34m\u001b[0m\u001b[0m\n\u001b[1;32m      4\u001b[0m \u001b[0;34m\u001b[0m\u001b[0m\n\u001b[0;32m----> 5\u001b[0;31m \u001b[0mx\u001b[0m \u001b[0;34m=\u001b[0m \u001b[0mnp\u001b[0m\u001b[0;34m.\u001b[0m\u001b[0mrandom\u001b[0m\u001b[0;34m.\u001b[0m\u001b[0mrandn\u001b[0m\u001b[0;34m(\u001b[0m\u001b[0mN_points\u001b[0m\u001b[0;34m)\u001b[0m\u001b[0;34m\u001b[0m\u001b[0;34m\u001b[0m\u001b[0m\n\u001b[0m\u001b[1;32m      6\u001b[0m \u001b[0my\u001b[0m \u001b[0;34m=\u001b[0m \u001b[0;36m.4\u001b[0m \u001b[0;34m*\u001b[0m \u001b[0mx\u001b[0m \u001b[0;34m+\u001b[0m \u001b[0mnp\u001b[0m\u001b[0;34m.\u001b[0m\u001b[0mrandom\u001b[0m\u001b[0;34m.\u001b[0m\u001b[0mrandn\u001b[0m\u001b[0;34m(\u001b[0m\u001b[0;36m100000\u001b[0m\u001b[0;34m)\u001b[0m \u001b[0;34m+\u001b[0m \u001b[0;36m5\u001b[0m\u001b[0;34m\u001b[0m\u001b[0;34m\u001b[0m\u001b[0m\n\u001b[1;32m      7\u001b[0m \u001b[0;34m\u001b[0m\u001b[0m\n",
            "\u001b[0;31mNameError\u001b[0m: name 'N_points' is not defined"
          ]
        }
      ]
    },
    {
      "cell_type": "markdown",
      "metadata": {
        "id": "SoGANzaqvtXU"
      },
      "source": [
        "# Práctica Evaluable Bloque 4"
      ]
    },
    {
      "cell_type": "code",
      "metadata": {
        "id": "rkfN2qs8v2DI"
      },
      "source": [
        "# COMIENZA AQUÍ TU CÓDIGO #\n",
        "\n",
        "import pandas  as pd\n",
        "import sklearn as sk\n",
        "from sklearn.neural_network import MLPClassifier\n",
        "\n",
        "#  💡 --- Carga el archivo easy_telco.csv con Pandas. \n",
        "\n",
        "#  💡 --- Visualiza el contenido de la tabla.\n",
        "\n",
        "#  💡 --- Mapea las variables binarias.\n",
        "#  Hay unas cuántas columnas con variables binarias (Female/Male y Yes/No), utiliza la\n",
        "#  función map() de Pandas para sustituir sus valores por 0 y 1.\n",
        "\n",
        "#  💡 --- Visualiza el contenido de la tabla.\n",
        "\n",
        "#  💡 --- Convierte las variables no binarias a binarias.\n",
        "#  Las columnas InternetService, Contract y PaymentMethod contienen más\n",
        "#  de una categoría distinta y por tanto no podemos mapearlas directamente a 0 y 1.\n",
        "#  La estrategia a seguir será usar el método pd.get_dummies(...) que nos convertirá\n",
        "#  cada valor de dicha columna en columnas binarias. Aquí tienes el ejemplo de cómo\n",
        "#  transformar una de estas columnas, comprende el código y realiza lo mismo con las \n",
        "#  restantes.\n",
        "\n",
        "dumm  = pd.get_dummies(telco['InternetService'], prefix='internet_')\n",
        "telco = pd.concat([telco, dumm], axis=1)\n",
        "telco = telco.drop('InternetService', axis=1)\n",
        "\n",
        "# ...\n",
        "\n",
        "#  💡 --- Visualiza el contenido de la tabla.\n",
        "\n",
        "#  💡 --- Elimina la columna customerID pues no aporta información relevante.\n",
        "\n",
        "import sklearn as sk\n",
        "from sklearn.model_selection import train_test_split\n",
        "\n",
        "train_test_split?\n",
        "\n",
        "#  💡 --- Convierte tu tabla de datos a matrices Numpy.\n",
        "#  Create una matriz de datos de entrada, que contenga todas las columnas menos 'Churn'\n",
        "#  y una matriz de salida que sólo contenga a 'Churn'.\n",
        "\n",
        "\n",
        "\n",
        "#  💡 --- Utiliza Sklearn para crear un modelo, entrenarlo y evaluarlo. \n",
        "#  Deberemos de obtener una tasa de acierto superior al 70%.\n",
        "\n",
        "red_neuronal = MLPClassifier(hidden_layer_sizes=(50,), activation='relu', max_iter=2000)  # -- Red neuronal ya creada.\n",
        "\n",
        "#  (Opcional: Para considerar válido la evaluación del modelo, realmente tendríamos\n",
        "#  que valorar si nuestra modelo está generalizando lo aprendido. Para ello es una\n",
        "#  buena práctica crearte una dataset de entrenamiento y otro de prueba. Si quieres\n",
        "#  puedes probar a generarlos con la función train_test_split y volver a entrenar\n",
        "#  y a evaluar a tu modelo.)\n",
        "\n",
        "from sklearn.model_selection import train_test_split\n",
        "\n",
        "# ...\n",
        "\n",
        "red_neuronal = MLPClassifier(hidden_layer_sizes=(50,), activation='relu', max_iter=2000)  # -- Red neuronal ya creada.\n",
        "\n",
        "# ..."
      ],
      "execution_count": null,
      "outputs": []
    }
  ]
}